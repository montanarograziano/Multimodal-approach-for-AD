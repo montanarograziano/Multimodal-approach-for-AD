{
  "cells": [
    {
      "cell_type": "markdown",
      "metadata": {
        "id": "KtrfqNCCNLHQ"
      },
      "source": [
        "# Setting Up the Notebook\n",
        "\n",
        "Before proceeding with the creation of the dataset needed for the experiment, we need to install and import some libraries. More specifically, we need to install the Python library that allows to read NIFTI images (the format in which the PET scans are stored)."
      ]
    },
    {
      "cell_type": "code",
      "execution_count": null,
      "metadata": {},
      "outputs": [],
      "source": [
        "!pip install nibabel p_tqdm 2>&1 >/dev/null"
      ]
    },
    {
      "cell_type": "code",
      "execution_count": null,
      "metadata": {
        "id": "1bQJqE9_AcOg"
      },
      "outputs": [],
      "source": [
        "import glob\n",
        "import re\n",
        "import sys\n",
        "\n",
        "import cv2\n",
        "import matplotlib.pyplot as plt\n",
        "import nibabel as nib\n",
        "import numpy as np\n",
        "import pandas as pd\n",
        "import yaml\n",
        "from p_tqdm import p_uimap"
      ]
    },
    {
      "cell_type": "markdown",
      "metadata": {
        "id": "pKcyS96aNLHW"
      },
      "source": [
        "We can then proceed with the mounting of the Google Drive folder, that will be needed later to actually use the data. Here, we've chosen as mountpoint the `/datasets/drive` folder."
      ]
    },
    {
      "cell_type": "code",
      "execution_count": null,
      "metadata": {
        "colab": {
          "base_uri": "https://localhost:8080/"
        },
        "id": "B0aop65tBOke",
        "outputId": "bcded1e3-5fe4-40b0-c8b2-f19431a9339b"
      },
      "outputs": [
        {
          "name": "stdout",
          "output_type": "stream",
          "text": [
            "Mounted at /datasets/drive\n"
          ]
        }
      ],
      "source": [
        "!mkdir /datasets -p\n",
        "from google.colab import drive\n",
        "\n",
        "drive.mount(\"/datasets/drive\", force_remount=True)"
      ]
    },
    {
      "cell_type": "markdown",
      "metadata": {
        "id": "uhvO4fWlNLHY"
      },
      "source": [
        "We can now set some variables for ensuring the reproducibility of the experiment and the readability of the code. More specifically, we'll set the path to the mounted Google Drive folder that contains the \"raw\" scans, as well as the random seed and a flag that tells if this is the first run of the notebook or not (so that it won't regenerate unneeded CSV files that may be different for each run)."
      ]
    },
    {
      "cell_type": "code",
      "execution_count": null,
      "metadata": {
        "id": "u1RnhDgmA_O2"
      },
      "outputs": [],
      "source": [
        "import os\n",
        "import random\n",
        "from pathlib import Path\n",
        "\n",
        "DATA_DIR = Path(\"Your directory here\")\n",
        "RANDOM_SEED = 1234\n",
        "random.seed(RANDOM_SEED)\n",
        "FIRST_RUN = True"
      ]
    },
    {
      "cell_type": "markdown",
      "metadata": {
        "id": "F3VQG9lvNLHc"
      },
      "source": [
        "# Importing the Data\n",
        "\n",
        "## Importing the CSV data\n",
        "\n",
        "The OASIS 3 dataset provides different CSV files that contain various information about the visits of each patient. Here, we're importing them and we're fixing some of the errors that they contain (e.g., the CSVs implicitly contain information regarding the date and the subject, that we'll make explicit)."
      ]
    },
    {
      "cell_type": "code",
      "execution_count": null,
      "metadata": {
        "id": "sh9bGS6EBZsn"
      },
      "outputs": [],
      "source": [
        "subjects = pd.read_csv(DATA_DIR / \"csv/subjects.csv\")\n",
        "clinical_data = pd.read_csv(DATA_DIR / \"csv/clinical-data.csv\")\n",
        "pet_data = pd.read_csv(DATA_DIR / \"csv/pet.csv\")\n",
        "pup_data = pd.read_csv(DATA_DIR / \"csv/pup.csv\")\n",
        "mri_data = pd.read_csv(DATA_DIR / \"csv/mri.csv\")\n",
        "\n",
        "# By default, the CSVs do not contain some information explicitly\n",
        "# (although the columns have been defined). Thus, here we set them\n",
        "# to usable values.\n",
        "\n",
        "pup_data[\"Date\"] = pup_data[\"PUP_PUPTIMECOURSEDATA ID\"].apply(\n",
        "    lambda s: int(s.split(\"_\")[3][1:])\n",
        ")\n",
        "pup_data[\"Subject\"] = pup_data[\"PUP_PUPTIMECOURSEDATA ID\"].apply(\n",
        "    lambda s: s.split(\"_\")[0]\n",
        ")\n",
        "\n",
        "clinical_data[\"Date\"] = clinical_data[\"ADRC_ADRCCLINICALDATA ID\"].apply(\n",
        "    lambda s: int(s.split(\"_\")[2][1:])\n",
        ")\n",
        "\n",
        "pet_data[\"Tracer\"] = pet_data[\"XNAT_PETSESSIONDATA ID\"].map(lambda x: x.split(\"_\")[1])"
      ]
    },
    {
      "cell_type": "markdown",
      "metadata": {
        "id": "dCNBuVpJNLHg"
      },
      "source": [
        "Thus, the composition of the dataset is as follows:"
      ]
    },
    {
      "cell_type": "code",
      "execution_count": null,
      "metadata": {
        "colab": {
          "base_uri": "https://localhost:8080/"
        },
        "id": "VBF01ErSBDuB",
        "outputId": "f11f3fa1-5b26-4917-c821-82973a72d9d5",
        "scrolled": true
      },
      "outputs": [
        {
          "name": "stdout",
          "output_type": "stream",
          "text": [
            "Number of subjects: 1098\n",
            "Number of MRI scans: 2168\n",
            "Number of PET scans: 1607\n",
            "Number of PUP results: 1352\n"
          ]
        }
      ],
      "source": [
        "print(\"Number of subjects:\", subjects.shape[0])\n",
        "print(\"Number of MRI scans:\", mri_data.shape[0])\n",
        "print(\"Number of PET scans:\", pet_data.shape[0])\n",
        "print(\"Number of PUP results:\", pup_data.shape[0])"
      ]
    },
    {
      "cell_type": "markdown",
      "metadata": {
        "id": "RKHQT8cxNLHh"
      },
      "source": [
        "By looking more in details to the PET scans, the availability of scans for each tracer is as follows:"
      ]
    },
    {
      "cell_type": "code",
      "execution_count": null,
      "metadata": {
        "colab": {
          "base_uri": "https://localhost:8080/"
        },
        "id": "CeNOxj3PCFn_",
        "outputId": "c301cd2d-1646-413a-b724-4af8f8b5c756",
        "scrolled": true
      },
      "outputs": [
        {
          "data": {
            "text/plain": [
              "PIB     999\n",
              "AV45    491\n",
              "FDG     117\n",
              "Name: Tracer, dtype: int64"
            ]
          },
          "execution_count": 13,
          "metadata": {},
          "output_type": "execute_result"
        }
      ],
      "source": [
        "pet_data[\"Tracer\"].value_counts()"
      ]
    },
    {
      "cell_type": "markdown",
      "metadata": {
        "id": "PwjBU9o1NLHi"
      },
      "source": [
        "Or, by grouping amyloid PET scans:"
      ]
    },
    {
      "cell_type": "code",
      "execution_count": null,
      "metadata": {
        "colab": {
          "base_uri": "https://localhost:8080/"
        },
        "id": "8ycx6OufCLDg",
        "outputId": "71c71b92-7f9e-42b6-a159-85b6fa41cc45",
        "scrolled": true
      },
      "outputs": [
        {
          "data": {
            "text/plain": [
              "Amyloid    0.927194\n",
              "FDG        0.072806\n",
              "Name: Tracer, dtype: float64"
            ]
          },
          "execution_count": 14,
          "metadata": {},
          "output_type": "execute_result"
        }
      ],
      "source": [
        "(\n",
        "    pet_data[\"Tracer\"]\n",
        "    .replace(\"PIB|AV45\", \"Amyloid\", regex=True)\n",
        "    .value_counts(normalize=True)\n",
        ")"
      ]
    },
    {
      "cell_type": "markdown",
      "metadata": {
        "id": "cq0vLeGdNLHj"
      },
      "source": [
        "Instead, if we refer to the already pre-processed PET scans, the composition of the dataset is as follows:"
      ]
    },
    {
      "cell_type": "code",
      "execution_count": null,
      "metadata": {
        "colab": {
          "base_uri": "https://localhost:8080/"
        },
        "id": "Cas4ZIV_COlQ",
        "outputId": "93b1df14-f96e-48c3-d38d-ce7ac22abd87"
      },
      "outputs": [
        {
          "data": {
            "text/plain": [
              "PIB     935\n",
              "AV45    417\n",
              "Name: tracer, dtype: int64"
            ]
          },
          "execution_count": 15,
          "metadata": {},
          "output_type": "execute_result"
        }
      ],
      "source": [
        "pup_data[\"tracer\"].value_counts()"
      ]
    },
    {
      "cell_type": "markdown",
      "metadata": {
        "id": "l4oxdWQRCS2N"
      },
      "source": [
        "# Labelling the Data"
      ]
    },
    {
      "cell_type": "markdown",
      "metadata": {
        "id": "8rfH-mybNLHm"
      },
      "source": [
        "The OASIS3 dataset does not contain explicit labels for each PET scan. Thus a labelling phase is needed. We start by using the \"clinical data\" CSV file, that contains at most five differential diagnosis for each visit for each patient. Here, we'll normalize the format by replacing the \"dots\" as empty cells."
      ]
    },
    {
      "cell_type": "code",
      "execution_count": null,
      "metadata": {
        "id": "YFNsBpmkCUpk"
      },
      "outputs": [],
      "source": [
        "clinical_data.replace({\".\": None, np.nan: None}, inplace=True)"
      ]
    },
    {
      "cell_type": "markdown",
      "metadata": {
        "id": "WtSh6Hh8NLHn"
      },
      "source": [
        "We can now simplify the diagnosis by mapping each diagnosis to either 1 (meaning that the patient suffers from Alzheimer's or other similar diseases) or 0 (meaning that the patient is healthy or suffers from different diseases)."
      ]
    },
    {
      "cell_type": "code",
      "execution_count": null,
      "metadata": {
        "id": "d1ah5LChCXio"
      },
      "outputs": [],
      "source": [
        "labels = set()\n",
        "for i in range(1, 6):\n",
        "    labels = labels.union(clinical_data[f\"dx{i}\"].unique())\n",
        "simplified = {\n",
        "    str(k): re.match(\n",
        "        \"^(AD dem|Vasc.*? dem|Frontotemporal dem|other mental retarAD demion|(Active )?DLBD|Active PSNP|Dementia)\",\n",
        "        str(k),\n",
        "        re.I,\n",
        "    )\n",
        "    is not None\n",
        "    for k in labels\n",
        "}\n",
        "simplified = {\n",
        "    k: v or re.match(\"^uncertain.*?dem\", k) is not None for k, v in simplified.items()\n",
        "}\n",
        "# We classify uncertain cases as sick"
      ]
    },
    {
      "cell_type": "markdown",
      "metadata": {
        "id": "Jz4RsE_tNLHo"
      },
      "source": [
        "Thus, by attaching the newly created diagnosis to the original CSV, we obtain the following distribution:"
      ]
    },
    {
      "cell_type": "code",
      "execution_count": null,
      "metadata": {
        "colab": {
          "base_uri": "https://localhost:8080/",
          "height": 303
        },
        "id": "Uneh_vPQCZP-",
        "outputId": "b7840587-a9b5-43b2-aba0-dd90adb14a65",
        "scrolled": true
      },
      "outputs": [
        {
          "data": {
            "text/plain": [
              "False    4691\n",
              "True     1533\n",
              "Name: dementia, dtype: int64"
            ]
          },
          "execution_count": 18,
          "metadata": {},
          "output_type": "execute_result"
        },
        {
          "data": {
            "image/png": "[encoded data removed]",
            "text/plain": [
              "<Figure size 432x288 with 1 Axes>"
            ]
          },
          "metadata": {},
          "output_type": "display_data"
        }
      ],
      "source": [
        "clinical_data[\"dementia\"] = (\n",
        "    clinical_data[[f\"dx{i}\" for i in range(1, 6)]].replace(simplified).any(axis=1)\n",
        ")\n",
        "clinical_data[\"dementia\"].value_counts().plot.pie(autopct=\"%1.1f%%\")\n",
        "clinical_data[\"dementia\"].value_counts()"
      ]
    },
    {
      "cell_type": "markdown",
      "metadata": {
        "id": "VPJGAX9JNLHp"
      },
      "source": [
        "It is clear that, since dementia is a spectrum rather than a symptom, there may be some \"uncertain\" cases:"
      ]
    },
    {
      "cell_type": "code",
      "execution_count": null,
      "metadata": {
        "colab": {
          "base_uri": "https://localhost:8080/",
          "height": 295
        },
        "id": "a04X0ejpCfpx",
        "outputId": "a8308a0a-72c0-425f-de47-86540d22019c"
      },
      "outputs": [
        {
          "data": {
            "image/png": "[encoded data removed]",
            "text/plain": [
              "<Figure size 576x288 with 1 Axes>"
            ]
          },
          "metadata": {},
          "output_type": "display_data"
        }
      ],
      "source": [
        "subj = \"OAS30040\"\n",
        "(\n",
        "    clinical_data.groupby(\"Subject\")\n",
        "    .get_group(subj)\n",
        "    .replace({True: 1, False: 0})\n",
        "    .plot.scatter(x=\"Date\", y=\"dementia\", title=subj, figsize=(8, 4))\n",
        ")\n",
        "plt.show()"
      ]
    },
    {
      "cell_type": "markdown",
      "metadata": {
        "id": "N5khX1cxNLHq"
      },
      "source": [
        "We thus apply a simple algorithm that tries to find and correct any such cases."
      ]
    },
    {
      "cell_type": "code",
      "execution_count": null,
      "metadata": {
        "id": "kcWGufqGCisI"
      },
      "outputs": [],
      "source": [
        "clinical_data = clinical_data.sort_values(by=[\"Subject\", \"Date\"]).reset_index(drop=True)\n",
        "current_subj = None\n",
        "for index, row in clinical_data.iterrows():\n",
        "    if current_subj != row[\"Subject\"]:\n",
        "        current_subj = row[\"Subject\"]\n",
        "        prec = (None, None)  # i-2, i-1\n",
        "        succ = (\n",
        "            clinical_data.at[index + 1, \"dementia\"]\n",
        "            if index + 1 in clinical_data.index\n",
        "            and clinical_data.at[index + 1, \"Subject\"] == current_subj\n",
        "            else None,\n",
        "            clinical_data.at[index + 2, \"dementia\"]\n",
        "            if index + 2 in clinical_data.index\n",
        "            and clinical_data.at[index + 2, \"Subject\"] == current_subj\n",
        "            else None,\n",
        "        )\n",
        "\n",
        "    if row[\"dementia\"] == True:\n",
        "        new = prec[1] or any(succ)\n",
        "    else:\n",
        "        new = any(prec) and any(succ)\n",
        "    clinical_data.at[index, \"dementia\"] = new\n",
        "\n",
        "    prec = (prec[1], new)  # i-1, i\n",
        "    succ = (\n",
        "        succ[1],\n",
        "        clinical_data.at[index + 3, \"dementia\"]\n",
        "        if index + 3 in clinical_data.index\n",
        "        and clinical_data.at[index + 3, \"Subject\"] == current_subj\n",
        "        else None,\n",
        "    )"
      ]
    },
    {
      "cell_type": "markdown",
      "metadata": {
        "id": "_emYlrl-NLHq"
      },
      "source": [
        "Applying this algorithm, the previous example becomes as follows (thus all false negatives have been fixed)."
      ]
    },
    {
      "cell_type": "code",
      "execution_count": null,
      "metadata": {
        "colab": {
          "base_uri": "https://localhost:8080/",
          "height": 295
        },
        "id": "SirHZeKiClb5",
        "outputId": "7f86d9bc-d131-4b09-893b-89cfa3367794",
        "scrolled": true
      },
      "outputs": [
        {
          "data": {
            "image/png": "[encoded data removed]",
            "text/plain": [
              "<Figure size 576x288 with 1 Axes>"
            ]
          },
          "metadata": {},
          "output_type": "display_data"
        }
      ],
      "source": [
        "subj = \"OAS30040\"\n",
        "(\n",
        "    clinical_data.groupby(\"Subject\")\n",
        "    .get_group(subj)\n",
        "    .replace({True: 1, False: 0})\n",
        "    .plot.scatter(x=\"Date\", y=\"dementia\", title=subj, figsize=(8, 4))\n",
        ")\n",
        "plt.show()"
      ]
    },
    {
      "cell_type": "markdown",
      "metadata": {
        "id": "OorTwcTZNLHr"
      },
      "source": [
        "We can finally attach a label to each PET scan by associating the label of the nearest visit in time."
      ]
    },
    {
      "cell_type": "code",
      "execution_count": null,
      "metadata": {
        "colab": {
          "base_uri": "https://localhost:8080/"
        },
        "id": "sGLIdGGECn2L",
        "outputId": "e521d9e3-6dc0-4ead-b16a-17c021034592"
      },
      "outputs": [
        {
          "name": "stderr",
          "output_type": "stream",
          "text": [
            "/usr/local/lib/python3.7/dist-packages/ipykernel_launcher.py:6: SettingWithCopyWarning: \n",
            "A value is trying to be set on a copy of a slice from a DataFrame.\n",
            "Try using .loc[row_indexer,col_indexer] = value instead\n",
            "\n",
            "See the caveats in the documentation: https://pandas.pydata.org/pandas-docs/stable/user_guide/indexing.html#returning-a-view-versus-a-copy\n",
            "  \n"
          ]
        }
      ],
      "source": [
        "labeled_dataset = pup_data.copy()\n",
        "labeled_dataset.drop(\n",
        "    columns=[\n",
        "        \"procType\",\n",
        "        \"model\",\n",
        "        \"templateType\",\n",
        "        \"FSId\",\n",
        "        \"mocoError\",\n",
        "        \"regError\",\n",
        "        \"Centil_fBP_TOT_CORTMEAN\",\n",
        "        \"Centil_fSUVR_TOT_CORTMEAN\",\n",
        "        \"Centil_fBP_rsf_TOT_CORTMEAN\",\n",
        "        \"Centil_fSUVR_rsf_TOT_CORTMEAN\",\n",
        "    ],\n",
        "    inplace=True,\n",
        ")\n",
        "labeled_dataset[\"Label\"] = None\n",
        "for index, row in labeled_dataset.iterrows():\n",
        "    rows_of_subject = clinical_data.loc[clinical_data[\"Subject\"] == row[\"Subject\"]][\n",
        "        [\"Date\", \"dementia\"]\n",
        "    ]\n",
        "    rows_of_subject[\"Date\"] = rows_of_subject[\"Date\"].apply(\n",
        "        lambda x: abs(x - row[\"Date\"])\n",
        "    )\n",
        "    labeled_dataset.at[index, \"Label\"] = (\n",
        "        rows_of_subject.groupby(by=\"Date\", as_index=False)\n",
        "        .any()\n",
        "        .sort_values(by=\"Date\")\n",
        "        .loc[0][\"dementia\"]\n",
        "    )\n",
        "\n",
        "labeled_dataset.to_csv(DATA_DIR / \"csv\" / \"labeled_dataset.csv\")"
      ]
    },
    {
      "cell_type": "markdown",
      "metadata": {
        "id": "gb6vIy_ECsGm"
      },
      "source": [
        "## Dealing with Class Imbalance\n",
        "\n",
        "By plotting the composition of the dataset, it is clear that we're working with an heavily imbalanced dataset."
      ]
    },
    {
      "cell_type": "code",
      "execution_count": null,
      "metadata": {
        "colab": {
          "base_uri": "https://localhost:8080/",
          "height": 303
        },
        "id": "YypS0nJfCq3e",
        "outputId": "c74ca347-2f98-40cf-f15d-1295c8e577c7",
        "scrolled": true
      },
      "outputs": [
        {
          "data": {
            "text/plain": [
              "False    0.900148\n",
              "True     0.099852\n",
              "Name: Label, dtype: float64"
            ]
          },
          "execution_count": 23,
          "metadata": {},
          "output_type": "execute_result"
        },
        {
          "data": {
            "image/png": "[encoded data removed]",
            "text/plain": [
              "<Figure size 432x288 with 1 Axes>"
            ]
          },
          "metadata": {},
          "output_type": "display_data"
        }
      ],
      "source": [
        "labeled_dataset[\"Label\"].value_counts().plot.pie(autopct=\"%1.1f%%\")\n",
        "labeled_dataset[\"Label\"].value_counts(normalize=True)"
      ]
    },
    {
      "cell_type": "code",
      "execution_count": null,
      "metadata": {
        "colab": {
          "base_uri": "https://localhost:8080/"
        },
        "id": "zsFQOkr6Kl-7",
        "outputId": "0d6bc571-1a7d-48ce-e613-b793c8a8c402"
      },
      "outputs": [
        {
          "data": {
            "text/plain": [
              "(1352, 6)"
            ]
          },
          "execution_count": 19,
          "metadata": {},
          "output_type": "execute_result"
        }
      ],
      "source": [
        "labeled_dataset.shape"
      ]
    },
    {
      "cell_type": "markdown",
      "metadata": {
        "id": "-i7w17oXNLHt"
      },
      "source": [
        "To fix this issue, we apply a combination of random undersampling on negative samples and data augmentation on positive samples."
      ]
    },
    {
      "cell_type": "markdown",
      "metadata": {
        "id": "l1zyOCnC1W-N"
      },
      "source": [
        "### Grouping scans by subject"
      ]
    },
    {
      "cell_type": "markdown",
      "metadata": {
        "id": "F053V6RP1kXN"
      },
      "source": [
        "Since many scans are associated to a single subject, in order to avoid future bias at training time, we decide to take only one scan for each subject. More specifically, we take the most recent scan take for a patient."
      ]
    },
    {
      "cell_type": "code",
      "execution_count": null,
      "metadata": {
        "colab": {
          "base_uri": "https://localhost:8080/"
        },
        "id": "jA1yH6ct4wzi",
        "outputId": "f9619e09-cab7-4c1a-dfbc-c55ba258e414"
      },
      "outputs": [
        {
          "data": {
            "text/plain": [
              "False    618\n",
              "True     112\n",
              "Name: Label, dtype: int64"
            ]
          },
          "execution_count": 24,
          "metadata": {},
          "output_type": "execute_result"
        }
      ],
      "source": [
        "new_dataset = labeled_dataset.sort_values([\"Subject\", \"Date\"], ascending=[True, True])\n",
        "new_dataset.drop_duplicates(subset=[\"Subject\"], keep=\"last\", inplace=True)\n",
        "new_dataset[\"Label\"].value_counts()"
      ]
    },
    {
      "cell_type": "markdown",
      "metadata": {
        "id": "DpY4fAUZCw-2"
      },
      "source": [
        "### Random Undersampling\n",
        "\n",
        "We randomly select a subset of negative samples, by making sure that we try and keep as most data on the positive patients as possible. To ensure reproducibility, we save the selected negative samples to a CSV."
      ]
    },
    {
      "cell_type": "code",
      "execution_count": null,
      "metadata": {
        "colab": {
          "base_uri": "https://localhost:8080/"
        },
        "id": "eM0APi2DEahD",
        "outputId": "dcc97380-78e2-47eb-f4da-827837868d7a"
      },
      "outputs": [
        {
          "name": "stdout",
          "output_type": "stream",
          "text": [
            "262\n"
          ]
        }
      ],
      "source": [
        "!ls \"$DATA_DIR/pet/all\" | wc -l"
      ]
    },
    {
      "cell_type": "code",
      "execution_count": null,
      "metadata": {
        "id": "FxOWN3hPCu6M"
      },
      "outputs": [],
      "source": [
        "if FIRST_RUN:\n",
        "    positive = new_dataset.loc[labeled_dataset[\"Label\"] == True]\n",
        "    positive.to_csv(DATA_DIR / \"csv\" / \"new-positive.csv\", index=False)\n",
        "    negative = new_dataset.loc[labeled_dataset[\"Label\"] == False]\n",
        "    negative = negative.sample(n=150, random_state=RANDOM_SEED)\n",
        "    negative.sort_values([\"Subject\"], ascending=[True], inplace=True)\n",
        "    negative.to_csv(DATA_DIR / \"csv\" / \"new-negative.csv\", index=False)\n",
        "\n",
        "    sampled = pd.concat([positive, negative])\n",
        "    sampled.to_csv(DATA_DIR / \"csv\" / \"new_sample.csv\", index=False)\n",
        "else:\n",
        "    sampled = pd.read_csv(DATA_DIR / \"csv\" / \"new_sample.csv\")"
      ]
    },
    {
      "cell_type": "markdown",
      "metadata": {
        "id": "TzxDI1TzNLH2"
      },
      "source": [
        "The modified dataset composition becomes as follows:"
      ]
    },
    {
      "cell_type": "code",
      "execution_count": null,
      "metadata": {
        "colab": {
          "base_uri": "https://localhost:8080/",
          "height": 303
        },
        "id": "n__-T63UC1X8",
        "outputId": "c645fab6-4b21-499e-be22-2be30cf771fe"
      },
      "outputs": [
        {
          "data": {
            "text/plain": [
              "False    150\n",
              "True     112\n",
              "Name: Label, dtype: int64"
            ]
          },
          "execution_count": 26,
          "metadata": {},
          "output_type": "execute_result"
        },
        {
          "data": {
            "image/png": "[encoded data removed]",
            "text/plain": [
              "<Figure size 432x288 with 1 Axes>"
            ]
          },
          "metadata": {},
          "output_type": "display_data"
        }
      ],
      "source": [
        "sampled[\"Label\"].value_counts().plot.pie(autopct=\"%1.1f%%\")\n",
        "sampled[\"Label\"].value_counts()"
      ]
    },
    {
      "cell_type": "markdown",
      "metadata": {
        "id": "zVJAVXJUC3Oh"
      },
      "source": [
        "### Data augmentation\n",
        "\n",
        "To further reduce the unbalancing of the dataset, we augment the positive samples through the means of random rotations and flips."
      ]
    },
    {
      "cell_type": "markdown",
      "metadata": {
        "id": "5Ok1lFYsM-oK"
      },
      "source": [
        "Separating positive and negative scans into different folders\n"
      ]
    },
    {
      "cell_type": "code",
      "execution_count": null,
      "metadata": {
        "colab": {
          "base_uri": "https://localhost:8080/"
        },
        "id": "mRlvq_rxMZCo",
        "outputId": "f97739d7-641f-4507-8e59-6484cde068d1"
      },
      "outputs": [
        {
          "data": {
            "text/plain": [
              "False    148\n",
              "True     105\n",
              "Name: Label, dtype: int64"
            ]
          },
          "execution_count": 32,
          "metadata": {},
          "output_type": "execute_result"
        }
      ],
      "source": [
        "sampled[\"Label\"].value_counts()"
      ]
    },
    {
      "cell_type": "code",
      "execution_count": null,
      "metadata": {
        "colab": {
          "base_uri": "https://localhost:8080/",
          "height": 35
        },
        "id": "DW1kFyf_tLkQ",
        "outputId": "0a232340-1e55-465d-86b0-d1e1fe30c2d4"
      },
      "outputs": [
        {
          "data": {
            "application/vnd.google.colaboratory.intrinsic+json": {
              "type": "string"
            },
            "text/plain": [
              "'OAS30024'"
            ]
          },
          "execution_count": 4,
          "metadata": {},
          "output_type": "execute_result"
        }
      ],
      "source": [
        "sampled = pd.read_csv(DATA_DIR / \"csv\" / \"pet_sample.csv\")\n",
        "pos = sampled[\"Subject\"].loc[sampled[\"Label\"] == True].values\n",
        "neg = sampled[\"Subject\"].loc[sampled[\"Label\"] == False].values\n",
        "pos[0]"
      ]
    },
    {
      "cell_type": "code",
      "execution_count": null,
      "metadata": {
        "colab": {
          "base_uri": "https://localhost:8080/"
        },
        "id": "C44tZgZFMGAx",
        "outputId": "3575b35f-aea3-47b7-e51c-58fa0b9f80ab"
      },
      "outputs": [
        {
          "name": "stdout",
          "output_type": "stream",
          "text": [
            "105 148\n"
          ]
        }
      ],
      "source": [
        "positive = [list(DATA_DIR.glob(f\"pet/all/{s}*.img\")) for s in pos]\n",
        "pos_paths = [p for paths in positive for p in paths]\n",
        "negative = [list(DATA_DIR.glob(f\"pet/all/{s}*.img\")) for s in neg]\n",
        "neg_paths = [n for paths in negative for n in paths]\n",
        "print(len(pos_paths), len(neg_paths))"
      ]
    },
    {
      "cell_type": "code",
      "execution_count": null,
      "metadata": {
        "id": "xJuQhumbt7d_"
      },
      "outputs": [],
      "source": [
        "for p in pos_paths:\n",
        "    !cp \"$p\" \"$DATA_DIR/pet/positive\""
      ]
    },
    {
      "cell_type": "code",
      "execution_count": null,
      "metadata": {
        "id": "l2_X_7qix7qP"
      },
      "outputs": [],
      "source": [
        "for n in neg_paths:\n",
        "    !cp \"$n\" \"$DATA_DIR/pet/negative\""
      ]
    },
    {
      "cell_type": "code",
      "execution_count": null,
      "metadata": {
        "colab": {
          "base_uri": "https://localhost:8080/"
        },
        "id": "-QqxuZweModT",
        "outputId": "7e418734-9d42-41f7-bfef-ed25ddb4fd1c"
      },
      "outputs": [
        {
          "name": "stdout",
          "output_type": "stream",
          "text": [
            "296\n"
          ]
        }
      ],
      "source": [
        "!ls \"$DATA_DIR/pet/negative/\" | wc -l"
      ]
    },
    {
      "cell_type": "code",
      "execution_count": null,
      "metadata": {
        "id": "hq-amj_zC4Y0"
      },
      "outputs": [],
      "source": [
        "from scipy.ndimage.interpolation import rotate\n",
        "\n",
        "\n",
        "# This rotation fills the empty space in the corners with the mean of colours from the corner-patch\n",
        "def rotate_img(img, angle, bg_patch=(5, 5)):\n",
        "    assert len(img.shape) <= 3, \"Incorrect image shape\"\n",
        "    rgb = len(img.shape) == 3\n",
        "    if rgb:\n",
        "        bg_color = np.mean(img[: bg_patch[0], : bg_patch[1], :], axis=(0, 1))\n",
        "    else:\n",
        "        bg_color = np.mean(img[: bg_patch[0], : bg_patch[1]])\n",
        "    img = rotate(img, angle, reshape=False)\n",
        "    mask = [img <= 0, np.any(img <= 0, axis=-1)][rgb]\n",
        "    img[mask] = bg_color\n",
        "    return img\n",
        "\n",
        "\n",
        "def transform(img, fn):\n",
        "    transformed = img.copy()\n",
        "    for f in fn.split(\"|\"):\n",
        "        grp = re.match(r\"^rotate:(-?\\d+?)$\", f)\n",
        "        if grp:\n",
        "            angle = int(grp.group(1))\n",
        "            for i in range(transformed.shape[0]):\n",
        "                transformed[i, :, :] = rotate_img(transformed[i, :, :], angle)\n",
        "        elif f == \"flipv\":\n",
        "            transformed = transformed[:, ::-1, :]\n",
        "        elif f == \"fliph\":\n",
        "            transformed = transformed[:, :, ::-1]\n",
        "        else:\n",
        "            raise ValueError(f\"Illegal 'fn' value '{fn}'\")\n",
        "    return transformed"
      ]
    },
    {
      "cell_type": "markdown",
      "metadata": {
        "id": "kKu__rCpNLH8"
      },
      "source": [
        "To ensure reproducibility, we save in a CSV a list of the randomly selected images that will be modified, as well as with the ordered list of operations that have been applied."
      ]
    },
    {
      "cell_type": "code",
      "execution_count": null,
      "metadata": {
        "colab": {
          "base_uri": "https://localhost:8080/"
        },
        "id": "MyLNlfmnC75N",
        "outputId": "72bc4838-5981-4507-c5b5-c6ee12944334"
      },
      "outputs": [
        {
          "name": "stdout",
          "output_type": "stream",
          "text": [
            "105\n"
          ]
        },
        {
          "name": "stderr",
          "output_type": "stream",
          "text": [
            "/usr/local/lib/python3.7/dist-packages/pandas/core/internals/blocks.py:937: VisibleDeprecationWarning: Creating an ndarray from ragged nested sequences (which is a list-or-tuple of lists-or-tuples-or ndarrays with different lengths or shapes) is deprecated. If you meant to do this, you must specify 'dtype=object' when creating the ndarray.\n",
            "  arr_value = np.asarray(value)\n"
          ]
        }
      ],
      "source": [
        "if FIRST_RUN:\n",
        "    pet_images = list(DATA_DIR.glob(\"pet/positive/*.hdr\"))\n",
        "    print(len(pet_images))\n",
        "    pet_paths = random.sample(pet_images, k=43)\n",
        "    mod_pet_df = pd.DataFrame(\n",
        "        columns=[\"PUP_PUPTIMECOURSEDATA ID\", \"Date\", \"Subject\", \"Label\"],\n",
        "        index=np.arange(0, len(pet_paths)),\n",
        "    )\n",
        "    sampled = pd.read_csv(DATA_DIR / \"csv\" / \"new_sample.csv\")\n",
        "\n",
        "    for i, path in enumerate(pet_paths):\n",
        "        # Need to store both the .nii img and the one with mean,\n",
        "        # so we can use the .nii for saving later\n",
        "        try:\n",
        "            nii_img = nib.load(path)\n",
        "            img = np.mean(nii_img.get_fdata(), axis=3)\n",
        "        except OSError:\n",
        "            print(\"Error in reading\", path, \"(file could be damaged)\", file=sys.stderr)\n",
        "            break\n",
        "        transformation_functions = random.choices(\n",
        "            [\"rotate\", \"flipv\", \"fliph\"],\n",
        "            weights=[0.5, 0.25, 0.25],\n",
        "            k=random.randint(1, 5),\n",
        "        )\n",
        "        transformation_functions = [\n",
        "            s + f\":{random.randrange(-30, 30)}\" if s == \"rotate\" else s\n",
        "            for s in transformation_functions\n",
        "        ]\n",
        "        transform_string = \"|\".join(transformation_functions)\n",
        "        # Get the file name without extension, the Date, the Subject and the transformations (to be replaced with Label)\n",
        "        mod_pet_df.loc[i] = [\n",
        "            os.path.basename(path).split(\".\")[0],\n",
        "            sampled[\"Date\"].loc[\n",
        "                sampled[\"PUP_PUPTIMECOURSEDATA ID\"]\n",
        "                == os.path.basename(path).split(\".\")[0]\n",
        "            ],\n",
        "            os.path.basename(path).split(\"_\")[0],\n",
        "            transform_string,\n",
        "        ]\n",
        "        # Apply the transformation function(s)\n",
        "        transformed_img = transform(np.array(img), transform_string)\n",
        "        to_save_img = nib.Nifti1Image(transformed_img, nii_img.affine)\n",
        "        # Save the new generated image (as: ORIGINALE_modID.4dfp.img)\n",
        "        nib.save(\n",
        "            to_save_img,\n",
        "            DATA_DIR\n",
        "            / \"pet\"\n",
        "            / \"modified\"\n",
        "            / (os.path.basename(path).split(\".\")[0] + f\"_mod{i}.4dfp.nii\"),\n",
        "        )\n",
        "        mod_pet_df.to_csv(DATA_DIR / \"csv/modified-pet.csv\")\n",
        "\n",
        "\n",
        "else:\n",
        "    mod_pet_df = pd.read_csv(DATA_DIR / \"csv\" / \"modified-pet.csv\")"
      ]
    },
    {
      "cell_type": "markdown",
      "metadata": {
        "id": "pVfcWDPKDSUB"
      },
      "source": [
        "# Preparing the data\n",
        "\n",
        "## Resizing the Images\n",
        "\n",
        "To resize the images to a common size, we'll compute a bounding box of the brain (in order to center it) and we'll select the 20 middle slices of each PET scan. Thus, we start by defining a function to compute the bounding box using the Otsu threshold method."
      ]
    },
    {
      "cell_type": "code",
      "execution_count": null,
      "metadata": {
        "id": "1Jt1x-mtDRpg"
      },
      "outputs": [],
      "source": [
        "def find_brain_bounding_box(image):\n",
        "    x, y, w, h = (image.shape[0] + 1, image.shape[1] + 1, -1, -1)\n",
        "    for slice in image.T:\n",
        "        blurred = cv2.GaussianBlur(slice.T, (13, 13), 150)\n",
        "        blurred *= 255.0 / blurred.max()\n",
        "        blurred[np.where(blurred < 0)] = 0\n",
        "        blurred = blurred.astype(np.uint8)\n",
        "        ret, thres = cv2.threshold(blurred, 0, 255, cv2.THRESH_BINARY + cv2.THRESH_OTSU)\n",
        "        blurred_thres = cv2.medianBlur(thres, 5)\n",
        "        contours, hierarchy = cv2.findContours(blurred_thres, 1, 2)\n",
        "        curr_x, curr_y, curr_w, curr_h = cv2.boundingRect(contours[0])\n",
        "        w = max(w, curr_x + curr_w)\n",
        "        h = max(h, curr_y + curr_h)\n",
        "        x = min(x, curr_x)\n",
        "        y = min(y, curr_y)\n",
        "    # provide a small padding around the found box:\n",
        "    x = max(x - 10, 0)\n",
        "    y = max(y - 10, 0)\n",
        "    w = min(w + 10, image.shape[0])\n",
        "    h = min(h + 10, image.shape[1])\n",
        "    return x, y, w, h"
      ]
    },
    {
      "cell_type": "markdown",
      "metadata": {
        "id": "8D_jTDgHNLH-"
      },
      "source": [
        "We then define a function to normalize the images"
      ]
    },
    {
      "cell_type": "code",
      "execution_count": null,
      "metadata": {
        "id": "mT1ePiiwDXwf"
      },
      "outputs": [],
      "source": [
        "def normalize(volume):\n",
        "    \"\"\"Normalize the volume\"\"\"\n",
        "    volume = np.array(volume)\n",
        "    min = volume.min()\n",
        "    max = volume.max()\n",
        "    volume = (volume - min) / (max - min)\n",
        "    volume = volume.astype(\"float32\")\n",
        "    return volume"
      ]
    },
    {
      "cell_type": "markdown",
      "metadata": {
        "id": "d90PYotZNLH_"
      },
      "source": [
        "And we define a function to resize the images to $(128, 128, 50)$ voxels."
      ]
    },
    {
      "cell_type": "code",
      "execution_count": null,
      "metadata": {
        "id": "IjvQWjsWDZyI"
      },
      "outputs": [],
      "source": [
        "def resize_to_input_shape(img):\n",
        "    shape = (128, 128)\n",
        "    n_frames = 50\n",
        "    # Starting index to extract the 50 central frames of the third dimension\n",
        "    index = int(img.shape[2] / 2) - int(n_frames / 2)\n",
        "    final_img = img[:, :, index : index + n_frames]\n",
        "    x, y, w, h = find_brain_bounding_box(final_img)\n",
        "    square_size = max(w - x, h - y)\n",
        "    to_square = square_size - w + x, square_size - h + y\n",
        "    miss_x, miss_y = to_square\n",
        "    x, y = max(int(x - np.floor(miss_x / 2)), 0), max(int(np.floor(y - miss_y / 2)), 0)\n",
        "    w, h = int(np.floor(w + miss_x / 2)), int(np.floor(h + miss_y / 2))\n",
        "    return np.array(\n",
        "        [\n",
        "            # cv2.resize(frame, shape)\n",
        "            cv2.resize(frame[x:w, y:h], shape)\n",
        "            for frame in final_img.T\n",
        "        ]\n",
        "    ).T"
      ]
    },
    {
      "cell_type": "markdown",
      "metadata": {
        "id": "qcugth_vNLH_"
      },
      "source": [
        "Finally, we can define a function that applies all the needed transformations. Note that the PET scans are averaged over the fourth dimensions, so they are treated as 3D volumes."
      ]
    },
    {
      "cell_type": "code",
      "execution_count": null,
      "metadata": {
        "id": "EvG9-SbTDbwu"
      },
      "outputs": [],
      "source": [
        "def process_scan(path):\n",
        "    \"\"\"Read and resize volume\"\"\"\n",
        "    try:\n",
        "        # Read scan\n",
        "        volume = nib.load(path).get_fdata()\n",
        "        if len(volume.shape) == 4:\n",
        "            volume = np.mean(volume, axis=3)\n",
        "        # Normalize\n",
        "        volume = normalize(volume)\n",
        "        # Resize width, height and depth\n",
        "        volume = resize_to_input_shape(volume)\n",
        "        return volume\n",
        "    except OSError:\n",
        "        print(\"Error in reading\", path, \"(file could be damaged)\", file=sys.stderr)\n",
        "        return None"
      ]
    },
    {
      "cell_type": "markdown",
      "metadata": {
        "id": "1_pRSCDRNLIA"
      },
      "source": [
        "We can then load a list of all the PET scans that we'll be loaded"
      ]
    },
    {
      "cell_type": "code",
      "execution_count": null,
      "metadata": {
        "id": "Z1a4ZyevDgkO"
      },
      "outputs": [],
      "source": [
        "pos_pet = [str(s) for s in DATA_DIR.glob(\"pet/positive/*.hdr\")]\n",
        "neg_pet = [str(s) for s in DATA_DIR.glob(\"pet/negative/*.hdr\")]\n",
        "mod_pet = [str(s) for s in DATA_DIR.glob(\"pet/modified/*.nii\")]"
      ]
    },
    {
      "cell_type": "markdown",
      "metadata": {
        "id": "izHyGv3gNLIB"
      },
      "source": [
        "We can print the availability of the scans (note that the dataset is balances as the modified images are only positive)."
      ]
    },
    {
      "cell_type": "code",
      "execution_count": null,
      "metadata": {
        "colab": {
          "base_uri": "https://localhost:8080/"
        },
        "id": "sSXe3JYJc5ll",
        "outputId": "bcd4822a-7109-416c-edac-4d2fabb17cdf",
        "scrolled": true
      },
      "outputs": [
        {
          "name": "stdout",
          "output_type": "stream",
          "text": [
            "Total number of positive PET: 148\n",
            "Total number of negative PET : 148\n"
          ]
        }
      ],
      "source": [
        "print(\"Total number of positive PET:\", (len(pos_pet) + len(mod_pet)))\n",
        "print(\"Total number of negative PET :\", (len(neg_pet)))"
      ]
    },
    {
      "cell_type": "markdown",
      "metadata": {
        "id": "CSx_zmuBNLIB"
      },
      "source": [
        "Before applying the processing functions to all the images in batch, we can test the resizing function on a single image to check if everything works as desired."
      ]
    },
    {
      "cell_type": "code",
      "execution_count": null,
      "metadata": {
        "colab": {
          "base_uri": "https://localhost:8080/",
          "height": 250
        },
        "id": "SoTrUoP_6WMs",
        "outputId": "450542f5-ef45-45b0-a0fe-47fcecd808ec"
      },
      "outputs": [
        {
          "name": "stdout",
          "output_type": "stream",
          "text": [
            "(344, 344, 127)\n",
            "(128, 128, 50)\n"
          ]
        },
        {
          "data": {
            "image/png": "[encoded data removed]",
            "text/plain": [
              "<Figure size 576x576 with 3 Axes>"
            ]
          },
          "metadata": {},
          "output_type": "display_data"
        }
      ],
      "source": [
        "test_img = np.array(nib.load(pos_pet[0]).dataobj)\n",
        "test_img = np.mean(test_img, axis=3)\n",
        "print(test_img.shape)\n",
        "r_pos = process_scan(pos_pet[0])\n",
        "print(r_pos.shape)\n",
        "fig, ax = plt.subplots(1, 3, figsize=(8, 8))\n",
        "ax[0].imshow((np.array(test_img))[:, :, 65])\n",
        "ax[0].set_title(\"original\")\n",
        "index = int(test_img.shape[2] / 2) - int(20 / 2)\n",
        "sliced = test_img[:, :, index : index + 20]\n",
        "rect = find_brain_bounding_box(sliced)\n",
        "ax[1].imshow(\n",
        "    cv2.rectangle(\n",
        "        normalize(sliced[:, :, int(sliced.shape[2] / 2)]),\n",
        "        (rect[0], rect[1]),\n",
        "        (rect[2], rect[3]),\n",
        "        1,\n",
        "        2,\n",
        "    ).get()\n",
        ")\n",
        "ax[1].set_title(\"bounding box\")\n",
        "ax[2].imshow(r_pos[:, :, 10])\n",
        "ax[2].set_title(\"processed\")\n",
        "plt.tight_layout()\n",
        "plt.show()"
      ]
    },
    {
      "cell_type": "markdown",
      "metadata": {
        "id": "itdw30gENLIE"
      },
      "source": [
        "## Generating the CV Folds\n",
        "\n",
        "To reduce the required time in later phases, we can pre-compute the cross-validation folds. We start by splitting the dataset into a train-test set (using the 20% as test split). Note that in the following code the \"test set\" is referred to as \"validation set\" due to a coding error: sadly, due to the size of the final dataset, it is pretty expensive to move and rename the folder and its files."
      ]
    },
    {
      "cell_type": "code",
      "execution_count": null,
      "metadata": {
        "id": "E1nILI-yKoPE"
      },
      "outputs": [],
      "source": [
        "import pickle\n",
        "\n",
        "if FIRST_RUN:\n",
        "    pos_pet = [str(s) for s in DATA_DIR.glob(\"pet/positive/*.hdr\")]\n",
        "    neg_pet = [str(s) for s in DATA_DIR.glob(\"pet/negative/*.hdr\")]\n",
        "    mod_pet = [str(s) for s in DATA_DIR.glob(\"pet/modified/*.nii\")]\n",
        "    # Saving the paths of every scans in text file for faster reading\n",
        "\n",
        "    pet_pos_paths = open(DATA_DIR / \"csv\" / \"pet_pos_paths.txt\", \"wb\")\n",
        "    pickle.dump(pos_pet, pet_pos_paths)\n",
        "    pet_pos_paths.close()\n",
        "\n",
        "    pet_neg_paths = open(DATA_DIR / \"csv\" / \"pet_neg_paths.txt\", \"wb\")\n",
        "    pickle.dump(neg_pet, pet_neg_paths)\n",
        "    pet_neg_paths.close()\n",
        "\n",
        "    pet_mod_paths = open(DATA_DIR / \"csv\" / \"pet_mod_paths.txt\", \"wb\")\n",
        "    pickle.dump(mod_pet, pet_mod_paths)\n",
        "    pet_mod_paths.close()\n",
        "else:\n",
        "    pos_pet = pickle.load(open(DATA_DIR / \"csv\" / \"pet_pos_paths.txt\", \"rb\"))\n",
        "    neg_pet = pickle.load(open(DATA_DIR / \"csv\" / \"pet_neg_paths.txt\", \"rb\"))\n",
        "    mod_pet = pickle.load(open(DATA_DIR / \"csv\" / \"pet_mod_paths.txt\", \"rb\"))"
      ]
    },
    {
      "cell_type": "code",
      "execution_count": null,
      "metadata": {
        "id": "uYBFlOa2OXtm"
      },
      "outputs": [],
      "source": [
        "sample = pd.read_csv(DATA_DIR / \"csv/new_sample.csv\").drop(columns=[\"tracer\"])\n",
        "sample.sort_values([\"Subject\", \"Date\"], inplace=True)\n",
        "sample.drop_duplicates(subset=[\"Subject\"], keep=\"last\", inplace=True)\n",
        "sample = sample[\n",
        "    sample[\"MRId\"].map(\n",
        "        lambda x: x\n",
        "        not in [\n",
        "            \"OAS30031_MR_d0236\",\n",
        "            \"OAS30078_MR_d0136\",\n",
        "            \"OAS30144_MR_d1708\",\n",
        "            \"OAS30650_MR_d1620\",\n",
        "            \"OAS31135_MR_d0096\",\n",
        "            \"OAS31140_MR_d0148\",\n",
        "            \"OAS31171_MR_d0441\",\n",
        "            \"OAS30058_MR_d0836\",\n",
        "            \"OAS30297_MR_d2331\",\n",
        "        ]\n",
        "    )\n",
        "]\n",
        "sample.to_csv(DATA_DIR / \"csv/pet_sample.csv\", index=False)\n",
        "sample"
      ]
    },
    {
      "cell_type": "code",
      "execution_count": null,
      "metadata": {
        "id": "SFBJzjpkLoSg"
      },
      "outputs": [],
      "source": [
        "sample = pd.read_csv(DATA_DIR / \"csv/pet_sample.csv\")\n",
        "sample[\"Label\"].value_counts()\n",
        "sample.sort_values([\"Label\"], ascending=False, inplace=True)"
      ]
    },
    {
      "cell_type": "code",
      "execution_count": null,
      "metadata": {
        "colab": {
          "base_uri": "https://localhost:8080/",
          "height": 206
        },
        "id": "qgVbK54fS49J",
        "outputId": "7a27aa2c-43cf-425e-e817-6eeff595bac1"
      },
      "outputs": [
        {
          "data": {
            "text/html": [
              "\n",
              "  <div id=\"df-68dad8fe-7477-4a6e-9fb5-e7cf746e8bdd\">\n",
              "    <div class=\"colab-df-container\">\n",
              "      <div>\n",
              "<style scoped>\n",
              "    .dataframe tbody tr th:only-of-type {\n",
              "        vertical-align: middle;\n",
              "    }\n",
              "\n",
              "    .dataframe tbody tr th {\n",
              "        vertical-align: top;\n",
              "    }\n",
              "\n",
              "    .dataframe thead th {\n",
              "        text-align: right;\n",
              "    }\n",
              "</style>\n",
              "<table border=\"1\" class=\"dataframe\">\n",
              "  <thead>\n",
              "    <tr style=\"text-align: right;\">\n",
              "      <th></th>\n",
              "      <th>PUP_PUPTIMECOURSEDATA ID</th>\n",
              "      <th>Date</th>\n",
              "      <th>Subject</th>\n",
              "      <th>Label</th>\n",
              "    </tr>\n",
              "  </thead>\n",
              "  <tbody>\n",
              "    <tr>\n",
              "      <th>204</th>\n",
              "      <td>OAS30964_AV45_PUPTIMECOURSE_d3870</td>\n",
              "      <td>3870</td>\n",
              "      <td>OAS30964</td>\n",
              "      <td>True</td>\n",
              "    </tr>\n",
              "    <tr>\n",
              "      <th>137</th>\n",
              "      <td>OAS30662_PIB_PUPTIMECOURSE_d3157</td>\n",
              "      <td>3157</td>\n",
              "      <td>OAS30662</td>\n",
              "      <td>True</td>\n",
              "    </tr>\n",
              "    <tr>\n",
              "      <th>199</th>\n",
              "      <td>OAS30947_PIB_PUPTIMECOURSE_d0840</td>\n",
              "      <td>840</td>\n",
              "      <td>OAS30947</td>\n",
              "      <td>True</td>\n",
              "    </tr>\n",
              "    <tr>\n",
              "      <th>200</th>\n",
              "      <td>OAS30948_AV45_PUPTIMECOURSE_d0076</td>\n",
              "      <td>76</td>\n",
              "      <td>OAS30948</td>\n",
              "      <td>True</td>\n",
              "    </tr>\n",
              "    <tr>\n",
              "      <th>84</th>\n",
              "      <td>OAS30399_PIB_PUPTIMECOURSE_d1184</td>\n",
              "      <td>1184</td>\n",
              "      <td>OAS30399</td>\n",
              "      <td>True</td>\n",
              "    </tr>\n",
              "  </tbody>\n",
              "</table>\n",
              "</div>\n",
              "      <button class=\"colab-df-convert\" onclick=\"convertToInteractive('df-68dad8fe-7477-4a6e-9fb5-e7cf746e8bdd')\"\n",
              "              title=\"Convert this dataframe to an interactive table.\"\n",
              "              style=\"display:none;\">\n",
              "        \n",
              "  <svg xmlns=\"http://www.w3.org/2000/svg\" height=\"24px\"viewBox=\"0 0 24 24\"\n",
              "       width=\"24px\">\n",
              "    <path d=\"M0 0h24v24H0V0z\" fill=\"none\"/>\n",
              "    <path d=\"M18.56 5.44l.94 2.06.94-2.06 2.06-.94-2.06-.94-.94-2.06-.94 2.06-2.06.94zm-11 1L8.5 8.5l.94-2.06 2.06-.94-2.06-.94L8.5 2.5l-.94 2.06-2.06.94zm10 10l.94 2.06.94-2.06 2.06-.94-2.06-.94-.94-2.06-.94 2.06-2.06.94z\"/><path d=\"M17.41 7.96l-1.37-1.37c-.4-.4-.92-.59-1.43-.59-.52 0-1.04.2-1.43.59L10.3 9.45l-7.72 7.72c-.78.78-.78 2.05 0 2.83L4 21.41c.39.39.9.59 1.41.59.51 0 1.02-.2 1.41-.59l7.78-7.78 2.81-2.81c.8-.78.8-2.07 0-2.86zM5.41 20L4 18.59l7.72-7.72 1.47 1.35L5.41 20z\"/>\n",
              "  </svg>\n",
              "      </button>\n",
              "      \n",
              "  <style>\n",
              "    .colab-df-container {\n",
              "      display:flex;\n",
              "      flex-wrap:wrap;\n",
              "      gap: 12px;\n",
              "    }\n",
              "\n",
              "    .colab-df-convert {\n",
              "      background-color: #E8F0FE;\n",
              "      border: none;\n",
              "      border-radius: 50%;\n",
              "      cursor: pointer;\n",
              "      display: none;\n",
              "      fill: #1967D2;\n",
              "      height: 32px;\n",
              "      padding: 0 0 0 0;\n",
              "      width: 32px;\n",
              "    }\n",
              "\n",
              "    .colab-df-convert:hover {\n",
              "      background-color: #E2EBFA;\n",
              "      box-shadow: 0px 1px 2px rgba(60, 64, 67, 0.3), 0px 1px 3px 1px rgba(60, 64, 67, 0.15);\n",
              "      fill: #174EA6;\n",
              "    }\n",
              "\n",
              "    [theme=dark] .colab-df-convert {\n",
              "      background-color: #3B4455;\n",
              "      fill: #D2E3FC;\n",
              "    }\n",
              "\n",
              "    [theme=dark] .colab-df-convert:hover {\n",
              "      background-color: #434B5C;\n",
              "      box-shadow: 0px 1px 3px 1px rgba(0, 0, 0, 0.15);\n",
              "      filter: drop-shadow(0px 1px 2px rgba(0, 0, 0, 0.3));\n",
              "      fill: #FFFFFF;\n",
              "    }\n",
              "  </style>\n",
              "\n",
              "      <script>\n",
              "        const buttonEl =\n",
              "          document.querySelector('#df-68dad8fe-7477-4a6e-9fb5-e7cf746e8bdd button.colab-df-convert');\n",
              "        buttonEl.style.display =\n",
              "          google.colab.kernel.accessAllowed ? 'block' : 'none';\n",
              "\n",
              "        async function convertToInteractive(key) {\n",
              "          const element = document.querySelector('#df-68dad8fe-7477-4a6e-9fb5-e7cf746e8bdd');\n",
              "          const dataTable =\n",
              "            await google.colab.kernel.invokeFunction('convertToInteractive',\n",
              "                                                     [key], {});\n",
              "          if (!dataTable) return;\n",
              "\n",
              "          const docLinkHtml = 'Like what you see? Visit the ' +\n",
              "            '<a target=\"_blank\" href=https://colab.research.google.com/notebooks/data_table.ipynb>data table notebook</a>'\n",
              "            + ' to learn more about interactive tables.';\n",
              "          element.innerHTML = '';\n",
              "          dataTable['output_type'] = 'display_data';\n",
              "          await google.colab.output.renderOutput(dataTable, element);\n",
              "          const docLink = document.createElement('div');\n",
              "          docLink.innerHTML = docLinkHtml;\n",
              "          element.appendChild(docLink);\n",
              "        }\n",
              "      </script>\n",
              "    </div>\n",
              "  </div>\n",
              "  "
            ],
            "text/plain": [
              "              PUP_PUPTIMECOURSEDATA ID  Date   Subject  Label\n",
              "204  OAS30964_AV45_PUPTIMECOURSE_d3870  3870  OAS30964   True\n",
              "137   OAS30662_PIB_PUPTIMECOURSE_d3157  3157  OAS30662   True\n",
              "199   OAS30947_PIB_PUPTIMECOURSE_d0840   840  OAS30947   True\n",
              "200  OAS30948_AV45_PUPTIMECOURSE_d0076    76  OAS30948   True\n",
              "84    OAS30399_PIB_PUPTIMECOURSE_d1184  1184  OAS30399   True"
            ]
          },
          "execution_count": 66,
          "metadata": {},
          "output_type": "execute_result"
        }
      ],
      "source": [
        "sample.head()"
      ]
    },
    {
      "cell_type": "code",
      "execution_count": null,
      "metadata": {
        "id": "fbvQ07JRF050"
      },
      "outputs": [],
      "source": [
        "mod_pet = pd.read_csv(DATA_DIR / \"csv/modified-pet.csv\")\n",
        "mod_pet.drop(columns=[\"Unnamed: 0\"], inplace=True)\n",
        "mod_pet.to_csv(DATA_DIR / \"csv/modified-pet.csv\")\n",
        "mod_pet[\"Label\"] = True"
      ]
    },
    {
      "cell_type": "code",
      "execution_count": null,
      "metadata": {
        "colab": {
          "base_uri": "https://localhost:8080/",
          "height": 206
        },
        "id": "TMtJZH38aJ_R",
        "outputId": "173f4a20-6f03-450a-dd64-a69d53b30451"
      },
      "outputs": [
        {
          "data": {
            "text/html": [
              "\n",
              "  <div id=\"df-a4ca2b81-561a-4f81-a91c-ea0a4a5fd048\">\n",
              "    <div class=\"colab-df-container\">\n",
              "      <div>\n",
              "<style scoped>\n",
              "    .dataframe tbody tr th:only-of-type {\n",
              "        vertical-align: middle;\n",
              "    }\n",
              "\n",
              "    .dataframe tbody tr th {\n",
              "        vertical-align: top;\n",
              "    }\n",
              "\n",
              "    .dataframe thead th {\n",
              "        text-align: right;\n",
              "    }\n",
              "</style>\n",
              "<table border=\"1\" class=\"dataframe\">\n",
              "  <thead>\n",
              "    <tr style=\"text-align: right;\">\n",
              "      <th></th>\n",
              "      <th>PUP_PUPTIMECOURSEDATA ID</th>\n",
              "      <th>Date</th>\n",
              "      <th>Subject</th>\n",
              "      <th>Label</th>\n",
              "    </tr>\n",
              "  </thead>\n",
              "  <tbody>\n",
              "    <tr>\n",
              "      <th>0</th>\n",
              "      <td>OAS30931_PIB_d0489n_moco</td>\n",
              "      <td>Series([], Name: Date, dtype: int64)</td>\n",
              "      <td>OAS30931</td>\n",
              "      <td>True</td>\n",
              "    </tr>\n",
              "    <tr>\n",
              "      <th>1</th>\n",
              "      <td>OAS30784_PIB_d0162n_moco</td>\n",
              "      <td>Series([], Name: Date, dtype: int64)</td>\n",
              "      <td>OAS30784</td>\n",
              "      <td>True</td>\n",
              "    </tr>\n",
              "    <tr>\n",
              "      <th>2</th>\n",
              "      <td>OAS30899_PIB_d2324n_moco</td>\n",
              "      <td>Series([], Name: Date, dtype: int64)</td>\n",
              "      <td>OAS30899</td>\n",
              "      <td>True</td>\n",
              "    </tr>\n",
              "    <tr>\n",
              "      <th>3</th>\n",
              "      <td>OAS30114_AV45_d0086n_moco</td>\n",
              "      <td>Series([], Name: Date, dtype: int64)</td>\n",
              "      <td>OAS30114</td>\n",
              "      <td>True</td>\n",
              "    </tr>\n",
              "    <tr>\n",
              "      <th>4</th>\n",
              "      <td>OAS30472_PIB_d1278n_moco</td>\n",
              "      <td>Series([], Name: Date, dtype: int64)</td>\n",
              "      <td>OAS30472</td>\n",
              "      <td>True</td>\n",
              "    </tr>\n",
              "  </tbody>\n",
              "</table>\n",
              "</div>\n",
              "      <button class=\"colab-df-convert\" onclick=\"convertToInteractive('df-a4ca2b81-561a-4f81-a91c-ea0a4a5fd048')\"\n",
              "              title=\"Convert this dataframe to an interactive table.\"\n",
              "              style=\"display:none;\">\n",
              "        \n",
              "  <svg xmlns=\"http://www.w3.org/2000/svg\" height=\"24px\"viewBox=\"0 0 24 24\"\n",
              "       width=\"24px\">\n",
              "    <path d=\"M0 0h24v24H0V0z\" fill=\"none\"/>\n",
              "    <path d=\"M18.56 5.44l.94 2.06.94-2.06 2.06-.94-2.06-.94-.94-2.06-.94 2.06-2.06.94zm-11 1L8.5 8.5l.94-2.06 2.06-.94-2.06-.94L8.5 2.5l-.94 2.06-2.06.94zm10 10l.94 2.06.94-2.06 2.06-.94-2.06-.94-.94-2.06-.94 2.06-2.06.94z\"/><path d=\"M17.41 7.96l-1.37-1.37c-.4-.4-.92-.59-1.43-.59-.52 0-1.04.2-1.43.59L10.3 9.45l-7.72 7.72c-.78.78-.78 2.05 0 2.83L4 21.41c.39.39.9.59 1.41.59.51 0 1.02-.2 1.41-.59l7.78-7.78 2.81-2.81c.8-.78.8-2.07 0-2.86zM5.41 20L4 18.59l7.72-7.72 1.47 1.35L5.41 20z\"/>\n",
              "  </svg>\n",
              "      </button>\n",
              "      \n",
              "  <style>\n",
              "    .colab-df-container {\n",
              "      display:flex;\n",
              "      flex-wrap:wrap;\n",
              "      gap: 12px;\n",
              "    }\n",
              "\n",
              "    .colab-df-convert {\n",
              "      background-color: #E8F0FE;\n",
              "      border: none;\n",
              "      border-radius: 50%;\n",
              "      cursor: pointer;\n",
              "      display: none;\n",
              "      fill: #1967D2;\n",
              "      height: 32px;\n",
              "      padding: 0 0 0 0;\n",
              "      width: 32px;\n",
              "    }\n",
              "\n",
              "    .colab-df-convert:hover {\n",
              "      background-color: #E2EBFA;\n",
              "      box-shadow: 0px 1px 2px rgba(60, 64, 67, 0.3), 0px 1px 3px 1px rgba(60, 64, 67, 0.15);\n",
              "      fill: #174EA6;\n",
              "    }\n",
              "\n",
              "    [theme=dark] .colab-df-convert {\n",
              "      background-color: #3B4455;\n",
              "      fill: #D2E3FC;\n",
              "    }\n",
              "\n",
              "    [theme=dark] .colab-df-convert:hover {\n",
              "      background-color: #434B5C;\n",
              "      box-shadow: 0px 1px 3px 1px rgba(0, 0, 0, 0.15);\n",
              "      filter: drop-shadow(0px 1px 2px rgba(0, 0, 0, 0.3));\n",
              "      fill: #FFFFFF;\n",
              "    }\n",
              "  </style>\n",
              "\n",
              "      <script>\n",
              "        const buttonEl =\n",
              "          document.querySelector('#df-a4ca2b81-561a-4f81-a91c-ea0a4a5fd048 button.colab-df-convert');\n",
              "        buttonEl.style.display =\n",
              "          google.colab.kernel.accessAllowed ? 'block' : 'none';\n",
              "\n",
              "        async function convertToInteractive(key) {\n",
              "          const element = document.querySelector('#df-a4ca2b81-561a-4f81-a91c-ea0a4a5fd048');\n",
              "          const dataTable =\n",
              "            await google.colab.kernel.invokeFunction('convertToInteractive',\n",
              "                                                     [key], {});\n",
              "          if (!dataTable) return;\n",
              "\n",
              "          const docLinkHtml = 'Like what you see? Visit the ' +\n",
              "            '<a target=\"_blank\" href=https://colab.research.google.com/notebooks/data_table.ipynb>data table notebook</a>'\n",
              "            + ' to learn more about interactive tables.';\n",
              "          element.innerHTML = '';\n",
              "          dataTable['output_type'] = 'display_data';\n",
              "          await google.colab.output.renderOutput(dataTable, element);\n",
              "          const docLink = document.createElement('div');\n",
              "          docLink.innerHTML = docLinkHtml;\n",
              "          element.appendChild(docLink);\n",
              "        }\n",
              "      </script>\n",
              "    </div>\n",
              "  </div>\n",
              "  "
            ],
            "text/plain": [
              "    PUP_PUPTIMECOURSEDATA ID                                  Date   Subject  \\\n",
              "0   OAS30931_PIB_d0489n_moco  Series([], Name: Date, dtype: int64)  OAS30931   \n",
              "1   OAS30784_PIB_d0162n_moco  Series([], Name: Date, dtype: int64)  OAS30784   \n",
              "2   OAS30899_PIB_d2324n_moco  Series([], Name: Date, dtype: int64)  OAS30899   \n",
              "3  OAS30114_AV45_d0086n_moco  Series([], Name: Date, dtype: int64)  OAS30114   \n",
              "4   OAS30472_PIB_d1278n_moco  Series([], Name: Date, dtype: int64)  OAS30472   \n",
              "\n",
              "   Label  \n",
              "0   True  \n",
              "1   True  \n",
              "2   True  \n",
              "3   True  \n",
              "4   True  "
            ]
          },
          "execution_count": 87,
          "metadata": {},
          "output_type": "execute_result"
        }
      ],
      "source": [
        "for i, row in mod_pet.iterrows():\n",
        "    row[\"PUP_PUPTIMECOURSEDATA ID\"] = (\n",
        "        row[\"PUP_PUPTIMECOURSEDATA ID\"] + f\"_mod{i}.4dfp.nii\"\n",
        "    )\n",
        "mod_pet.head()"
      ]
    },
    {
      "cell_type": "code",
      "execution_count": null,
      "metadata": {
        "colab": {
          "base_uri": "https://localhost:8080/",
          "height": 206
        },
        "id": "Wyc0G4rMQy31",
        "outputId": "28f6f9d7-b6be-44f5-af28-a8682eeed33f"
      },
      "outputs": [
        {
          "data": {
            "text/html": [
              "\n",
              "  <div id=\"df-558cb552-5fe9-4f7c-896d-157c3d60d12c\">\n",
              "    <div class=\"colab-df-container\">\n",
              "      <div>\n",
              "<style scoped>\n",
              "    .dataframe tbody tr th:only-of-type {\n",
              "        vertical-align: middle;\n",
              "    }\n",
              "\n",
              "    .dataframe tbody tr th {\n",
              "        vertical-align: top;\n",
              "    }\n",
              "\n",
              "    .dataframe thead th {\n",
              "        text-align: right;\n",
              "    }\n",
              "</style>\n",
              "<table border=\"1\" class=\"dataframe\">\n",
              "  <thead>\n",
              "    <tr style=\"text-align: right;\">\n",
              "      <th></th>\n",
              "      <th>PUP_PUPTIMECOURSEDATA ID</th>\n",
              "      <th>Date</th>\n",
              "      <th>Subject</th>\n",
              "      <th>Label</th>\n",
              "    </tr>\n",
              "  </thead>\n",
              "  <tbody>\n",
              "    <tr>\n",
              "      <th>0</th>\n",
              "      <td>OAS30931_PIB_d0489n_moco</td>\n",
              "      <td>Series([], Name: Date, dtype: int64)</td>\n",
              "      <td>OAS30931</td>\n",
              "      <td>True</td>\n",
              "    </tr>\n",
              "    <tr>\n",
              "      <th>1</th>\n",
              "      <td>OAS30784_PIB_d0162n_moco</td>\n",
              "      <td>Series([], Name: Date, dtype: int64)</td>\n",
              "      <td>OAS30784</td>\n",
              "      <td>True</td>\n",
              "    </tr>\n",
              "    <tr>\n",
              "      <th>2</th>\n",
              "      <td>OAS30899_PIB_d2324n_moco</td>\n",
              "      <td>Series([], Name: Date, dtype: int64)</td>\n",
              "      <td>OAS30899</td>\n",
              "      <td>True</td>\n",
              "    </tr>\n",
              "    <tr>\n",
              "      <th>3</th>\n",
              "      <td>OAS30114_AV45_d0086n_moco</td>\n",
              "      <td>Series([], Name: Date, dtype: int64)</td>\n",
              "      <td>OAS30114</td>\n",
              "      <td>True</td>\n",
              "    </tr>\n",
              "    <tr>\n",
              "      <th>4</th>\n",
              "      <td>OAS30472_PIB_d1278n_moco</td>\n",
              "      <td>Series([], Name: Date, dtype: int64)</td>\n",
              "      <td>OAS30472</td>\n",
              "      <td>True</td>\n",
              "    </tr>\n",
              "  </tbody>\n",
              "</table>\n",
              "</div>\n",
              "      <button class=\"colab-df-convert\" onclick=\"convertToInteractive('df-558cb552-5fe9-4f7c-896d-157c3d60d12c')\"\n",
              "              title=\"Convert this dataframe to an interactive table.\"\n",
              "              style=\"display:none;\">\n",
              "        \n",
              "  <svg xmlns=\"http://www.w3.org/2000/svg\" height=\"24px\"viewBox=\"0 0 24 24\"\n",
              "       width=\"24px\">\n",
              "    <path d=\"M0 0h24v24H0V0z\" fill=\"none\"/>\n",
              "    <path d=\"M18.56 5.44l.94 2.06.94-2.06 2.06-.94-2.06-.94-.94-2.06-.94 2.06-2.06.94zm-11 1L8.5 8.5l.94-2.06 2.06-.94-2.06-.94L8.5 2.5l-.94 2.06-2.06.94zm10 10l.94 2.06.94-2.06 2.06-.94-2.06-.94-.94-2.06-.94 2.06-2.06.94z\"/><path d=\"M17.41 7.96l-1.37-1.37c-.4-.4-.92-.59-1.43-.59-.52 0-1.04.2-1.43.59L10.3 9.45l-7.72 7.72c-.78.78-.78 2.05 0 2.83L4 21.41c.39.39.9.59 1.41.59.51 0 1.02-.2 1.41-.59l7.78-7.78 2.81-2.81c.8-.78.8-2.07 0-2.86zM5.41 20L4 18.59l7.72-7.72 1.47 1.35L5.41 20z\"/>\n",
              "  </svg>\n",
              "      </button>\n",
              "      \n",
              "  <style>\n",
              "    .colab-df-container {\n",
              "      display:flex;\n",
              "      flex-wrap:wrap;\n",
              "      gap: 12px;\n",
              "    }\n",
              "\n",
              "    .colab-df-convert {\n",
              "      background-color: #E8F0FE;\n",
              "      border: none;\n",
              "      border-radius: 50%;\n",
              "      cursor: pointer;\n",
              "      display: none;\n",
              "      fill: #1967D2;\n",
              "      height: 32px;\n",
              "      padding: 0 0 0 0;\n",
              "      width: 32px;\n",
              "    }\n",
              "\n",
              "    .colab-df-convert:hover {\n",
              "      background-color: #E2EBFA;\n",
              "      box-shadow: 0px 1px 2px rgba(60, 64, 67, 0.3), 0px 1px 3px 1px rgba(60, 64, 67, 0.15);\n",
              "      fill: #174EA6;\n",
              "    }\n",
              "\n",
              "    [theme=dark] .colab-df-convert {\n",
              "      background-color: #3B4455;\n",
              "      fill: #D2E3FC;\n",
              "    }\n",
              "\n",
              "    [theme=dark] .colab-df-convert:hover {\n",
              "      background-color: #434B5C;\n",
              "      box-shadow: 0px 1px 3px 1px rgba(0, 0, 0, 0.15);\n",
              "      filter: drop-shadow(0px 1px 2px rgba(0, 0, 0, 0.3));\n",
              "      fill: #FFFFFF;\n",
              "    }\n",
              "  </style>\n",
              "\n",
              "      <script>\n",
              "        const buttonEl =\n",
              "          document.querySelector('#df-558cb552-5fe9-4f7c-896d-157c3d60d12c button.colab-df-convert');\n",
              "        buttonEl.style.display =\n",
              "          google.colab.kernel.accessAllowed ? 'block' : 'none';\n",
              "\n",
              "        async function convertToInteractive(key) {\n",
              "          const element = document.querySelector('#df-558cb552-5fe9-4f7c-896d-157c3d60d12c');\n",
              "          const dataTable =\n",
              "            await google.colab.kernel.invokeFunction('convertToInteractive',\n",
              "                                                     [key], {});\n",
              "          if (!dataTable) return;\n",
              "\n",
              "          const docLinkHtml = 'Like what you see? Visit the ' +\n",
              "            '<a target=\"_blank\" href=https://colab.research.google.com/notebooks/data_table.ipynb>data table notebook</a>'\n",
              "            + ' to learn more about interactive tables.';\n",
              "          element.innerHTML = '';\n",
              "          dataTable['output_type'] = 'display_data';\n",
              "          await google.colab.output.renderOutput(dataTable, element);\n",
              "          const docLink = document.createElement('div');\n",
              "          docLink.innerHTML = docLinkHtml;\n",
              "          element.appendChild(docLink);\n",
              "        }\n",
              "      </script>\n",
              "    </div>\n",
              "  </div>\n",
              "  "
            ],
            "text/plain": [
              "    PUP_PUPTIMECOURSEDATA ID                                  Date   Subject  \\\n",
              "0   OAS30931_PIB_d0489n_moco  Series([], Name: Date, dtype: int64)  OAS30931   \n",
              "1   OAS30784_PIB_d0162n_moco  Series([], Name: Date, dtype: int64)  OAS30784   \n",
              "2   OAS30899_PIB_d2324n_moco  Series([], Name: Date, dtype: int64)  OAS30899   \n",
              "3  OAS30114_AV45_d0086n_moco  Series([], Name: Date, dtype: int64)  OAS30114   \n",
              "4   OAS30472_PIB_d1278n_moco  Series([], Name: Date, dtype: int64)  OAS30472   \n",
              "\n",
              "   Label  \n",
              "0   True  \n",
              "1   True  \n",
              "2   True  \n",
              "3   True  \n",
              "4   True  "
            ]
          },
          "execution_count": 67,
          "metadata": {},
          "output_type": "execute_result"
        }
      ],
      "source": [
        "mod_pet[\"PUP_PUPTIMECOURSEDATA ID\"].map(lambda x: (x + f\"_mod{i}.4dfp.nii\"))"
      ]
    },
    {
      "cell_type": "code",
      "execution_count": null,
      "metadata": {
        "colab": {
          "base_uri": "https://localhost:8080/"
        },
        "id": "nqUskZpQKJ33",
        "outputId": "7c72170b-d3e3-4779-a094-393eac1aa62e"
      },
      "outputs": [
        {
          "name": "stdout",
          "output_type": "stream",
          "text": [
            "False    118\n",
            "True      75\n",
            "Name: Label, dtype: int64\n",
            "True     118\n",
            "False    118\n",
            "Name: Label, dtype: int64\n",
            "True     30\n",
            "False    30\n",
            "Name: Label, dtype: int64\n"
          ]
        }
      ],
      "source": [
        "sample = sample.reset_index()\n",
        "train_pos = sample[:75]\n",
        "test_pos = sample[75:105]\n",
        "train_neg = sample[105:223]\n",
        "test_neg = sample[223:]\n",
        "trainset = pd.concat([train_pos, train_neg])\n",
        "print(trainset[\"Label\"].value_counts())\n",
        "trainset = pd.concat([mod_pet, trainset], ignore_index=True)\n",
        "print(trainset[\"Label\"].value_counts())\n",
        "testset = pd.concat([test_pos, test_neg], ignore_index=True)\n",
        "print(testset[\"Label\"].value_counts())\n",
        "xtrain = trainset\n",
        "xtrain.replace({False: 0, True: 1}, inplace=True)\n",
        "ytrain = xtrain[\"Label\"].to_numpy()\n",
        "xtrain.drop(columns=[\"Label\", \"Date\", \"Subject\"], inplace=True)\n",
        "xtrain = xtrain[\"PUP_PUPTIMECOURSEDATA ID\"].to_numpy()\n",
        "np.save(DATA_DIR / \"pet\" / \"subjects_xtrain.npy\", xtrain)\n",
        "np.save(DATA_DIR / \"pet\" / \"subjects_ytrain.npy\", ytrain)\n",
        "\n",
        "xtest = testset\n",
        "xtest.replace({False: 0, True: 1}, inplace=True)\n",
        "ytest = xtest[\"Label\"].to_numpy()\n",
        "xtest.drop(columns=[\"Label\", \"Date\", \"Subject\"], inplace=True)\n",
        "xtest = xtest[\"PUP_PUPTIMECOURSEDATA ID\"].to_numpy()\n",
        "np.save(DATA_DIR / \"pet\" / \"subjects_xtest.npy\", xtest)\n",
        "np.save(DATA_DIR / \"pet\" / \"subjects_ytest.npy\", ytest)"
      ]
    },
    {
      "cell_type": "code",
      "execution_count": null,
      "metadata": {
        "id": "AB6fEii6sT0g"
      },
      "outputs": [],
      "source": [
        "xtrain = np.load(DATA_DIR / \"pet\" / \"subjects_xtrain.npy\", allow_pickle=True)\n",
        "xtest = np.load(DATA_DIR / \"pet\" / \"subjects_xtest.npy\", allow_pickle=True)\n",
        "new_x_test = list(\n",
        "    (\n",
        "        map(\n",
        "            lambda x: re.sub(\n",
        "                r\"(^OAS\\d+\\_)(AV45|PIB)_PUPTIMECOURSE_(d\\d+)\", r\"\\1\\2_\\3n_moco\", x\n",
        "            ),\n",
        "            xtest,\n",
        "        )\n",
        "    )\n",
        ")\n",
        "new_x_train = list(\n",
        "    (\n",
        "        map(\n",
        "            lambda x: re.sub(\n",
        "                r\"(^OAS\\d+\\_)(AV45|PIB)_PUPTIMECOURSE_(d\\d+)\", r\"\\1\\2_\\3n_moco\", x\n",
        "            ),\n",
        "            xtrain,\n",
        "        )\n",
        "    )\n",
        ")"
      ]
    },
    {
      "cell_type": "code",
      "execution_count": null,
      "metadata": {
        "id": "2mzryY7qPYnl"
      },
      "outputs": [],
      "source": [
        "import pickle\n",
        "\n",
        "xtrain = np.load(DATA_DIR / \"pet\" / \"subjects_xtrain.npy\", allow_pickle=True)\n",
        "xtest = np.load(DATA_DIR / \"pet\" / \"subjects_xtest.npy\", allow_pickle=True)\n",
        "new_x_test = list(\n",
        "    (\n",
        "        map(\n",
        "            lambda x: re.sub(\n",
        "                r\"(^OAS\\d+\\_)(AV45|PIB)_PUPTIMECOURSE_(d\\d+)\", r\"\\1\\2_\\3n_moco\", x\n",
        "            ),\n",
        "            xtest,\n",
        "        )\n",
        "    )\n",
        ")\n",
        "new_x_train = list(\n",
        "    (\n",
        "        map(\n",
        "            lambda x: re.sub(\n",
        "                r\"(^OAS\\d+\\_)(AV45|PIB)_PUPTIMECOURSE_(d\\d+)\", r\"\\1\\2_\\3n_moco\", x\n",
        "            ),\n",
        "            xtrain,\n",
        "        )\n",
        "    )\n",
        ")\n",
        "pos_pet = pickle.load(open(DATA_DIR / \"csv\" / \"pet_pos_paths.txt\", \"rb\"))\n",
        "neg_pet = pickle.load(open(DATA_DIR / \"csv\" / \"pet_neg_paths.txt\", \"rb\"))\n",
        "mod_pet = pickle.load(open(DATA_DIR / \"csv\" / \"pet_mod_paths.txt\", \"rb\"))\n",
        "pet = pos_pet + neg_pet + mod_pet\n",
        "map_pet = [s.split(\"/\")[-1].split(\".\")[0] for s in pet]\n",
        "pet = dict(zip(map_pet, pet))\n",
        "train_paths = list(map(lambda s: pet[s], new_x_train))\n",
        "test_paths = list(map(lambda s: pet[s], new_x_test))"
      ]
    },
    {
      "cell_type": "code",
      "execution_count": null,
      "metadata": {
        "colab": {
          "base_uri": "https://localhost:8080/"
        },
        "id": "bmBKCbHAT7dq",
        "outputId": "4545c2d6-44e2-4e27-de5d-f5f36e9f08eb"
      },
      "outputs": [
        {
          "name": "stdout",
          "output_type": "stream",
          "text": [
            "236 60\n"
          ]
        }
      ],
      "source": [
        "print(len(train_paths), len(test_paths))"
      ]
    },
    {
      "cell_type": "code",
      "execution_count": null,
      "metadata": {
        "id": "F-aOYXmheLfM"
      },
      "outputs": [],
      "source": [
        "# x_train = np.load(DATA_DIR/'pet/xtrain-pickle.npy', allow_pickle=True)\n",
        "x_test = np.load(DATA_DIR / \"pet/xtest-pickle.npy\", allow_pickle=True)\n",
        "x_test.shape\n",
        "# xtrain = np.concatenate(x_train,axis = 2).T\n",
        "# xtest = np.concatenate(x_test,axis = 2).T"
      ]
    },
    {
      "cell_type": "code",
      "execution_count": null,
      "metadata": {
        "colab": {
          "base_uri": "https://localhost:8080/"
        },
        "id": "-bUFR6mPhPZk",
        "outputId": "5f040b03-d79a-428e-f60e-409ed8128ce8"
      },
      "outputs": [
        {
          "data": {
            "text/plain": [
              "(128, 128, 50)"
            ]
          },
          "execution_count": 32,
          "metadata": {},
          "output_type": "execute_result"
        }
      ],
      "source": [
        "a = np.load(DATA_DIR / \"pet/xtest-pickle.npy\", allow_pickle=True)\n",
        "a.shape"
      ]
    },
    {
      "cell_type": "code",
      "execution_count": null,
      "metadata": {
        "id": "ZbCy-h0S1YDA"
      },
      "outputs": [],
      "source": [
        "for i, img in enumerate(test_paths):\n",
        "    x = process_scan(img)\n",
        "    if x.shape[2] == 20 and x is not None:\n",
        "        np.save(DATA_DIR / f\"pet/test/{i}.npy\", x)\n",
        "    else:\n",
        "        print(f\"{i} broken\")"
      ]
    },
    {
      "cell_type": "code",
      "execution_count": null,
      "metadata": {
        "colab": {
          "base_uri": "https://localhost:8080/"
        },
        "id": "KLlxGxTglsWG",
        "outputId": "91f92579-8ca8-4a97-dba9-188fb5b8db7c"
      },
      "outputs": [
        {
          "name": "stdout",
          "output_type": "stream",
          "text": [
            "(128, 128, 50)\n"
          ]
        }
      ],
      "source": [
        "x = process_scan(train_paths[2])\n",
        "i = 2\n",
        "print(x.shape)\n",
        "np.save(DATA_DIR / f\"pet/train/{i}.npy\", x)"
      ]
    },
    {
      "cell_type": "code",
      "execution_count": null,
      "metadata": {
        "colab": {
          "base_uri": "https://localhost:8080/"
        },
        "id": "HPcQjaHgmojq",
        "outputId": "f0af1968-ce0e-42af-a2ba-ed5f1109e5df"
      },
      "outputs": [
        {
          "name": "stdout",
          "output_type": "stream",
          "text": [
            "229\n"
          ]
        }
      ],
      "source": [
        "!ls \"$DATA_DIR/pet/train\" | wc -l"
      ]
    },
    {
      "cell_type": "code",
      "execution_count": null,
      "metadata": {
        "colab": {
          "base_uri": "https://localhost:8080/"
        },
        "id": "JAwWNdZMUlJ0",
        "outputId": "1685d1b4-10fa-431d-e03d-ca134ad116a5"
      },
      "outputs": [
        {
          "name": "stderr",
          "output_type": "stream",
          "text": [
            "Error in reading /datasets/drive/MyDrive/Thesis/data/pet/positive/OAS30355_AV45_d0861n_moco.4dfp.hdr (file could be damaged)\n"
          ]
        },
        {
          "name": "stdout",
          "output_type": "stream",
          "text": [
            "55 broken\n"
          ]
        },
        {
          "name": "stderr",
          "output_type": "stream",
          "text": [
            "Error in reading /datasets/drive/MyDrive/Thesis/data/pet/positive/OAS30510_PIB_d1259n_moco.4dfp.hdr (file could be damaged)\n"
          ]
        },
        {
          "name": "stdout",
          "output_type": "stream",
          "text": [
            "73 broken\n"
          ]
        },
        {
          "name": "stderr",
          "output_type": "stream",
          "text": [
            "Error in reading /datasets/drive/MyDrive/Thesis/data/pet/positive/OAS30901_AV45_d0155n_moco.4dfp.hdr (file could be damaged)\n"
          ]
        },
        {
          "name": "stdout",
          "output_type": "stream",
          "text": [
            "80 broken\n"
          ]
        },
        {
          "name": "stderr",
          "output_type": "stream",
          "text": [
            "Error in reading /datasets/drive/MyDrive/Thesis/data/pet/negative/OAS31022_AV45_d0089n_moco.4dfp.hdr (file could be damaged)\n"
          ]
        },
        {
          "name": "stdout",
          "output_type": "stream",
          "text": [
            "150 broken\n"
          ]
        },
        {
          "name": "stderr",
          "output_type": "stream",
          "text": [
            "Error in reading /datasets/drive/MyDrive/Thesis/data/pet/negative/OAS30279_AV45_d0136n_moco.4dfp.hdr (file could be damaged)\n"
          ]
        },
        {
          "name": "stdout",
          "output_type": "stream",
          "text": [
            "180 broken\n"
          ]
        },
        {
          "name": "stderr",
          "output_type": "stream",
          "text": [
            "Error in reading /datasets/drive/MyDrive/Thesis/data/pet/negative/OAS30220_AV45_d1165n_moco.4dfp.hdr (file could be damaged)\n"
          ]
        },
        {
          "name": "stdout",
          "output_type": "stream",
          "text": [
            "193 broken\n"
          ]
        },
        {
          "name": "stderr",
          "output_type": "stream",
          "text": [
            "Error in reading /datasets/drive/MyDrive/Thesis/data/pet/negative/OAS30105_AV45_d0056n_moco.4dfp.hdr (file could be damaged)\n"
          ]
        },
        {
          "name": "stdout",
          "output_type": "stream",
          "text": [
            "203 broken\n"
          ]
        }
      ],
      "source": [
        "for i, img in enumerate(train_paths):\n",
        "    x = process_scan(img)\n",
        "    if x is not None:\n",
        "        if x.shape[2] == 50:\n",
        "            np.save(DATA_DIR / f\"pet/train/{i}.npy\", x)\n",
        "    else:\n",
        "        print(f\"{i} broken\")"
      ]
    },
    {
      "cell_type": "code",
      "execution_count": null,
      "metadata": {
        "colab": {
          "base_uri": "https://localhost:8080/"
        },
        "id": "s-jx098NrGdk",
        "outputId": "7207c652-a592-429f-9cf1-5473b52a42c0"
      },
      "outputs": [
        {
          "data": {
            "text/plain": [
              "(236,)"
            ]
          },
          "execution_count": 19,
          "metadata": {},
          "output_type": "execute_result"
        }
      ],
      "source": [
        "ytrain = np.load(DATA_DIR / \"pet\" / \"subjects_ytrain.npy\")\n",
        "ytrain.shape"
      ]
    },
    {
      "cell_type": "code",
      "execution_count": null,
      "metadata": {
        "colab": {
          "base_uri": "https://localhost:8080/"
        },
        "id": "NqF1GMyTpc3X",
        "outputId": "e11a6dec-73bd-4367-8776-f90ae38d2e81"
      },
      "outputs": [
        {
          "name": "stdout",
          "output_type": "stream",
          "text": [
            "(11450,)\n"
          ]
        }
      ],
      "source": [
        "yt = np.delete(ytrain, [55, 73, 80, 150, 180, 193, 203])\n",
        "y_train = np.concatenate(list(map(lambda x: [x] * 50, yt)))\n",
        "print(y_train.shape)\n",
        "np.save(DATA_DIR / \"pet/ytrain.npy\", y_train)"
      ]
    },
    {
      "cell_type": "code",
      "execution_count": null,
      "metadata": {
        "id": "BqUKo9-11hhL"
      },
      "outputs": [],
      "source": [
        "# Code for 3D 50 frames\n",
        "train_images = DATA_DIR.glob(\"pet/train/*.npy\")\n",
        "x_train = np.array([np.load(path, allow_pickle=True) for path in train_images])\n",
        "test_images = DATA_DIR.glob(\"pet/test/*.npy\")\n",
        "x_test = np.array([np.load(path, allow_pickle=True) for path in test_images])\n",
        "np.save(DATA_DIR / \"pet/50-xtrain.npy\", x_train)\n",
        "np.save(DATA_DIR / \"pet/50-xtest.npy\", x_test)"
      ]
    },
    {
      "cell_type": "code",
      "execution_count": null,
      "metadata": {
        "colab": {
          "base_uri": "https://localhost:8080/"
        },
        "id": "MnWwakLj241j",
        "outputId": "616df39d-6d01-41bc-c0c5-39ce65951605"
      },
      "outputs": [
        {
          "name": "stdout",
          "output_type": "stream",
          "text": [
            "(236,)\n",
            "(60,)\n"
          ]
        }
      ],
      "source": [
        "y_train = np.load(DATA_DIR / \"pet\" / \"subjects_ytrain.npy\")\n",
        "print(y_train.shape)\n",
        "y_test = np.load(DATA_DIR / \"pet\" / \"subjects_ytest.npy\")\n",
        "yt = np.delete(ytrain, [55, 73, 80, 150, 180, 193, 203])\n",
        "y_train = yt\n",
        "print(y_test.shape)"
      ]
    },
    {
      "cell_type": "code",
      "execution_count": null,
      "metadata": {
        "id": "69co6ugi354i"
      },
      "outputs": [],
      "source": [
        "train_images = DATA_DIR.glob(\"pet/train/*.npy\")\n",
        "x = np.array([np.load(path, allow_pickle=True) for path in train_images])\n",
        "x_train = np.concatenate(x, axis=2).T\n",
        "\n",
        "test_images = DATA_DIR.glob(\"pet/test/*.npy\")\n",
        "z = np.array([np.load(path, allow_pickle=True) for path in test_images])\n",
        "x_test = np.concatenate(z, axis=2).T\n",
        "\n",
        "np.save(DATA_DIR / \"pet/xtrain_arr.npy\", x_train)\n",
        "np.save(DATA_DIR / \"pet/xtest_arr.npy\", x_test)"
      ]
    },
    {
      "cell_type": "code",
      "execution_count": null,
      "metadata": {
        "colab": {
          "base_uri": "https://localhost:8080/"
        },
        "id": "9X9_fMkho1lz",
        "outputId": "25e47ee4-6766-4b5c-e25f-4b12349d7d9b"
      },
      "outputs": [
        {
          "name": "stdout",
          "output_type": "stream",
          "text": [
            "(229, 128, 128, 50) (60, 128, 128, 50) (229,) (60,)\n"
          ]
        }
      ],
      "source": [
        "print(x_train.shape, x_test.shape, y_train.shape, y_test.shape)"
      ]
    },
    {
      "cell_type": "code",
      "execution_count": null,
      "metadata": {
        "id": "6zQYu4973pAk"
      },
      "outputs": [],
      "source": [
        "np.save(DATA_DIR / \"pet/20-xtrain.npy\", train_img)\n",
        "np.save(DATA_DIR / \"pet/20-xtest.npy\", test_img)"
      ]
    },
    {
      "cell_type": "code",
      "execution_count": null,
      "metadata": {
        "id": "lX4yQH91MytG"
      },
      "outputs": [],
      "source": [
        "ytest = np.load(DATA_DIR / \"pet\" / \"subjects_ytest.npy\")\n",
        "ytrain = np.load(DATA_DIR / \"pet\" / \"subjects_ytrain.npy\")\n",
        "y_test = np.concatenate(list(map(lambda x: [x] * 20, ytest)))\n",
        "y_train = np.concatenate(list(map(lambda x: [x] * 20, ytrain)))\n",
        "np.save(DATA_DIR / \"pet/20-ytrain.npy\", y_train)\n",
        "np.save(DATA_DIR / \"pet/20-ytest.npy\", y_test)"
      ]
    },
    {
      "cell_type": "code",
      "execution_count": null,
      "metadata": {
        "id": "r4-P568WukTM"
      },
      "outputs": [],
      "source": [
        "ytest = np.load(DATA_DIR / \"pet\" / \"subjects_ytest.npy\")\n",
        "ytrain = np.load(DATA_DIR / \"pet\" / \"subjects_ytrain.npy\")\n",
        "# test_img = np.array(list(filter(lambda x: x is not None and np.array(x).shape[-1] ==50, p_uimap(process_scan, test_paths))))\n",
        "# x_test = np.concatenate(test_img,axis = 2).T\n",
        "y_test = np.concatenate(list(map(lambda x: [x] * 50, ytest)))\n",
        "np.save(DATA_DIR / \"pet/xtest.npy\", test_img)\n",
        "np.save(DATA_DIR / \"pet/ytest.npy\", y_test)"
      ]
    },
    {
      "cell_type": "code",
      "execution_count": null,
      "metadata": {
        "colab": {
          "base_uri": "https://localhost:8080/",
          "height": 202,
          "referenced_widgets": [
            "7c325c25c2b64bdc8d2c60a6a5801dca",
            "d4314cae6c4a4694b23a1ebefd15ce60",
            "980a5941458745dd942e345430746e11",
            "ae5f294d08534339a9d73205b477a9d2",
            "cd081987c2fc4ad8a861b621333dd72d",
            "9c0e088020dc41fcbaba993bf778a93d",
            "73d4863f41c04bab8d8b6798920b3aaa",
            "df5952e8b8994489b306296c7c53f590",
            "4ae56792ef104021928fc15048d45cec",
            "028663288de147febf5260af64ad2ce3",
            "dd76c7c53be34458971d457ad839d5ce",
            "a1a3192c98e44644a799aa7fb453bd97",
            "88d013df35b045758a37a1b942da9122",
            "d8166bf2a762490c8b1ceb17beae98de",
            "145ba0e96f8d4373b5a17d02d8f60920",
            "81db40caa926443985ec27a347bf1e83",
            "a5bd5344aa584f7588ea5c0e43bf7c9e",
            "74ba6a7c896a49b5826ffd3ff0b40352",
            "2d1a94cafeca4ea3a2e180221e411ebb",
            "25d91b9c7e0e48d4bfabb1fcd35ea190",
            "bc2219ab05d7459284edbe1ba935b804",
            "c986ccd908364bd5bdbd7ec90af461e9"
          ]
        },
        "id": "YtPwHy6-AWF4",
        "outputId": "1e7343e9-72ea-4bda-8519-6a41cb236376"
      },
      "outputs": [],
      "source": [
        "train_img = np.array(\n",
        "    list(\n",
        "        filter(\n",
        "            lambda x: x is not None and np.array(x).shape[-1] == 30,\n",
        "            p_uimap(process_scan, train_paths),\n",
        "        )\n",
        "    )\n",
        ")\n",
        "test_img = np.array(\n",
        "    list(\n",
        "        filter(\n",
        "            lambda x: x is not None and np.array(x).shape[-1] == 30,\n",
        "            p_uimap(process_scan, test_paths),\n",
        "        )\n",
        "    )\n",
        ")"
      ]
    },
    {
      "cell_type": "code",
      "execution_count": null,
      "metadata": {
        "id": "v5cI-mhvJAKb"
      },
      "outputs": [],
      "source": [
        "np.save(DATA_DIR / \"pet/30-xtrain.npy\", train_img)\n",
        "np.save(DATA_DIR / \"pet/30-xtest.npy\", test_img)"
      ]
    },
    {
      "cell_type": "code",
      "execution_count": null,
      "metadata": {
        "id": "qvAhgArxPGe4"
      },
      "outputs": [],
      "source": [
        "train_img = np.array(\n",
        "    list(\n",
        "        filter(\n",
        "            lambda x: x is not None and np.array(x).shape[-1] == 20,\n",
        "            p_uimap(process_scan, train_paths),\n",
        "        )\n",
        "    )\n",
        ")\n",
        "test_img = np.array(\n",
        "    list(\n",
        "        filter(\n",
        "            lambda x: x is not None and np.array(x).shape[-1] == 20,\n",
        "            p_uimap(process_scan, test_paths),\n",
        "        )\n",
        "    )\n",
        ")\n",
        "x_train = np.concatenate(train_img, axis=2).T\n",
        "x_test = np.concatenate(test_img, axis=2).T\n",
        "np.save(DATA_DIR / \"pet/xtrain.npy\", x_train)\n",
        "np.save(DATA_DIR / \"pet/xtest.npy\", test_img)"
      ]
    },
    {
      "cell_type": "code",
      "execution_count": null,
      "metadata": {
        "id": "LLk7aIEWPH_G"
      },
      "outputs": [],
      "source": [
        "y_train = np.concatenate(list(map(lambda x: [x] * 50, ytrain)))\n",
        "y_test = np.concatenate(list(map(lambda x: [x] * 50, ytest)))\n",
        "np.save(DATA_DIR / \"pet/ytrain.npy\", y_train)\n",
        "np.save(DATA_DIR / \"pet/ytest.npy\", y_test)"
      ]
    },
    {
      "cell_type": "code",
      "execution_count": null,
      "metadata": {
        "id": "Rh1nM-syD668"
      },
      "outputs": [],
      "source": [
        "from sklearn.model_selection import train_test_split\n",
        "\n",
        "VAL_SIZE = 0.2\n",
        "x_train, x_val, y_train, y_val = train_test_split(x, y, test_size=VAL_SIZE)\n",
        "\n",
        "base = DATA_DIR / \"pet/folds/validation/\"\n",
        "base.mkdir(parents=True, exist_ok=True)\n",
        "np.save(base / \"xtrain.npy\", x_train)\n",
        "np.save(base / \"xval.npy\", x_val)\n",
        "np.save(base / \"ytrain.npy\", y_train)\n",
        "np.save(base / \"yval.npy\", y_val)"
      ]
    },
    {
      "cell_type": "markdown",
      "metadata": {
        "id": "9uaadTaYNLIG"
      },
      "source": [
        "We can then apply a repeated stratified 10-fold cross validation on the previously created train set by saving each fold to a file. Each fold will then be used as validation set in future steps."
      ]
    },
    {
      "cell_type": "code",
      "execution_count": null,
      "metadata": {
        "id": "kRYa2MjnfH0G"
      },
      "outputs": [],
      "source": [
        "y_test = np.load(DATA_DIR / \"pet\" / \"50-ytest.npy\")\n",
        "y_train = np.load(DATA_DIR / \"pet\" / \"50-ytrain.npy\")\n",
        "x_test = np.load(DATA_DIR / \"pet\" / \"50-xtest.npy\")\n",
        "x_train = np.load(DATA_DIR / \"pet\" / \"50-xtrain.npy\")"
      ]
    },
    {
      "cell_type": "code",
      "execution_count": null,
      "metadata": {
        "colab": {
          "base_uri": "https://localhost:8080/"
        },
        "id": "0T51wmLMfPUh",
        "outputId": "7ffd5bf3-c761-49e6-d09c-40438bbdd6ca"
      },
      "outputs": [
        {
          "name": "stdout",
          "output_type": "stream",
          "text": [
            "(60,) (229,) (229, 128, 128, 20) (60, 128, 128, 20)\n"
          ]
        }
      ],
      "source": [
        "print(y_test.shape, y_train.shape, x_train.shape, x_test.shape)"
      ]
    },
    {
      "cell_type": "code",
      "execution_count": null,
      "metadata": {
        "colab": {
          "base_uri": "https://localhost:8080/"
        },
        "id": "p2OcqBbOEU73",
        "outputId": "6a786a70-abc2-4ec7-8788-1b9904dcad37"
      },
      "outputs": [
        {
          "name": "stdout",
          "output_type": "stream",
          "text": [
            "k = 1\n",
            "k = 2\n",
            "k = 3\n",
            "k = 4\n",
            "k = 5\n",
            "k = 6\n",
            "k = 7\n",
            "k = 8\n",
            "k = 9\n",
            "k = 10\n"
          ]
        }
      ],
      "source": [
        "from sklearn.model_selection import StratifiedKFold\n",
        "\n",
        "base = DATA_DIR / \"pet/3d-folds/20\"\n",
        "kFold = StratifiedKFold(n_splits=10, random_state=RANDOM_SEED, shuffle=True)\n",
        "traintest = kFold.split(x_train, y_train)\n",
        "\n",
        "for k, (train, test) in enumerate(traintest):\n",
        "    print(\"k =\", k + 1)\n",
        "    fold_dir = base / f\"fold-{k + 1}\"\n",
        "    fold_dir.mkdir(parents=True, exist_ok=True)\n",
        "\n",
        "    np.save(fold_dir / \"xtrain.npy\", x_train[train])\n",
        "    np.save(fold_dir / \"ytrain.npy\", y_train[train])\n",
        "    np.save(fold_dir / \"xtest.npy\", x_train[test])\n",
        "    np.save(fold_dir / \"ytest.npy\", y_train[test])"
      ]
    }
  ],
  "metadata": {
    "authors": [
      {
        "name": "Andrea Esposito"
      },
      {
        "name": "Graziano Montanaro"
      }
    ],
    "colab": {
      "machine_shape": "hm",
      "provenance": []
    },
    "kernelspec": {
      "display_name": ".venv",
      "language": "python",
      "name": "python3"
    },
    "language_info": {
      "codemirror_mode": {
        "name": "ipython",
        "version": 3
      },
      "file_extension": ".py",
      "mimetype": "text/x-python",
      "name": "python",
      "nbconvert_exporter": "python",
      "pygments_lexer": "ipython3",
      "version": "3.11.9"
    },
    "subtitle": "Creating the Dataset",
    "title": "Automatic Alzheimer's Disease Diagnosis Using PET Scans: Comparing Different Approaches",
    "widgets": {
      "application/vnd.jupyter.widget-state+json": {
        "028663288de147febf5260af64ad2ce3": {
          "model_module": "@jupyter-widgets/base",
          "model_module_version": "1.2.0",
          "model_name": "LayoutModel",
          "state": {
            "_model_module": "@jupyter-widgets/base",
            "_model_module_version": "1.2.0",
            "_model_name": "LayoutModel",
            "_view_count": null,
            "_view_module": "@jupyter-widgets/base",
            "_view_module_version": "1.2.0",
            "_view_name": "LayoutView",
            "align_content": null,
            "align_items": null,
            "align_self": null,
            "border": null,
            "bottom": null,
            "display": null,
            "flex": null,
            "flex_flow": null,
            "grid_area": null,
            "grid_auto_columns": null,
            "grid_auto_flow": null,
            "grid_auto_rows": null,
            "grid_column": null,
            "grid_gap": null,
            "grid_row": null,
            "grid_template_areas": null,
            "grid_template_columns": null,
            "grid_template_rows": null,
            "height": null,
            "justify_content": null,
            "justify_items": null,
            "left": null,
            "margin": null,
            "max_height": null,
            "max_width": null,
            "min_height": null,
            "min_width": null,
            "object_fit": null,
            "object_position": null,
            "order": null,
            "overflow": null,
            "overflow_x": null,
            "overflow_y": null,
            "padding": null,
            "right": null,
            "top": null,
            "visibility": null,
            "width": null
          }
        },
        "145ba0e96f8d4373b5a17d02d8f60920": {
          "model_module": "@jupyter-widgets/controls",
          "model_module_version": "1.5.0",
          "model_name": "HTMLModel",
          "state": {
            "_dom_classes": [],
            "_model_module": "@jupyter-widgets/controls",
            "_model_module_version": "1.5.0",
            "_model_name": "HTMLModel",
            "_view_count": null,
            "_view_module": "@jupyter-widgets/controls",
            "_view_module_version": "1.5.0",
            "_view_name": "HTMLView",
            "description": "",
            "description_tooltip": null,
            "layout": "IPY_MODEL_bc2219ab05d7459284edbe1ba935b804",
            "placeholder": "​",
            "style": "IPY_MODEL_c986ccd908364bd5bdbd7ec90af461e9",
            "value": " 60/60 [05:11&lt;00:00,  9.04s/it]"
          }
        },
        "25d91b9c7e0e48d4bfabb1fcd35ea190": {
          "model_module": "@jupyter-widgets/controls",
          "model_module_version": "1.5.0",
          "model_name": "ProgressStyleModel",
          "state": {
            "_model_module": "@jupyter-widgets/controls",
            "_model_module_version": "1.5.0",
            "_model_name": "ProgressStyleModel",
            "_view_count": null,
            "_view_module": "@jupyter-widgets/base",
            "_view_module_version": "1.2.0",
            "_view_name": "StyleView",
            "bar_color": null,
            "description_width": ""
          }
        },
        "2d1a94cafeca4ea3a2e180221e411ebb": {
          "model_module": "@jupyter-widgets/base",
          "model_module_version": "1.2.0",
          "model_name": "LayoutModel",
          "state": {
            "_model_module": "@jupyter-widgets/base",
            "_model_module_version": "1.2.0",
            "_model_name": "LayoutModel",
            "_view_count": null,
            "_view_module": "@jupyter-widgets/base",
            "_view_module_version": "1.2.0",
            "_view_name": "LayoutView",
            "align_content": null,
            "align_items": null,
            "align_self": null,
            "border": null,
            "bottom": null,
            "display": null,
            "flex": null,
            "flex_flow": null,
            "grid_area": null,
            "grid_auto_columns": null,
            "grid_auto_flow": null,
            "grid_auto_rows": null,
            "grid_column": null,
            "grid_gap": null,
            "grid_row": null,
            "grid_template_areas": null,
            "grid_template_columns": null,
            "grid_template_rows": null,
            "height": null,
            "justify_content": null,
            "justify_items": null,
            "left": null,
            "margin": null,
            "max_height": null,
            "max_width": null,
            "min_height": null,
            "min_width": null,
            "object_fit": null,
            "object_position": null,
            "order": null,
            "overflow": null,
            "overflow_x": null,
            "overflow_y": null,
            "padding": null,
            "right": null,
            "top": null,
            "visibility": null,
            "width": null
          }
        },
        "4ae56792ef104021928fc15048d45cec": {
          "model_module": "@jupyter-widgets/controls",
          "model_module_version": "1.5.0",
          "model_name": "ProgressStyleModel",
          "state": {
            "_model_module": "@jupyter-widgets/controls",
            "_model_module_version": "1.5.0",
            "_model_name": "ProgressStyleModel",
            "_view_count": null,
            "_view_module": "@jupyter-widgets/base",
            "_view_module_version": "1.2.0",
            "_view_name": "StyleView",
            "bar_color": null,
            "description_width": ""
          }
        },
        "73d4863f41c04bab8d8b6798920b3aaa": {
          "model_module": "@jupyter-widgets/controls",
          "model_module_version": "1.5.0",
          "model_name": "DescriptionStyleModel",
          "state": {
            "_model_module": "@jupyter-widgets/controls",
            "_model_module_version": "1.5.0",
            "_model_name": "DescriptionStyleModel",
            "_view_count": null,
            "_view_module": "@jupyter-widgets/base",
            "_view_module_version": "1.2.0",
            "_view_name": "StyleView",
            "description_width": ""
          }
        },
        "74ba6a7c896a49b5826ffd3ff0b40352": {
          "model_module": "@jupyter-widgets/controls",
          "model_module_version": "1.5.0",
          "model_name": "DescriptionStyleModel",
          "state": {
            "_model_module": "@jupyter-widgets/controls",
            "_model_module_version": "1.5.0",
            "_model_name": "DescriptionStyleModel",
            "_view_count": null,
            "_view_module": "@jupyter-widgets/base",
            "_view_module_version": "1.2.0",
            "_view_name": "StyleView",
            "description_width": ""
          }
        },
        "7c325c25c2b64bdc8d2c60a6a5801dca": {
          "model_module": "@jupyter-widgets/controls",
          "model_module_version": "1.5.0",
          "model_name": "HBoxModel",
          "state": {
            "_dom_classes": [],
            "_model_module": "@jupyter-widgets/controls",
            "_model_module_version": "1.5.0",
            "_model_name": "HBoxModel",
            "_view_count": null,
            "_view_module": "@jupyter-widgets/controls",
            "_view_module_version": "1.5.0",
            "_view_name": "HBoxView",
            "box_style": "",
            "children": [
              "IPY_MODEL_d4314cae6c4a4694b23a1ebefd15ce60",
              "IPY_MODEL_980a5941458745dd942e345430746e11",
              "IPY_MODEL_ae5f294d08534339a9d73205b477a9d2"
            ],
            "layout": "IPY_MODEL_cd081987c2fc4ad8a861b621333dd72d"
          }
        },
        "81db40caa926443985ec27a347bf1e83": {
          "model_module": "@jupyter-widgets/base",
          "model_module_version": "1.2.0",
          "model_name": "LayoutModel",
          "state": {
            "_model_module": "@jupyter-widgets/base",
            "_model_module_version": "1.2.0",
            "_model_name": "LayoutModel",
            "_view_count": null,
            "_view_module": "@jupyter-widgets/base",
            "_view_module_version": "1.2.0",
            "_view_name": "LayoutView",
            "align_content": null,
            "align_items": null,
            "align_self": null,
            "border": null,
            "bottom": null,
            "display": null,
            "flex": null,
            "flex_flow": null,
            "grid_area": null,
            "grid_auto_columns": null,
            "grid_auto_flow": null,
            "grid_auto_rows": null,
            "grid_column": null,
            "grid_gap": null,
            "grid_row": null,
            "grid_template_areas": null,
            "grid_template_columns": null,
            "grid_template_rows": null,
            "height": null,
            "justify_content": null,
            "justify_items": null,
            "left": null,
            "margin": null,
            "max_height": null,
            "max_width": null,
            "min_height": null,
            "min_width": null,
            "object_fit": null,
            "object_position": null,
            "order": null,
            "overflow": null,
            "overflow_x": null,
            "overflow_y": null,
            "padding": null,
            "right": null,
            "top": null,
            "visibility": null,
            "width": null
          }
        },
        "88d013df35b045758a37a1b942da9122": {
          "model_module": "@jupyter-widgets/controls",
          "model_module_version": "1.5.0",
          "model_name": "HTMLModel",
          "state": {
            "_dom_classes": [],
            "_model_module": "@jupyter-widgets/controls",
            "_model_module_version": "1.5.0",
            "_model_name": "HTMLModel",
            "_view_count": null,
            "_view_module": "@jupyter-widgets/controls",
            "_view_module_version": "1.5.0",
            "_view_name": "HTMLView",
            "description": "",
            "description_tooltip": null,
            "layout": "IPY_MODEL_a5bd5344aa584f7588ea5c0e43bf7c9e",
            "placeholder": "​",
            "style": "IPY_MODEL_74ba6a7c896a49b5826ffd3ff0b40352",
            "value": "100%"
          }
        },
        "980a5941458745dd942e345430746e11": {
          "model_module": "@jupyter-widgets/controls",
          "model_module_version": "1.5.0",
          "model_name": "FloatProgressModel",
          "state": {
            "_dom_classes": [],
            "_model_module": "@jupyter-widgets/controls",
            "_model_module_version": "1.5.0",
            "_model_name": "FloatProgressModel",
            "_view_count": null,
            "_view_module": "@jupyter-widgets/controls",
            "_view_module_version": "1.5.0",
            "_view_name": "ProgressView",
            "bar_style": "success",
            "description": "",
            "description_tooltip": null,
            "layout": "IPY_MODEL_df5952e8b8994489b306296c7c53f590",
            "max": 236,
            "min": 0,
            "orientation": "horizontal",
            "style": "IPY_MODEL_4ae56792ef104021928fc15048d45cec",
            "value": 236
          }
        },
        "9c0e088020dc41fcbaba993bf778a93d": {
          "model_module": "@jupyter-widgets/base",
          "model_module_version": "1.2.0",
          "model_name": "LayoutModel",
          "state": {
            "_model_module": "@jupyter-widgets/base",
            "_model_module_version": "1.2.0",
            "_model_name": "LayoutModel",
            "_view_count": null,
            "_view_module": "@jupyter-widgets/base",
            "_view_module_version": "1.2.0",
            "_view_name": "LayoutView",
            "align_content": null,
            "align_items": null,
            "align_self": null,
            "border": null,
            "bottom": null,
            "display": null,
            "flex": null,
            "flex_flow": null,
            "grid_area": null,
            "grid_auto_columns": null,
            "grid_auto_flow": null,
            "grid_auto_rows": null,
            "grid_column": null,
            "grid_gap": null,
            "grid_row": null,
            "grid_template_areas": null,
            "grid_template_columns": null,
            "grid_template_rows": null,
            "height": null,
            "justify_content": null,
            "justify_items": null,
            "left": null,
            "margin": null,
            "max_height": null,
            "max_width": null,
            "min_height": null,
            "min_width": null,
            "object_fit": null,
            "object_position": null,
            "order": null,
            "overflow": null,
            "overflow_x": null,
            "overflow_y": null,
            "padding": null,
            "right": null,
            "top": null,
            "visibility": null,
            "width": null
          }
        },
        "a1a3192c98e44644a799aa7fb453bd97": {
          "model_module": "@jupyter-widgets/controls",
          "model_module_version": "1.5.0",
          "model_name": "HBoxModel",
          "state": {
            "_dom_classes": [],
            "_model_module": "@jupyter-widgets/controls",
            "_model_module_version": "1.5.0",
            "_model_name": "HBoxModel",
            "_view_count": null,
            "_view_module": "@jupyter-widgets/controls",
            "_view_module_version": "1.5.0",
            "_view_name": "HBoxView",
            "box_style": "",
            "children": [
              "IPY_MODEL_88d013df35b045758a37a1b942da9122",
              "IPY_MODEL_d8166bf2a762490c8b1ceb17beae98de",
              "IPY_MODEL_145ba0e96f8d4373b5a17d02d8f60920"
            ],
            "layout": "IPY_MODEL_81db40caa926443985ec27a347bf1e83"
          }
        },
        "a5bd5344aa584f7588ea5c0e43bf7c9e": {
          "model_module": "@jupyter-widgets/base",
          "model_module_version": "1.2.0",
          "model_name": "LayoutModel",
          "state": {
            "_model_module": "@jupyter-widgets/base",
            "_model_module_version": "1.2.0",
            "_model_name": "LayoutModel",
            "_view_count": null,
            "_view_module": "@jupyter-widgets/base",
            "_view_module_version": "1.2.0",
            "_view_name": "LayoutView",
            "align_content": null,
            "align_items": null,
            "align_self": null,
            "border": null,
            "bottom": null,
            "display": null,
            "flex": null,
            "flex_flow": null,
            "grid_area": null,
            "grid_auto_columns": null,
            "grid_auto_flow": null,
            "grid_auto_rows": null,
            "grid_column": null,
            "grid_gap": null,
            "grid_row": null,
            "grid_template_areas": null,
            "grid_template_columns": null,
            "grid_template_rows": null,
            "height": null,
            "justify_content": null,
            "justify_items": null,
            "left": null,
            "margin": null,
            "max_height": null,
            "max_width": null,
            "min_height": null,
            "min_width": null,
            "object_fit": null,
            "object_position": null,
            "order": null,
            "overflow": null,
            "overflow_x": null,
            "overflow_y": null,
            "padding": null,
            "right": null,
            "top": null,
            "visibility": null,
            "width": null
          }
        },
        "ae5f294d08534339a9d73205b477a9d2": {
          "model_module": "@jupyter-widgets/controls",
          "model_module_version": "1.5.0",
          "model_name": "HTMLModel",
          "state": {
            "_dom_classes": [],
            "_model_module": "@jupyter-widgets/controls",
            "_model_module_version": "1.5.0",
            "_model_name": "HTMLModel",
            "_view_count": null,
            "_view_module": "@jupyter-widgets/controls",
            "_view_module_version": "1.5.0",
            "_view_name": "HTMLView",
            "description": "",
            "description_tooltip": null,
            "layout": "IPY_MODEL_028663288de147febf5260af64ad2ce3",
            "placeholder": "​",
            "style": "IPY_MODEL_dd76c7c53be34458971d457ad839d5ce",
            "value": " 236/236 [13:42&lt;00:00,  7.10s/it]"
          }
        },
        "bc2219ab05d7459284edbe1ba935b804": {
          "model_module": "@jupyter-widgets/base",
          "model_module_version": "1.2.0",
          "model_name": "LayoutModel",
          "state": {
            "_model_module": "@jupyter-widgets/base",
            "_model_module_version": "1.2.0",
            "_model_name": "LayoutModel",
            "_view_count": null,
            "_view_module": "@jupyter-widgets/base",
            "_view_module_version": "1.2.0",
            "_view_name": "LayoutView",
            "align_content": null,
            "align_items": null,
            "align_self": null,
            "border": null,
            "bottom": null,
            "display": null,
            "flex": null,
            "flex_flow": null,
            "grid_area": null,
            "grid_auto_columns": null,
            "grid_auto_flow": null,
            "grid_auto_rows": null,
            "grid_column": null,
            "grid_gap": null,
            "grid_row": null,
            "grid_template_areas": null,
            "grid_template_columns": null,
            "grid_template_rows": null,
            "height": null,
            "justify_content": null,
            "justify_items": null,
            "left": null,
            "margin": null,
            "max_height": null,
            "max_width": null,
            "min_height": null,
            "min_width": null,
            "object_fit": null,
            "object_position": null,
            "order": null,
            "overflow": null,
            "overflow_x": null,
            "overflow_y": null,
            "padding": null,
            "right": null,
            "top": null,
            "visibility": null,
            "width": null
          }
        },
        "c986ccd908364bd5bdbd7ec90af461e9": {
          "model_module": "@jupyter-widgets/controls",
          "model_module_version": "1.5.0",
          "model_name": "DescriptionStyleModel",
          "state": {
            "_model_module": "@jupyter-widgets/controls",
            "_model_module_version": "1.5.0",
            "_model_name": "DescriptionStyleModel",
            "_view_count": null,
            "_view_module": "@jupyter-widgets/base",
            "_view_module_version": "1.2.0",
            "_view_name": "StyleView",
            "description_width": ""
          }
        },
        "cd081987c2fc4ad8a861b621333dd72d": {
          "model_module": "@jupyter-widgets/base",
          "model_module_version": "1.2.0",
          "model_name": "LayoutModel",
          "state": {
            "_model_module": "@jupyter-widgets/base",
            "_model_module_version": "1.2.0",
            "_model_name": "LayoutModel",
            "_view_count": null,
            "_view_module": "@jupyter-widgets/base",
            "_view_module_version": "1.2.0",
            "_view_name": "LayoutView",
            "align_content": null,
            "align_items": null,
            "align_self": null,
            "border": null,
            "bottom": null,
            "display": null,
            "flex": null,
            "flex_flow": null,
            "grid_area": null,
            "grid_auto_columns": null,
            "grid_auto_flow": null,
            "grid_auto_rows": null,
            "grid_column": null,
            "grid_gap": null,
            "grid_row": null,
            "grid_template_areas": null,
            "grid_template_columns": null,
            "grid_template_rows": null,
            "height": null,
            "justify_content": null,
            "justify_items": null,
            "left": null,
            "margin": null,
            "max_height": null,
            "max_width": null,
            "min_height": null,
            "min_width": null,
            "object_fit": null,
            "object_position": null,
            "order": null,
            "overflow": null,
            "overflow_x": null,
            "overflow_y": null,
            "padding": null,
            "right": null,
            "top": null,
            "visibility": null,
            "width": null
          }
        },
        "d4314cae6c4a4694b23a1ebefd15ce60": {
          "model_module": "@jupyter-widgets/controls",
          "model_module_version": "1.5.0",
          "model_name": "HTMLModel",
          "state": {
            "_dom_classes": [],
            "_model_module": "@jupyter-widgets/controls",
            "_model_module_version": "1.5.0",
            "_model_name": "HTMLModel",
            "_view_count": null,
            "_view_module": "@jupyter-widgets/controls",
            "_view_module_version": "1.5.0",
            "_view_name": "HTMLView",
            "description": "",
            "description_tooltip": null,
            "layout": "IPY_MODEL_9c0e088020dc41fcbaba993bf778a93d",
            "placeholder": "​",
            "style": "IPY_MODEL_73d4863f41c04bab8d8b6798920b3aaa",
            "value": "100%"
          }
        },
        "d8166bf2a762490c8b1ceb17beae98de": {
          "model_module": "@jupyter-widgets/controls",
          "model_module_version": "1.5.0",
          "model_name": "FloatProgressModel",
          "state": {
            "_dom_classes": [],
            "_model_module": "@jupyter-widgets/controls",
            "_model_module_version": "1.5.0",
            "_model_name": "FloatProgressModel",
            "_view_count": null,
            "_view_module": "@jupyter-widgets/controls",
            "_view_module_version": "1.5.0",
            "_view_name": "ProgressView",
            "bar_style": "success",
            "description": "",
            "description_tooltip": null,
            "layout": "IPY_MODEL_2d1a94cafeca4ea3a2e180221e411ebb",
            "max": 60,
            "min": 0,
            "orientation": "horizontal",
            "style": "IPY_MODEL_25d91b9c7e0e48d4bfabb1fcd35ea190",
            "value": 60
          }
        },
        "dd76c7c53be34458971d457ad839d5ce": {
          "model_module": "@jupyter-widgets/controls",
          "model_module_version": "1.5.0",
          "model_name": "DescriptionStyleModel",
          "state": {
            "_model_module": "@jupyter-widgets/controls",
            "_model_module_version": "1.5.0",
            "_model_name": "DescriptionStyleModel",
            "_view_count": null,
            "_view_module": "@jupyter-widgets/base",
            "_view_module_version": "1.2.0",
            "_view_name": "StyleView",
            "description_width": ""
          }
        },
        "df5952e8b8994489b306296c7c53f590": {
          "model_module": "@jupyter-widgets/base",
          "model_module_version": "1.2.0",
          "model_name": "LayoutModel",
          "state": {
            "_model_module": "@jupyter-widgets/base",
            "_model_module_version": "1.2.0",
            "_model_name": "LayoutModel",
            "_view_count": null,
            "_view_module": "@jupyter-widgets/base",
            "_view_module_version": "1.2.0",
            "_view_name": "LayoutView",
            "align_content": null,
            "align_items": null,
            "align_self": null,
            "border": null,
            "bottom": null,
            "display": null,
            "flex": null,
            "flex_flow": null,
            "grid_area": null,
            "grid_auto_columns": null,
            "grid_auto_flow": null,
            "grid_auto_rows": null,
            "grid_column": null,
            "grid_gap": null,
            "grid_row": null,
            "grid_template_areas": null,
            "grid_template_columns": null,
            "grid_template_rows": null,
            "height": null,
            "justify_content": null,
            "justify_items": null,
            "left": null,
            "margin": null,
            "max_height": null,
            "max_width": null,
            "min_height": null,
            "min_width": null,
            "object_fit": null,
            "object_position": null,
            "order": null,
            "overflow": null,
            "overflow_x": null,
            "overflow_y": null,
            "padding": null,
            "right": null,
            "top": null,
            "visibility": null,
            "width": null
          }
        }
      }
    }
  },
  "nbformat": 4,
  "nbformat_minor": 0
}
