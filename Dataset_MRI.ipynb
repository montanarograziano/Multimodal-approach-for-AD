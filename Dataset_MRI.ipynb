{
  "cells": [
    {
      "cell_type": "markdown",
      "metadata": {
        "id": "KtrfqNCCNLHQ"
      },
      "source": [
        "# Setting Up the Notebook\n",
        "\n",
        "Before proceeding with the creation of the dataset needed for the experiment, we need to install and import some libraries. More specifically, we need to install the Python library that allows to read NIFTI images (the format in which the PET scans are stored)."
      ]
    },
    {
      "cell_type": "code",
      "execution_count": null,
      "metadata": {
        "id": "1bQJqE9_AcOg"
      },
      "outputs": [],
      "source": [
        "!pip install nibabel p_tqdm 2>&1 >/dev/null\n",
        "\n",
        "from p_tqdm import p_uimap\n",
        "import numpy as np\n",
        "import nibabel as nib\n",
        "import matplotlib.pyplot as plt\n",
        "import glob\n",
        "import pandas as pd\n",
        "import sys\n",
        "import re\n",
        "import yaml\n",
        "import cv2"
      ]
    },
    {
      "cell_type": "markdown",
      "metadata": {
        "id": "pKcyS96aNLHW"
      },
      "source": [
        "We can then proceed with the mounting of the Google Drive folder, that will be needed later to actually use the data. Here, we've chosen as mountpoint the `/datasets/drive` folder."
      ]
    },
    {
      "cell_type": "code",
      "execution_count": null,
      "metadata": {
        "colab": {
          "base_uri": "https://localhost:8080/"
        },
        "id": "B0aop65tBOke",
        "outputId": "e32e1ce0-642b-4182-db9f-7492a24ca3dc"
      },
      "outputs": [
        {
          "name": "stdout",
          "output_type": "stream",
          "text": [
            "Mounted at /datasets/drive\n"
          ]
        }
      ],
      "source": [
        "!mkdir /datasets -p\n",
        "from google.colab import drive\n",
        "drive.mount('/datasets/drive', force_remount=True)"
      ]
    },
    {
      "cell_type": "markdown",
      "metadata": {
        "id": "uhvO4fWlNLHY"
      },
      "source": [
        "We can now set some variables for ensuring the reproducibility of the experiment and the readability of the code. More specifically, we'll set the path to the mounted Google Drive folder that contains the \"raw\" scans, as well as the random seed and a flag that tells if this is the first run of the notebook or not (so that it won't regenerate unneeded CSV files that may be different for each run)."
      ]
    },
    {
      "cell_type": "code",
      "execution_count": null,
      "metadata": {
        "id": "u1RnhDgmA_O2"
      },
      "outputs": [],
      "source": [
        "import os\n",
        "import random\n",
        "from pathlib import Path\n",
        "DATA_DIR = Path(\"Your directory here\")\n",
        "RANDOM_SEED = 1234\n",
        "random.seed(RANDOM_SEED)\n",
        "FIRST_RUN = True"
      ]
    },
    {
      "cell_type": "markdown",
      "metadata": {
        "id": "F3VQG9lvNLHc"
      },
      "source": [
        "# Importing the Data\n",
        "\n",
        "## Importing the CSV data\n",
        "\n",
        "The OASIS 3 dataset provides different CSV files that contain various information about the visits of each patient. Here, we're importing them and we're fixing some of the errors that they contain (e.g., the CSVs implicitly contain information regarding the date and the subject, that we'll make explicit)."
      ]
    },
    {
      "cell_type": "code",
      "execution_count": null,
      "metadata": {
        "id": "sh9bGS6EBZsn"
      },
      "outputs": [],
      "source": [
        "subjects = pd.read_csv(DATA_DIR / 'csv/subjects.csv')\n",
        "clinical_data = pd.read_csv(DATA_DIR / 'csv/clinical-data.csv')\n",
        "pet_data = pd.read_csv(DATA_DIR / 'csv/pet.csv')\n",
        "pup_data = pd.read_csv(DATA_DIR / 'csv/pup.csv')\n",
        "mri_data = pd.read_csv(DATA_DIR / 'csv/mri.csv')\n",
        "\n",
        "# By default, the CSVs do not contain some information explicitly\n",
        "# (although the columns have been defined). Thus, here we set them\n",
        "# to usable values.\n",
        "\n",
        "pup_data['Date'] = (pup_data['PUP_PUPTIMECOURSEDATA ID']\n",
        "                        .apply(lambda s: int(s.split('_')[3][1:])))\n",
        "pup_data['Subject'] = (pup_data['PUP_PUPTIMECOURSEDATA ID']\n",
        "                           .apply(lambda s: s.split('_')[0]))\n",
        "\n",
        "clinical_data['Date'] = (clinical_data['ADRC_ADRCCLINICALDATA ID']\n",
        "                             .apply(lambda s: int(s.split('_')[2][1:])))\n",
        "\n",
        "pet_data['Tracer'] = (pet_data['XNAT_PETSESSIONDATA ID']\n",
        "                          .map(lambda x: x.split('_')[1]))"
      ]
    },
    {
      "cell_type": "markdown",
      "metadata": {
        "id": "dCNBuVpJNLHg"
      },
      "source": [
        "Thus, the composition of the dataset is as follows:"
      ]
    },
    {
      "cell_type": "code",
      "execution_count": null,
      "metadata": {
        "colab": {
          "base_uri": "https://localhost:8080/"
        },
        "id": "VBF01ErSBDuB",
        "outputId": "1095c7e7-7934-4609-c769-4b4c815a6eed",
        "scrolled": true
      },
      "outputs": [
        {
          "name": "stdout",
          "output_type": "stream",
          "text": [
            "Number of subjects: 1098\n",
            "Number of MRI scans: 2168\n",
            "Number of PET scans: 1607\n",
            "Number of PUP results: 1352\n"
          ]
        }
      ],
      "source": [
        "print(\"Number of subjects:\", subjects.shape[0])\n",
        "print(\"Number of MRI scans:\", mri_data.shape[0])\n",
        "print(\"Number of PET scans:\", pet_data.shape[0])\n",
        "print(\"Number of PUP results:\", pup_data.shape[0])"
      ]
    },
    {
      "cell_type": "code",
      "execution_count": null,
      "metadata": {
        "colab": {
          "base_uri": "https://localhost:8080/"
        },
        "id": "Cas4ZIV_COlQ",
        "outputId": "51afbe0e-9599-4947-f85a-5eaf91d1190b"
      },
      "outputs": [
        {
          "data": {
            "text/plain": [
              "PIB     935\n",
              "AV45    417\n",
              "Name: tracer, dtype: int64"
            ]
          },
          "execution_count": 6,
          "metadata": {},
          "output_type": "execute_result"
        }
      ],
      "source": [
        "pup_data['tracer'].value_counts()"
      ]
    },
    {
      "cell_type": "markdown",
      "metadata": {
        "id": "l4oxdWQRCS2N"
      },
      "source": [
        "# Labelling the Data"
      ]
    },
    {
      "cell_type": "markdown",
      "metadata": {
        "id": "8rfH-mybNLHm"
      },
      "source": [
        "The OASIS3 dataset does not contain explicit labels for each PET scan. Thus a labelling phase is needed. We start by using the \"clinical data\" CSV file, that contains at most five differential diagnosis for each visit for each patient. Here, we'll normalize the format by replacing the \"dots\" as empty cells."
      ]
    },
    {
      "cell_type": "code",
      "execution_count": null,
      "metadata": {
        "id": "YFNsBpmkCUpk"
      },
      "outputs": [],
      "source": [
        "clinical_data.replace({'.': None, np.nan: None}, inplace=True)"
      ]
    },
    {
      "cell_type": "markdown",
      "metadata": {
        "id": "WtSh6Hh8NLHn"
      },
      "source": [
        "We can now simplify the diagnosis by mapping each diagnosis to either 1 (meaning that the patient suffers from Alzheimer's or other similar diseases) or 0 (meaning that the patient is healthy or suffers from different diseases)."
      ]
    },
    {
      "cell_type": "code",
      "execution_count": null,
      "metadata": {
        "id": "d1ah5LChCXio"
      },
      "outputs": [],
      "source": [
        "labels = set()  \n",
        "for i in range(1, 6):\n",
        "    labels = labels.union(clinical_data[f'dx{i}'].unique())\n",
        "simplified = {str(k): re.match('^(AD dem|Vasc.*? dem|Frontotemporal dem|other mental retarAD demion|(Active )?DLBD|Active PSNP|Dementia)', str(k), re.I) is not None for k in labels}\n",
        "simplified = {k: v or re.match('^uncertain.*?dem', k) is not None for k, v in simplified.items()}\n",
        "# We classify uncertain cases as sick"
      ]
    },
    {
      "cell_type": "markdown",
      "metadata": {
        "id": "Jz4RsE_tNLHo"
      },
      "source": [
        "Thus, by attaching the newly created diagnosis to the original CSV, we obtain the following distribution:"
      ]
    },
    {
      "cell_type": "code",
      "execution_count": null,
      "metadata": {
        "colab": {
          "base_uri": "https://localhost:8080/",
          "height": 303
        },
        "id": "Uneh_vPQCZP-",
        "outputId": "a4fc6656-21be-4b76-fdf9-259352bb3126",
        "scrolled": true
      },
      "outputs": [
        {
          "data": {
            "text/plain": [
              "False    4691\n",
              "True     1533\n",
              "Name: dementia, dtype: int64"
            ]
          },
          "execution_count": 9,
          "metadata": {},
          "output_type": "execute_result"
        },
        {
          "data": {
            "image/png": "[encoded data removed]",
            "text/plain": [
              "<Figure size 432x288 with 1 Axes>"
            ]
          },
          "metadata": {},
          "output_type": "display_data"
        }
      ],
      "source": [
        "clinical_data['dementia'] = clinical_data[[f'dx{i}' for i in range(1,6)]].replace(simplified).any(axis=1)\n",
        "clinical_data['dementia'].value_counts().plot.pie(autopct='%1.1f%%')\n",
        "clinical_data['dementia'].value_counts()"
      ]
    },
    {
      "cell_type": "markdown",
      "metadata": {
        "id": "VPJGAX9JNLHp"
      },
      "source": [
        "It is clear that, since dementia is a spectrum rather than a symptom, there may be some \"uncertain\" cases:"
      ]
    },
    {
      "cell_type": "code",
      "execution_count": null,
      "metadata": {
        "colab": {
          "base_uri": "https://localhost:8080/",
          "height": 295
        },
        "id": "a04X0ejpCfpx",
        "outputId": "c54ae7a7-7e3c-4937-ae22-40f182e36fa0"
      },
      "outputs": [
        {
          "data": {
            "image/png": "[encoded data removed]",
            "text/plain": [
              "<Figure size 576x288 with 1 Axes>"
            ]
          },
          "metadata": {
            "needs_background": "light"
          },
          "output_type": "display_data"
        }
      ],
      "source": [
        "subj = 'OAS30040'\n",
        "(clinical_data.groupby('Subject')\n",
        "    .get_group(subj)\n",
        "    .replace({True: 1, False: 0})\n",
        "    .plot.scatter(x='Date', y='dementia', title=subj, figsize=(8,4)))\n",
        "plt.show()"
      ]
    },
    {
      "cell_type": "markdown",
      "metadata": {
        "id": "N5khX1cxNLHq"
      },
      "source": [
        "We thus apply a simple algorithm that tries to find and correct any such cases."
      ]
    },
    {
      "cell_type": "code",
      "execution_count": null,
      "metadata": {
        "id": "kcWGufqGCisI"
      },
      "outputs": [],
      "source": [
        "clinical_data = clinical_data.sort_values(by=['Subject', 'Date']).reset_index(drop=True)\n",
        "current_subj = None\n",
        "for index, row in clinical_data.iterrows():\n",
        "    if current_subj != row['Subject']:\n",
        "        current_subj = row['Subject']\n",
        "        prec = (None, None) # i-2, i-1\n",
        "        succ = (clinical_data.at[index + 1, 'dementia'] if index + 1 in clinical_data.index and clinical_data.at[index + 1, 'Subject'] == current_subj else None, clinical_data.at[index + 2, 'dementia'] if index + 2 in clinical_data.index and clinical_data.at[index + 2, 'Subject'] == current_subj else None)\n",
        "    \n",
        "    if row['dementia'] == True:\n",
        "        new = prec[1] or any(succ)\n",
        "    else:\n",
        "        new = any(prec) and any(succ)\n",
        "    clinical_data.at[index, 'dementia'] = new\n",
        "    \n",
        "    prec = (prec[1], new) # i-1, i\n",
        "    succ = (succ[1], clinical_data.at[index + 3, 'dementia'] if index + 3 in clinical_data.index and clinical_data.at[index + 3, 'Subject'] == current_subj else None)"
      ]
    },
    {
      "cell_type": "markdown",
      "metadata": {
        "id": "_emYlrl-NLHq"
      },
      "source": [
        "Applying this algorithm, the previous example becomes as follows (thus all false negatives have been fixed)."
      ]
    },
    {
      "cell_type": "code",
      "execution_count": null,
      "metadata": {
        "colab": {
          "base_uri": "https://localhost:8080/",
          "height": 295
        },
        "id": "SirHZeKiClb5",
        "outputId": "b8aee6f1-241f-4135-f8c2-790dd40f99b9",
        "scrolled": true
      },
      "outputs": [
        {
          "data": {
            "image/png": "[encoded data removed]",
            "text/plain": [
              "<Figure size 576x288 with 1 Axes>"
            ]
          },
          "metadata": {
            "needs_background": "light"
          },
          "output_type": "display_data"
        }
      ],
      "source": [
        "subj = 'OAS30040'\n",
        "(clinical_data.groupby('Subject')\n",
        "    .get_group(subj)\n",
        "    .replace({True: 1, False: 0})\n",
        "    .plot.scatter(x='Date', y='dementia',title=subj, figsize=(8,4)))\n",
        "plt.show()"
      ]
    },
    {
      "cell_type": "markdown",
      "metadata": {
        "id": "OorTwcTZNLHr"
      },
      "source": [
        "We can finally attach a label to each PET scan by associating the label of the nearest visit in time."
      ]
    },
    {
      "cell_type": "code",
      "execution_count": null,
      "metadata": {
        "id": "sGLIdGGECn2L"
      },
      "outputs": [],
      "source": [
        "labeled_dataset = pup_data.copy()\n",
        "labeled_dataset.drop(columns=['procType', 'model', 'templateType', 'FSId', 'mocoError', 'regError', 'Centil_fBP_TOT_CORTMEAN', 'Centil_fSUVR_TOT_CORTMEAN', 'Centil_fBP_rsf_TOT_CORTMEAN', 'Centil_fSUVR_rsf_TOT_CORTMEAN'], inplace=True)\n",
        "labeled_dataset['Label'] = None\n",
        "for index, row in labeled_dataset.iterrows():\n",
        "    rows_of_subject = clinical_data.loc[clinical_data['Subject'] == row['Subject']][['Date', 'dementia']]\n",
        "    rows_of_subject['Date'] = rows_of_subject['Date'].apply(lambda x: abs(x - row['Date']))\n",
        "    labeled_dataset.at[index,'Label'] = (rows_of_subject.groupby(by='Date', as_index=False) \n",
        "                                                        .any()\n",
        "                                                        .sort_values(by='Date')\n",
        "                                                        .loc[0]['dementia'])\n",
        "    \n",
        "labeled_dataset.to_csv(DATA_DIR / 'csv' / 'labeled_dataset.csv')"
      ]
    },
    {
      "cell_type": "markdown",
      "metadata": {
        "id": "gb6vIy_ECsGm"
      },
      "source": [
        "## Dealing with Class Imbalance\n",
        "\n",
        "By plotting the composition of the dataset, it is clear that we're working with an heavily imbalanced dataset."
      ]
    },
    {
      "cell_type": "code",
      "execution_count": null,
      "metadata": {
        "colab": {
          "base_uri": "https://localhost:8080/",
          "height": 303
        },
        "id": "YypS0nJfCq3e",
        "outputId": "c52eeef1-bb30-419e-b5a4-7d78b9c23409",
        "scrolled": true
      },
      "outputs": [
        {
          "data": {
            "text/plain": [
              "False    0.900148\n",
              "True     0.099852\n",
              "Name: Label, dtype: float64"
            ]
          },
          "execution_count": 14,
          "metadata": {},
          "output_type": "execute_result"
        },
        {
          "data": {
            "image/png": "[encoded data removed]",
            "text/plain": [
              "<Figure size 432x288 with 1 Axes>"
            ]
          },
          "metadata": {},
          "output_type": "display_data"
        }
      ],
      "source": [
        "labeled_dataset['Label'].value_counts().plot.pie(autopct='%1.1f%%')\n",
        "labeled_dataset['Label'].value_counts(normalize=True)"
      ]
    },
    {
      "cell_type": "code",
      "execution_count": null,
      "metadata": {
        "colab": {
          "base_uri": "https://localhost:8080/"
        },
        "id": "zsFQOkr6Kl-7",
        "outputId": "3ea81f97-ab0a-46d5-8de4-78a8b6fdd780"
      },
      "outputs": [
        {
          "data": {
            "text/plain": [
              "(1352, 6)"
            ]
          },
          "execution_count": 15,
          "metadata": {},
          "output_type": "execute_result"
        }
      ],
      "source": [
        "labeled_dataset.shape"
      ]
    },
    {
      "cell_type": "markdown",
      "metadata": {
        "id": "-i7w17oXNLHt"
      },
      "source": [
        "To fix this issue, we apply a combination of random undersampling on negative samples and data augmentation on positive samples."
      ]
    },
    {
      "cell_type": "markdown",
      "metadata": {
        "id": "l1zyOCnC1W-N"
      },
      "source": [
        "### Grouping scans by subject"
      ]
    },
    {
      "cell_type": "markdown",
      "metadata": {
        "id": "F053V6RP1kXN"
      },
      "source": [
        "Since many scans are associated to a single subject, in order to avoid future bias at training time, we decide to take only one scan for each subject. More specifically, we take the most recent scan take for a patient."
      ]
    },
    {
      "cell_type": "code",
      "execution_count": null,
      "metadata": {
        "colab": {
          "base_uri": "https://localhost:8080/"
        },
        "id": "jA1yH6ct4wzi",
        "outputId": "7ba9020a-9b40-4b39-e8e1-5b38fd6c6b01"
      },
      "outputs": [
        {
          "data": {
            "text/plain": [
              "False    618\n",
              "True     112\n",
              "Name: Label, dtype: int64"
            ]
          },
          "execution_count": 16,
          "metadata": {},
          "output_type": "execute_result"
        }
      ],
      "source": [
        "new_dataset = labeled_dataset.sort_values(['Subject','Date'], ascending=[True,True])\n",
        "new_dataset.drop_duplicates(subset=['Subject'], keep='last', inplace=True)\n",
        "new_dataset['Label'].value_counts()"
      ]
    },
    {
      "cell_type": "markdown",
      "metadata": {
        "id": "DpY4fAUZCw-2"
      },
      "source": [
        "### Random Undersampling\n",
        "\n",
        "We randomly select a subset of negative samples, by making sure that we try and keep as most data on the positive patients as possible. To ensure reproducibility, we save the selected negative samples to a CSV."
      ]
    },
    {
      "cell_type": "code",
      "execution_count": null,
      "metadata": {
        "id": "FxOWN3hPCu6M"
      },
      "outputs": [],
      "source": [
        "if FIRST_RUN:\n",
        "    positive = new_dataset.loc[labeled_dataset['Label'] == True]\n",
        "    positive.to_csv(DATA_DIR / 'csv' / 'new-positive.csv')\n",
        "    negative = new_dataset.loc[labeled_dataset['Label'] == False]\n",
        "    negative = negative.sample(n = 150, random_state=RANDOM_SEED)\n",
        "    negative.sort_values(['Subject'], ascending=[True], inplace=True)\n",
        "    negative.to_csv(DATA_DIR / 'csv' / 'new-negative.csv')\n",
        "\n",
        "    sampled = pd.concat([positive, negative])\n",
        "    sampled.to_csv(DATA_DIR / 'csv' /'new_sample.csv')\n",
        "else:\n",
        "    sampled = pd.concat([pd.read_csv(DATA_DIR / 'csv/new-positive.csv'), pd.read_csv(DATA_DIR / 'csv/new-negative.csv')])"
      ]
    },
    {
      "cell_type": "markdown",
      "metadata": {
        "id": "TzxDI1TzNLH2"
      },
      "source": [
        "The modified dataset composition becomes as follows:"
      ]
    },
    {
      "cell_type": "code",
      "execution_count": null,
      "metadata": {
        "colab": {
          "base_uri": "https://localhost:8080/",
          "height": 303
        },
        "id": "n__-T63UC1X8",
        "outputId": "a349a419-6c65-4190-894f-8cc444d07731"
      },
      "outputs": [
        {
          "data": {
            "text/plain": [
              "False    150\n",
              "True     112\n",
              "Name: Label, dtype: int64"
            ]
          },
          "execution_count": 19,
          "metadata": {},
          "output_type": "execute_result"
        },
        {
          "data": {
            "image/png": "[encoded data removed]",
            "text/plain": [
              "<Figure size 432x288 with 1 Axes>"
            ]
          },
          "metadata": {},
          "output_type": "display_data"
        }
      ],
      "source": [
        "sampled['Label'].value_counts().plot.pie(autopct='%1.1f%%')\n",
        "sampled['Label'].value_counts()"
      ]
    },
    {
      "cell_type": "markdown",
      "metadata": {
        "id": "Nc3eZ_Lv_bdb"
      },
      "source": [
        "We need to trace the corresponding MRI for each of the selected PET"
      ]
    },
    {
      "cell_type": "markdown",
      "metadata": {
        "id": "qPsyw6J7g4xW"
      },
      "source": [
        "To obtain the same balancement of the PET's dataset, it is necessary to augment positive MRIs, until both of them reach 150 occurencies."
      ]
    },
    {
      "cell_type": "markdown",
      "metadata": {
        "id": "zVJAVXJUC3Oh"
      },
      "source": [
        "### Data augmentation\n",
        "\n",
        "To further reduce the unbalancing of the dataset, we augment the positive samples through the means of random rotations and flips."
      ]
    },
    {
      "cell_type": "code",
      "execution_count": null,
      "metadata": {
        "id": "hq-amj_zC4Y0"
      },
      "outputs": [],
      "source": [
        "from scipy.ndimage.interpolation import rotate\n",
        "\n",
        "# This rotation fills the empty space in the corners with the mean of colours from the corner-patch\n",
        "def rotate_img(img, angle, bg_patch=(5, 5)):\n",
        "    assert len(img.shape) <= 3, \"Incorrect image shape\"\n",
        "    rgb = len(img.shape) == 3\n",
        "    if rgb:\n",
        "        bg_color = np.mean(img[: bg_patch[0], : bg_patch[1], :], axis=(0, 1))\n",
        "    else:\n",
        "        bg_color = np.mean(img[: bg_patch[0], : bg_patch[1]])\n",
        "    img = rotate(img, angle, reshape=False)\n",
        "    mask = [img <= 0, np.any(img <= 0, axis=-1)][rgb]\n",
        "    img[mask] = bg_color\n",
        "    return img\n",
        "\n",
        "\n",
        "def transform(img, fn):\n",
        "    transformed = img.copy()\n",
        "    for f in fn.split(\"|\"):\n",
        "        grp = re.match(r\"^rotate:(-?\\d+?)$\", f)\n",
        "        if grp:\n",
        "            angle = int(grp.group(1))\n",
        "            for i in range(transformed.shape[0]):\n",
        "                transformed[i, :, :] = rotate_img(transformed[i, :, :], angle)\n",
        "        elif f == \"flipv\":\n",
        "            transformed = transformed[:, ::-1, :]\n",
        "        elif f == \"fliph\":\n",
        "            transformed = transformed[:, :, ::-1]\n",
        "        else:\n",
        "            raise ValueError(f\"Illegal 'fn' value '{fn}'\")\n",
        "    return transformed"
      ]
    },
    {
      "cell_type": "markdown",
      "metadata": {
        "id": "4UApzxo-it4n"
      },
      "source": [
        "First let's analyze the content of each MRI folder:"
      ]
    },
    {
      "cell_type": "code",
      "execution_count": null,
      "metadata": {
        "id": "8kS3yIBzitXf"
      },
      "outputs": [],
      "source": [
        "if FIRST_RUN:\n",
        "  !ls \"$DATA_DIR\"/mri/all/*/* | sed -n 's/^.*_ses-d...._\\(.*\\)\\.json/\\1/p' | sort | uniq -c"
      ]
    },
    {
      "cell_type": "markdown",
      "metadata": {
        "id": "F9Ur2ZefiOuv"
      },
      "source": [
        "Since there are several scans for each MRI, all saved in different subdirectories, we need to extract all of them into the MRI root directory"
      ]
    },
    {
      "cell_type": "code",
      "execution_count": null,
      "metadata": {
        "id": "l7455Npwikr-"
      },
      "outputs": [],
      "source": [
        "if FIRST_RUN:\n",
        "  !ls \"$DATA_DIR\"/mri/all/ | xargs -I% sh -c 'mv \"$DATA_DIR\"/mri/all/%/anat*/* \"$DATA_DIR\"/mri/all/%/'"
      ]
    },
    {
      "cell_type": "markdown",
      "metadata": {
        "id": "qbjXUISAiqJu"
      },
      "source": [
        "Some scan could have been repeated several times: for this reason we take the last version of the T1W for each folder"
      ]
    },
    {
      "cell_type": "code",
      "execution_count": null,
      "metadata": {
        "id": "9En5o-0foFxV"
      },
      "outputs": [],
      "source": [
        "if FIRST_RUN:\n",
        "  !ls \"$DATA_DIR\"/mri/all | xargs -I% sh -c 'mkdir \"$DATA_DIR\"/mri/all/%/saved'\n",
        "  !ls \"$DATA_DIR\"/mri/all | xargs -I% sh -c 'mkdir \"$DATA_DIR\"/mri/all/%/discarded'"
      ]
    },
    {
      "cell_type": "code",
      "execution_count": null,
      "metadata": {
        "id": "7ZtkSe-WionX"
      },
      "outputs": [],
      "source": [
        "import shutil\n",
        "\n",
        "if FIRST_RUN: \n",
        "  mri_folders = os.listdir(DATA_DIR/'mri' / 'all')\n",
        "  to_save_t1 = ''\n",
        "  base_t1 = ''\n",
        "  for p in mri_folders:\n",
        "    current = os.listdir(DATA_DIR/'mri'/'all'/p)\n",
        "    print('Listing',p)\n",
        "    max_t1 = 1\n",
        "    for f in current:\n",
        "      print('\\tCurrent:',f)\n",
        "      if \"run\" in f and \"T1w\" in f and \"echo\" not in f:\n",
        "        if max_t1 < int((f.split(\"run\")[1])[2]):\n",
        "          max_t1 = int((f.split(\"run\")[1])[2])\n",
        "          to_save_t1 = f.split('.')[0]\n",
        "      elif \"T1w\" in f and \"echo\" not in f:\n",
        "        base_t1 = f.split('.')[0]\n",
        "    if max_t1 > 1:\n",
        "      print('Copying', to_save_t1)\n",
        "      nii = to_save_t1 + \".nii.gz\"\n",
        "      json = to_save_t1 + \".json\"\n",
        "      shutil.copy(DATA_DIR/'mri'/'all'/p/nii, DATA_DIR/'mri'/'all'/p/'saved')\n",
        "      shutil.copy(DATA_DIR/'mri'/'all'/p/json, DATA_DIR/'mri'/'all'/p/'saved')\n",
        "    else:\n",
        "      nii = base_t1 + \".nii.gz\"\n",
        "      json = base_t1 + \".json\"\n",
        "      print('Copying', base_t1)\n",
        "      shutil.copy(DATA_DIR/'mri'/'all'/p/nii, DATA_DIR/'mri'/'all'/p/'saved')\n",
        "      shutil.copy(DATA_DIR/'mri'/'all'/p/json, DATA_DIR/'mri'/'all'/p/'saved')"
      ]
    },
    {
      "cell_type": "markdown",
      "metadata": {
        "id": "g4aogAjkmBiB"
      },
      "source": [
        "We then move every file but the last T1W in a *discared* folder."
      ]
    },
    {
      "cell_type": "code",
      "execution_count": null,
      "metadata": {
        "id": "v30zXc1KmASG"
      },
      "outputs": [],
      "source": [
        "import shutil\n",
        "\n",
        "mri_folders = os.listdir(DATA_DIR/ 'mri' / 'all')\n",
        "for p in mri_folders:\n",
        "  saved = os.listdir(DATA_DIR/'mri'/ 'all' /p/ 'saved')\n",
        "  current = os.listdir(DATA_DIR/'mri'/ 'all' /p)\n",
        "  if len(os.listdir(DATA_DIR/'mri'/'all'/p/'discarded')) != 0:\n",
        "    for f in current:\n",
        "      if f not in saved and ('saved' not in f and 'discarded' not in f):\n",
        "        print('Moving',f,'of',p)\n",
        "        shutil.move(str(DATA_DIR / 'mri'/ 'all' / p / f), str(DATA_DIR / 'mri'/ 'all' / p / 'discarded'))\n"
      ]
    },
    {
      "cell_type": "code",
      "execution_count": null,
      "metadata": {
        "id": "xSzvRlKKJnf7"
      },
      "outputs": [],
      "source": [
        "! rm -r \"$DATA_DIR\"/mri/positive/**"
      ]
    },
    {
      "cell_type": "markdown",
      "metadata": {
        "id": "JzuoawFkoVGd"
      },
      "source": [
        "Now we divide the scans into two subfolders *positive* and *negative*"
      ]
    },
    {
      "cell_type": "code",
      "execution_count": null,
      "metadata": {
        "colab": {
          "base_uri": "https://localhost:8080/"
        },
        "id": "VhHJCi2Nob9z",
        "outputId": "509884d9-6d10-4e3c-e4a2-ac25f002fda1"
      },
      "outputs": [],
      "source": [
        "if FIRST_RUN:\n",
        "  sampled = pd.read_csv(DATA_DIR/'csv'/'new_sample.csv')\n",
        "  pos = sampled['MRId'].loc[sampled['Label'] == True].values\n",
        "  neg = sampled['MRId'].loc[sampled['Label'] == False].values\n",
        "\n",
        "  for p in pos:\n",
        "    !cp -r \"$DATA_DIR\"/'mri/all'/\"$p\" \"$DATA_DIR\"/mri/positive/\n",
        "  for n in neg:\n",
        "    !cp -r \"$DATA_DIR\"/'mri/all'/\"$n\" \"$DATA_DIR\"/mri/negative/"
      ]
    },
    {
      "cell_type": "markdown",
      "metadata": {
        "id": "kKu__rCpNLH8"
      },
      "source": [
        "To ensure reproducibility, we save in a CSV a list of the randomly selected images that will be modified, as well as the ordered list of operations that have been applied."
      ]
    },
    {
      "cell_type": "code",
      "execution_count": null,
      "metadata": {
        "id": "MyLNlfmnC75N"
      },
      "outputs": [],
      "source": [
        "if FIRST_RUN:\n",
        "    mri_images = [str(s) for s in DATA_DIR.glob('mri/positive/**/saved/*.nii.gz')]\n",
        "    mri_paths = random.sample(mri_images, k=43)\n",
        "    mod_mri_df = pd.DataFrame(columns=['Date', 'Subject', 'MRId', 'Label'], index=np.arange(0,len(mri_paths)))\n",
        "    sampled = pd.read_csv(DATA_DIR / 'csv' / 'new_sample.csv')\n",
        "\n",
        "    for i, path in enumerate(mri_paths):\n",
        "        # Need to store both the .nii img and the one with mean,\n",
        "        # so we can use the .nii for saving later \n",
        "        nii_img = nib.load(path)\n",
        "        img = nii_img.dataobj\n",
        "        transformation_functions = random.choices(['rotate', 'flipv', 'fliph'],\n",
        "                                            weights=[0.5, 0.25, 0.25],\n",
        "                                            k=random.randint(1,5))\n",
        "        transformation_functions = [s + f':{random.randrange(-30, 30)}' if s == 'rotate' else s for s in transformation_functions]\n",
        "        transform_string = '|'.join(transformation_functions)\n",
        "        mod_mri_df.loc[i] = [str(Path(path).parent.parent).split('_d')[1], str(Path(path).parent.parent).split('/')[-1].split('_')[0], str(Path(path).parent.parent).split('/')[-1], transform_string]\n",
        "        # Apply the transformation function(s)\n",
        "        transformed_img = transform(np.array(img),transform_string)\n",
        "        to_save_img = nib.Nifti1Image(transformed_img, nii_img.affine)\n",
        "        # Save the new generated image (as: ORIGINALE_modID.4dfp.img)\n",
        "        img_name = path.split('/')[-1].split('.')[0]\n",
        "        nib.save(to_save_img, DATA_DIR / 'mri' / 'modified' / (img_name + f'_mod{i}.4dfp.nii'))\n",
        "    \n",
        "    mod_mri_df.to_csv(DATA_DIR/'csv'/'modified-mri.csv', index='False')\n",
        "    \n",
        "else:\n",
        "    mod_mri_df = pd.read_csv(DATA_DIR / 'csv' / 'modified-mri.csv')\n"
      ]
    },
    {
      "cell_type": "markdown",
      "metadata": {
        "id": "pVfcWDPKDSUB"
      },
      "source": [
        "# Preparing the data\n",
        "\n",
        "## Resizing the Images\n",
        "\n",
        "To resize the images to a common size, we'll compute a bounding box of the brain (in order to center it) and we'll select the 20 middle slices of each PET scan. Thus, we start by defining a function to compute the bounding box using the Otsu threshold method."
      ]
    },
    {
      "cell_type": "code",
      "execution_count": null,
      "metadata": {
        "id": "1Jt1x-mtDRpg"
      },
      "outputs": [],
      "source": [
        "def find_brain_bounding_box(image):\n",
        "    x,y,w,h = (image.shape[0]+1, image.shape[1]+1, -1, -1)\n",
        "    for slice in image.T:\n",
        "        blurred = cv2.GaussianBlur(slice.T, (51, 51), 50)\n",
        "        blurred = blurred.astype(np.float64)\n",
        "        blurred *= 255.0 / blurred.max()\n",
        "        blurred[np.where(blurred < 0)] = 0\n",
        "        blurred = blurred.astype(np.uint8)\n",
        "        ret, thres = cv2.threshold(blurred, 0, 255, cv2.THRESH_BINARY + cv2.THRESH_OTSU)\n",
        "        blurred_thres = cv2.medianBlur(thres, 51)\n",
        "        contours, hierarchy = cv2.findContours(blurred_thres, 1, cv2.CHAIN_APPROX_SIMPLE )\n",
        "        curr_x, curr_y, curr_w, curr_h = cv2.boundingRect(contours[0])\n",
        "        w = max(w, curr_x + curr_w)\n",
        "        h = max(h, curr_y + curr_h)\n",
        "        x = min(x, curr_x)\n",
        "        y = min(y, curr_y)\n",
        "    # provide a small padding around the found box:\n",
        "    x = max(x - 10, 0)\n",
        "    y = max(y - 10, 0)\n",
        "    w = min(w + 10, image.shape[0])\n",
        "    h = min(h + 10, image.shape[1])\n",
        "    return x, y, w, h"
      ]
    },
    {
      "cell_type": "markdown",
      "metadata": {
        "id": "8D_jTDgHNLH-"
      },
      "source": [
        "We then define a function to normalize the images"
      ]
    },
    {
      "cell_type": "code",
      "execution_count": null,
      "metadata": {
        "id": "mT1ePiiwDXwf"
      },
      "outputs": [],
      "source": [
        "def normalize(volume):\n",
        "    \"\"\"Normalize the volume\"\"\"\n",
        "    volume = np.array(volume)\n",
        "    min = volume.min()\n",
        "    max = volume.max()\n",
        "    volume = (volume - min) / (max - min)\n",
        "    volume = volume.astype(\"float32\")\n",
        "    return volume"
      ]
    },
    {
      "cell_type": "markdown",
      "metadata": {
        "id": "d90PYotZNLH_"
      },
      "source": [
        "And we define a function to resize the images to $(128, 128, 50)$ voxels."
      ]
    },
    {
      "cell_type": "code",
      "execution_count": null,
      "metadata": {
        "id": "IjvQWjsWDZyI"
      },
      "outputs": [],
      "source": [
        "def resize_to_input_shape(img):\n",
        "    shape = (128, 128)\n",
        "    n_frames = 50\n",
        "    # Starting index to extract the 50 central frames of the third dimension\n",
        "    index = int(img.shape[2] / 2) - int(n_frames / 2)\n",
        "    final_img = img[:,:,index : index + n_frames]\n",
        "    x, y, w, h = find_brain_bounding_box(final_img)\n",
        "    square_size = max(w - x, h - y)\n",
        "    to_square = square_size - w + x, square_size - h + y\n",
        "    miss_x, miss_y = to_square\n",
        "    x, y = max(int(x - np.floor(miss_x / 2)), 0), max(int(np.floor(y - miss_y / 2)), 0)\n",
        "    w, h = int(np.floor(w + miss_x / 2)), int(np.floor(h + miss_y / 2))\n",
        "    return np.array(\n",
        "        [\n",
        "            #cv2.resize(frame, shape)\n",
        "            cv2.resize(frame[x:w,y:h], shape)\n",
        "            for frame in final_img.T\n",
        "        ]\n",
        "    ).T"
      ]
    },
    {
      "cell_type": "markdown",
      "metadata": {
        "id": "qcugth_vNLH_"
      },
      "source": [
        "Finally, we can define a function that applies all the needed transformations."
      ]
    },
    {
      "cell_type": "code",
      "execution_count": null,
      "metadata": {
        "id": "EvG9-SbTDbwu"
      },
      "outputs": [],
      "source": [
        "def process_scan(path):\n",
        "    \"\"\"Read and resize volume\"\"\"\n",
        "    try:\n",
        "        # Read scan\n",
        "        volume = nib.load(path).get_fdata()\n",
        "        if len(volume.shape) == 4:\n",
        "          volume = np.mean(volume, axis=3)\n",
        "        # Normalize\n",
        "        volume = normalize(volume)\n",
        "        # Resize width, height and depth\n",
        "        volume = resize_to_input_shape(volume)\n",
        "        return volume\n",
        "    except OSError:\n",
        "        print(\"Error in reading\", path, \"(file could be damaged)\", file=sys.stderr)\n",
        "        return None"
      ]
    },
    {
      "cell_type": "markdown",
      "metadata": {
        "id": "1_pRSCDRNLIA"
      },
      "source": [
        "We can then load a list of all the PET scans that we'll be loaded"
      ]
    },
    {
      "cell_type": "code",
      "execution_count": null,
      "metadata": {
        "id": "Z1a4ZyevDgkO"
      },
      "outputs": [],
      "source": [
        "import pickle\n",
        "if FIRST_RUN:\n",
        "  pos_mri = [str(s) for s in DATA_DIR.glob('mri/positive/**/saved/*.nii.gz')]\n",
        "  neg_mri = [str(s) for s in DATA_DIR.glob('mri/negative/**/saved/*.nii.gz')]\n",
        "  mod_mri = [str(s) for s in DATA_DIR.glob('mri/modified/*.nii')]\n",
        "  # Saving the paths of every scans in text file for faster reading\n",
        "\n",
        "  pos_paths = open(DATA_DIR/'csv'/'pos_paths.txt','wb')\n",
        "  pickle.dump(pos_mri,pos_paths)\n",
        "  pos_paths.close()\n",
        "\n",
        "  neg_paths = open(DATA_DIR/'csv'/'neg_paths.txt','wb')\n",
        "  pickle.dump(neg_mri,neg_paths)\n",
        "  neg_paths.close()\n",
        "\n",
        "  mri_mod_paths = open(DATA_DIR/'csv'/'mri_mod_paths.txt','wb')\n",
        "  pickle.dump(mod_mri,mri_mod_paths)\n",
        "  mri_mod_paths.close()\n",
        "else:\n",
        "  pos_mri = pickle.load(open(DATA_DIR/'csv'/'pos_paths.txt','rb'))\n",
        "  neg_mri = pickle.load(open(DATA_DIR/'csv'/'neg_paths.txt','rb'))\n",
        "  mod_mri = pickle.load(open(DATA_DIR/'csv'/'mri_mod_paths.txt','rb'))"
      ]
    },
    {
      "cell_type": "code",
      "execution_count": null,
      "metadata": {
        "id": "XEry3fT0JUIV"
      },
      "outputs": [],
      "source": [
        "import pickle\n",
        "pos_mri = pickle.load(open(DATA_DIR/'csv'/'pos_paths.txt','rb'))\n",
        "neg_mri = pickle.load(open(DATA_DIR/'csv'/'neg_paths.txt','rb'))\n",
        "mod_mri = pickle.load(open(DATA_DIR/'csv'/'mri_mod_paths.txt','rb'))"
      ]
    },
    {
      "cell_type": "markdown",
      "metadata": {
        "id": "izHyGv3gNLIB"
      },
      "source": [
        "We can print the availability of the scans (note that the dataset is balanced as the modified images are only positive)."
      ]
    },
    {
      "cell_type": "code",
      "execution_count": null,
      "metadata": {
        "colab": {
          "base_uri": "https://localhost:8080/"
        },
        "id": "sSXe3JYJc5ll",
        "outputId": "13020a40-049a-4d55-df23-1c53f03cdf24",
        "scrolled": true
      },
      "outputs": [
        {
          "name": "stdout",
          "output_type": "stream",
          "text": [
            "Total number of positive MRI: 148\n",
            "Total number of negative MRI: 148\n"
          ]
        }
      ],
      "source": [
        "print(\"Total number of positive MRI:\",(len(pos_mri) + len(mod_mri)))\n",
        "print(\"Total number of negative MRI:\",(len(neg_mri)))"
      ]
    },
    {
      "cell_type": "markdown",
      "metadata": {
        "id": "CSx_zmuBNLIB"
      },
      "source": [
        "Before applying the processing functions to all the images in batch, we can test the resizing function on a single image to check if everything works as desired."
      ]
    },
    {
      "cell_type": "code",
      "execution_count": null,
      "metadata": {
        "colab": {
          "base_uri": "https://localhost:8080/",
          "height": 234
        },
        "id": "77hLZLVvYrTu",
        "outputId": "d08246e7-5fcf-4d90-ce33-a7caaaff456c"
      },
      "outputs": [
        {
          "name": "stdout",
          "output_type": "stream",
          "text": [
            "(176, 240, 50)\n"
          ]
        },
        {
          "data": {
            "image/png": "[encoded data removed]",
            "text/plain": [
              "<Figure size 576x576 with 3 Axes>"
            ]
          },
          "metadata": {
            "needs_background": "light"
          },
          "output_type": "display_data"
        }
      ],
      "source": [
        "path = pos_mri[-2]\n",
        "pos = np.array(nib.load(path).dataobj)\n",
        "r_pos = process_scan(path)\n",
        "fig,ax = plt.subplots(1,3, figsize=(8,8))\n",
        "plt.savefig(DATA_DIR/'original.png', bbox_inches='tight')\n",
        "ax[0].imshow(pos[:,:,int(pos.shape[2]/2)])\n",
        "ax[0].set_title('original')\n",
        "index = int(pos.shape[2] / 2) - int(50 / 2)\n",
        "sliced = pos[:,:,index : index + 50]\n",
        "print(sliced.shape)\n",
        "rect = find_brain_bounding_box(sliced)\n",
        "plt.savefig(DATA_DIR/'bounding.png', bbox_inches='tight')\n",
        "ax[1].imshow(cv2.rectangle(normalize(sliced[:,:,int(sliced.shape[2]/2)]), (rect[0],rect[1]), (rect[2],rect[3]), 1, 2).get())\n",
        "ax[1].set_title('bounding box')\n",
        "plt.savefig(DATA_DIR/'resized.png', bbox_inches='tight')\n",
        "ax[2].imshow(r_pos[:,:,25])\n",
        "ax[2].set_title('resized')\n",
        "plt.tight_layout()\n",
        "plt.show()"
      ]
    },
    {
      "cell_type": "code",
      "execution_count": null,
      "metadata": {
        "colab": {
          "base_uri": "https://localhost:8080/",
          "height": 286
        },
        "id": "TkI-MyeOjNlt",
        "outputId": "11ba32c9-8c68-4701-8085-7778ca2eb8c5"
      },
      "outputs": [
        {
          "data": {
            "text/plain": [
              "<matplotlib.image.AxesImage at 0x7f21ca22b950>"
            ]
          },
          "execution_count": 87,
          "metadata": {},
          "output_type": "execute_result"
        },
        {
          "data": {
            "image/png": "[encoded data removed]",
            "text/plain": [
              "<Figure size 432x288 with 1 Axes>"
            ]
          },
          "metadata": {
            "needs_background": "light"
          },
          "output_type": "display_data"
        }
      ],
      "source": [
        "img = pos[:,:,25]\n",
        "blurred = cv2.GaussianBlur(img, (51, 51), 50)\n",
        "blurred = blurred.astype(np.float64)\n",
        "blurred *= 255.0 / blurred.max()\n",
        "blurred[np.where(blurred < 0)] = 0\n",
        "blurred = blurred.astype(np.uint8)\n",
        "ret, thres = cv2.threshold(blurred, 0, 255, cv2.THRESH_BINARY + cv2.THRESH_OTSU)\n",
        "blurred_thres = cv2.medianBlur(thres, 51)\n",
        "plt.imshow(blurred_thres, cmap='gray')"
      ]
    },
    {
      "cell_type": "code",
      "execution_count": null,
      "metadata": {
        "colab": {
          "base_uri": "https://localhost:8080/",
          "height": 267
        },
        "id": "exodV6q_lQTc",
        "outputId": "ce7328b6-4531-44e4-bcc4-4f8b98ba628d"
      },
      "outputs": [
        {
          "data": {
            "image/png": "[encoded data removed]",
            "text/plain": [
              "<Figure size 432x288 with 1 Axes>"
            ]
          },
          "metadata": {
            "needs_background": "light"
          },
          "output_type": "display_data"
        }
      ],
      "source": [
        "im = pos[:,:,int(pos.shape[2]/2)]\n",
        "imS = cv2.resize(im, (128,128))\n",
        "plt.imshow(imS)\n",
        "plt.savefig(DATA_DIR/'original.pgf')\n",
        "blurred_thres = cv2.resize(blurred_thres, (128, 128))\n",
        "im = blurred_thres\n",
        "imS = cv2.resize(im, (128,128))\n",
        "plt.imshow(imS, cmap='gray')\n",
        "plt.savefig(DATA_DIR/'otsu.pgf')\n",
        "im = cv2.rectangle(normalize(sliced[:,:,int(sliced.shape[2]/2)]), (rect[0],rect[1]), (rect[2],rect[3]), 1, 2).get()\n",
        "imS = cv2.resize(im, (128, 128))\n",
        "plt.imshow(imS)\n",
        "plt.savefig(DATA_DIR/'bounding.pgf')\n",
        "im = r_pos[:,:,25]\n",
        "imS = cv2.resize(im, (128, 128))\n",
        "plt.imshow(imS)\n",
        "plt.savefig(DATA_DIR/'resized.pgf')\n",
        "im = r_pos[:,:,25]\n",
        "imS = cv2.resize(im, (128, 128))\n",
        "plt.imshow(imS,cmap='gray')\n",
        "plt.savefig(DATA_DIR/'final.pgf')"
      ]
    },
    {
      "cell_type": "code",
      "execution_count": null,
      "metadata": {
        "colab": {
          "base_uri": "https://localhost:8080/",
          "height": 250
        },
        "id": "SoTrUoP_6WMs",
        "outputId": "15d4e53b-51c9-4890-d2d9-487e7450c8e7"
      },
      "outputs": [
        {
          "name": "stdout",
          "output_type": "stream",
          "text": [
            "(176, 240, 256)\n",
            "(128, 128, 50)\n"
          ]
        },
        {
          "data": {
            "image/png": "[encoded data removed]",
            "text/plain": [
              "<Figure size 576x576 with 3 Axes>"
            ]
          },
          "metadata": {
            "needs_background": "light"
          },
          "output_type": "display_data"
        }
      ],
      "source": [
        "test_img = np.array(nib.load(pos_mri[-2]).dataobj)\n",
        "print(test_img.shape)\n",
        "r_pos = process_scan(pos_mri[0])\n",
        "print(r_pos.shape)\n",
        "fig,ax = plt.subplots(1,3, figsize=(8,8))\n",
        "ax[0].imshow(r_pos[:,:,25])\n",
        "ax[0].set_title('middle scan')\n",
        "ax[1].imshow(r_pos[:,:,0])\n",
        "ax[1].set_title('first scan')\n",
        "ax[2].imshow(r_pos[:,:,49])\n",
        "ax[2].set_title('last scan')\n",
        "plt.tight_layout()\n",
        "plt.show()"
      ]
    },
    {
      "cell_type": "markdown",
      "metadata": {
        "id": "gg2uzhHINLIC"
      },
      "source": [
        "We can now load and process all the images."
      ]
    },
    {
      "cell_type": "code",
      "execution_count": null,
      "metadata": {
        "colab": {
          "base_uri": "https://localhost:8080/",
          "height": 81,
          "referenced_widgets": [
            "b0a96062c3914ff2bed6575395b7d435",
            "9842ee9085464e1cb06fc5935af81267",
            "1896ab78d96144dd8a770aaef74bc1c2",
            "cb778c1e494f4326a0ab90febf249609",
            "f004a44a35ef439f9818d3b5575310e9",
            "a5fe6a4dc9c447b1bc36fc7014018a5f",
            "2ed01ab9ca274811803d7551d01a41e5",
            "7acf87a23e874530abafffcd121b08f1",
            "4bd3a9b18b564feeaecfe6b37866e7c8",
            "35251cf6788e4d4fb4c7f0703f9e3988",
            "5c087c5aad704e168d71c61631cc3149",
            "6b0f8149a954454394fdd8d186aeea72",
            "0bbde9abc5bd4180b9d3af77084df07a",
            "7419177e6fa54d1d9d42c50bc4869141",
            "2acab8e12e954af9973f78f7f8e74ac9",
            "89feff38c0f249d9be4f2923416effad",
            "e7041f0f66ef451bab04164ee73b011c",
            "dc063062cec141c4b8b4ca66a5d2a604",
            "5cb9b1a7a1ac45e2991fadc627785b42",
            "b097bfda7dcc4799a31d669242f5ad2a",
            "50624d9ac7874d78a7650520934922bf",
            "4909d41e569d4135a9b7ee3295cc0e07"
          ]
        },
        "id": "KOSgRxKYDwcO",
        "outputId": "f703eb88-7849-499c-bce9-5d817928d3ac"
      },
      "outputs": [
        {
          "data": {
            "application/vnd.jupyter.widget-view+json": {
              "model_id": "b0a96062c3914ff2bed6575395b7d435",
              "version_major": 2,
              "version_minor": 0
            },
            "text/plain": [
              "  0%|          | 0/205 [00:00<?, ?it/s]"
            ]
          },
          "metadata": {},
          "output_type": "display_data"
        },
        {
          "data": {
            "application/vnd.jupyter.widget-view+json": {
              "model_id": "6b0f8149a954454394fdd8d186aeea72",
              "version_major": 2,
              "version_minor": 0
            },
            "text/plain": [
              "  0%|          | 0/205 [00:00<?, ?it/s]"
            ]
          },
          "metadata": {},
          "output_type": "display_data"
        }
      ],
      "source": [
        "pos = np.array(list(filter(lambda x: x is not None and np.array(x).shape[-1] ==20, p_uimap(process_scan, pos_images + pos_mod_images))))\n",
        "pos_label = np.ones(len(pos)*20, dtype=np.uint8)\n",
        "neg = np.array(list(filter(lambda x: x is not None and np.array(x).shape[-1] == 20, p_uimap(process_scan, neg_images + neg_mod_images))))\n",
        "neg_label = np.zeros(len(neg)*20, dtype=np.uint8)"
      ]
    },
    {
      "cell_type": "markdown",
      "metadata": {
        "id": "YbhaT4hUNLIC"
      },
      "source": [
        "We can then transform the 3D images to a sequence of 2D images (to reduce the required computing power in the training phase)."
      ]
    },
    {
      "cell_type": "code",
      "execution_count": null,
      "metadata": {
        "colab": {
          "base_uri": "https://localhost:8080/"
        },
        "id": "GtYp66NS3Xlh",
        "outputId": "2936cadb-bdce-4a94-87f4-4ec0c69fddf8",
        "scrolled": true
      },
      "outputs": [
        {
          "name": "stdout",
          "output_type": "stream",
          "text": [
            "(8200, 128, 128)\n"
          ]
        }
      ],
      "source": [
        "x = np.concatenate((*np.concatenate((pos, neg), axis=0),), axis = 2).T\n",
        "print(x.shape)\n",
        "y = np.concatenate((pos_label, neg_label), axis=0)"
      ]
    },
    {
      "cell_type": "markdown",
      "metadata": {
        "id": "QbH5Ja_7NLIC"
      },
      "source": [
        "To check if everything worked as expected, the size of the list of images and the list of labels should be the same."
      ]
    },
    {
      "cell_type": "code",
      "execution_count": null,
      "metadata": {
        "colab": {
          "base_uri": "https://localhost:8080/"
        },
        "id": "xYYFjJl78dtQ",
        "outputId": "45b63c9e-8913-40b1-afd8-aaa575c8f2b3",
        "scrolled": true
      },
      "outputs": [
        {
          "name": "stdout",
          "output_type": "stream",
          "text": [
            "(8200, 128, 128) (8200,)\n"
          ]
        }
      ],
      "source": [
        "print(x.shape, y.shape)"
      ]
    },
    {
      "cell_type": "markdown",
      "metadata": {
        "id": "XPdDv63HNLID"
      },
      "source": [
        "Furthermore a single image should have a size of $128\\times 128$ pixels."
      ]
    },
    {
      "cell_type": "code",
      "execution_count": null,
      "metadata": {
        "colab": {
          "base_uri": "https://localhost:8080/"
        },
        "id": "V5Qlv1E_CDou",
        "outputId": "332ca93d-d881-41a4-e67a-f8446ed134a4",
        "scrolled": true
      },
      "outputs": [
        {
          "data": {
            "text/plain": [
              "(128, 128)"
            ]
          },
          "execution_count": 15,
          "metadata": {},
          "output_type": "execute_result"
        }
      ],
      "source": [
        "x[0].shape"
      ]
    },
    {
      "cell_type": "markdown",
      "metadata": {
        "id": "adS-7TI-NLID"
      },
      "source": [
        "We can plot an example image to check it."
      ]
    },
    {
      "cell_type": "code",
      "execution_count": null,
      "metadata": {
        "colab": {
          "base_uri": "https://localhost:8080/",
          "height": 286
        },
        "id": "_Xj0NtLOBvr_",
        "outputId": "6a1646e9-ac0e-431e-fba1-428496afc3af",
        "scrolled": true
      },
      "outputs": [
        {
          "data": {
            "text/plain": [
              "<matplotlib.image.AxesImage at 0x7fb6bb4a2a90>"
            ]
          },
          "execution_count": 16,
          "metadata": {},
          "output_type": "execute_result"
        },
        {
          "data": {
            "image/png": "[encoded data removed]",
            "text/plain": [
              "<Figure size 432x288 with 1 Axes>"
            ]
          },
          "metadata": {
            "needs_background": "light"
          },
          "output_type": "display_data"
        }
      ],
      "source": [
        "plt.imshow(x[1])"
      ]
    },
    {
      "cell_type": "markdown",
      "metadata": {
        "id": "itdw30gENLIE"
      },
      "source": [
        "## Generating the CV Folds\n",
        "\n",
        "To reduce the required time in later phases, we can pre-compute the cross-validation folds. We start by splitting the dataset into a train-test set (using the 20% as test split). Note that in the following code the \"test set\" is referred to as \"validation set\" due to a coding error: sadly, due to the size of the final dataset, it is pretty expensive to move and rename the folder and its files."
      ]
    },
    {
      "cell_type": "code",
      "execution_count": null,
      "metadata": {
        "id": "fmBgpmHW_JwC"
      },
      "outputs": [],
      "source": [
        "if FIRST_RUN:\n",
        "  mod_mri = pd.read_csv(DATA_DIR / 'csv' / 'modified-mri.csv')\n",
        "  mod_mri = mod_mri[['Date','Subject','MRId','Label']]\n",
        "  #mod_mri.rename(columns={'Transform':'Label'}, inplace=True)\n",
        "  mod_mri['Label'] = True\n",
        "  mod_mri.to_csv(DATA_DIR / 'csv' / 'modified-mri.csv', index=False)\n",
        "else:\n",
        "  mod_mri = pd.read_csv(DATA_DIR / 'csv' / 'modified-mri.csv')"
      ]
    },
    {
      "cell_type": "code",
      "execution_count": null,
      "metadata": {
        "id": "f45VHfLNjs3x"
      },
      "outputs": [],
      "source": [
        "pos = np.array(list(filter(lambda x: x is not None and np.array(x).shape[-1] ==20, p_uimap(process_scan, pos_images + pos_mod_images))))"
      ]
    },
    {
      "cell_type": "code",
      "execution_count": null,
      "metadata": {
        "colab": {
          "base_uri": "https://localhost:8080/"
        },
        "id": "tQWirU7VsrtP",
        "outputId": "b0d48cf1-8c7b-4abc-d30e-c3e4bb168b8b"
      },
      "outputs": [
        {
          "name": "stdout",
          "output_type": "stream",
          "text": [
            "False    118\n",
            "True      75\n",
            "Name: Label, dtype: int64\n",
            "True     118\n",
            "False    118\n",
            "Name: Label, dtype: int64\n",
            "True     30\n",
            "False    30\n",
            "Name: Label, dtype: int64\n"
          ]
        }
      ],
      "source": [
        "sample = pd.read_csv(DATA_DIR /'csv/new_sample.csv').drop(columns=['tracer','PUP_PUPTIMECOURSEDATA ID'])\n",
        "sample = sample[sample['MRId'].map(lambda x: x not in ['OAS30031_MR_d0236', 'OAS30078_MR_d0136', 'OAS30144_MR_d1708', 'OAS30650_MR_d1620', 'OAS31135_MR_d0096', 'OAS31140_MR_d0148', 'OAS31171_MR_d0441', 'OAS30058_MR_d0836', 'OAS30297_MR_d2331'])]\n",
        "sample = sample.reset_index()\n",
        "train_pos = sample[:75]\n",
        "test_pos = sample[75:105]\n",
        "train_neg = sample[105:223]\n",
        "test_neg = sample[223:]\n",
        "trainset = pd.concat([train_pos,train_neg])\n",
        "print(trainset['Label'].value_counts())\n",
        "trainset = pd.concat([mod_mri,trainset], ignore_index=True)\n",
        "print(trainset['Label'].value_counts())\n",
        "testset = pd.concat([test_pos,test_neg], ignore_index=True)\n",
        "print(testset['Label'].value_counts())\n",
        "xtrain = trainset\n",
        "xtrain.replace({False: 0, True: 1}, inplace=True)\n",
        "ytrain = xtrain['Label'].to_numpy()\n",
        "xtrain.drop(columns=['Label','Date','Subject'], inplace=True)\n",
        "xtrain = xtrain['MRId'].to_numpy()\n",
        "np.save(DATA_DIR/'mri'/'subjects_xtrain.npy', xtrain)\n",
        "np.save(DATA_DIR/'mri'/'subjects_ytrain.npy', ytrain)\n",
        "\n",
        "xtest = testset\n",
        "xtest.replace({False: 0, True: 1}, inplace=True)\n",
        "ytest = xtest['Label'].to_numpy()\n",
        "xtest.drop(columns=['Label','Date','Subject'], inplace=True)\n",
        "xtest = xtest['MRId'].to_numpy()\n",
        "np.save(DATA_DIR/'mri'/'subjects_xtest.npy', xtest)\n",
        "np.save(DATA_DIR/'mri'/'subjects_ytest.npy', ytest)"
      ]
    },
    {
      "cell_type": "code",
      "execution_count": null,
      "metadata": {
        "id": "Iq9BlgrQrL2I"
      },
      "outputs": [],
      "source": [
        "np.save(DATA_DIR/'mri'/'ytest.npy', ytest)\n",
        "np.save(DATA_DIR/'mri'/'ytrain.npy', ytrain)"
      ]
    },
    {
      "cell_type": "code",
      "execution_count": null,
      "metadata": {
        "id": "u8BbWuJ2b3_c"
      },
      "outputs": [],
      "source": [
        "import pickle\n",
        "list_pos_mri = pickle.load(open(DATA_DIR/'csv'/'pos_paths.txt','rb'))\n",
        "list_neg_mri = pickle.load(open(DATA_DIR/'csv'/'neg_paths.txt','rb'))\n",
        "list_mod_mri = pickle.load(open(DATA_DIR/'csv'/'mri_mod_paths.txt','rb'))\n",
        "\n",
        "mri = list_pos_mri + list_neg_mri + list_mod_mri"
      ]
    },
    {
      "cell_type": "code",
      "execution_count": null,
      "metadata": {
        "id": "FZ5mLeh5hTgB"
      },
      "outputs": [],
      "source": [
        "xtrain = np.load(DATA_DIR/'mri/subjects_xtrain.npy', allow_pickle=True)\n",
        "xtest = np.load(DATA_DIR/'mri/subjects_xtest.npy', allow_pickle=True)\n",
        "mri = dict((map(lambda s: (re.sub(r'^.*/sub-(.*?)_ses-(d\\d+?)_.*?\\.nii(?:\\.gz)?',r'\\1_MR_\\2',s),s), mri)))\n",
        "train_paths = list(map(lambda x: mri[x] , xtrain))\n",
        "test_paths = list(map(lambda x: mri[x] , xtest))"
      ]
    },
    {
      "cell_type": "code",
      "execution_count": null,
      "metadata": {
        "colab": {
          "base_uri": "https://localhost:8080/",
          "height": 81,
          "referenced_widgets": [
            "3f66014e407a41a487f689582e04c56e",
            "4ed81178724d434d85c1b7094dd287c6",
            "be53e1b2479d4dbe9e17242ffea87d2a",
            "f0805383cc544f62ac075554f0f0c1a5",
            "947f34129da6426c817c4ae992ad1602",
            "e36120bb0036466c9ed8e3f377517d5e",
            "dd2dcbe1bbe741aa894004a54a708a40",
            "e522cdbf82cc4d54b3aad6e7f3ddc65c",
            "a1a73f221fa840ad84aec7dc7d6f7913",
            "5d2016645a8d4f7d86a3741ec64764ea",
            "5db1744dd444446db947b001615050e0",
            "f1415b32dae44023a6bc79699ed6f271",
            "0eea3c6c54904d9494b5415e5ea05d79",
            "ade2f8acf65247b0a96f2c8249a772f6",
            "bb5474425dce466fafcd1e4001200955",
            "f015971ec3e247be928ee498f696862e",
            "8420d902ee814b3fb1d92ee456328e7c",
            "af79a8db290b4890822b5add8f1dd943",
            "fda1381d676243c6b06d9f4da180d8af",
            "607df3be9acf4cc7a47d45a1f7614b7d",
            "2b28d1d250ca4454828f1dcc1437c94d",
            "818eb5607e9b4e82a9832968f6d875cb"
          ]
        },
        "id": "lOMH6HMDc13z",
        "outputId": "e4bfbdb9-9158-4f3a-a749-e7b948e0d805"
      },
      "outputs": [
        {
          "data": {
            "application/vnd.jupyter.widget-view+json": {
              "model_id": "3f66014e407a41a487f689582e04c56e",
              "version_major": 2,
              "version_minor": 0
            },
            "text/plain": [
              "  0%|          | 0/236 [00:00<?, ?it/s]"
            ]
          },
          "metadata": {},
          "output_type": "display_data"
        },
        {
          "data": {
            "application/vnd.jupyter.widget-view+json": {
              "model_id": "f1415b32dae44023a6bc79699ed6f271",
              "version_major": 2,
              "version_minor": 0
            },
            "text/plain": [
              "  0%|          | 0/60 [00:00<?, ?it/s]"
            ]
          },
          "metadata": {},
          "output_type": "display_data"
        }
      ],
      "source": [
        "base = DATA_DIR / 'mri/'\n",
        "base.mkdir(parents=True, exist_ok=True)\n",
        "\n",
        "train_img = np.array(list(filter(lambda x: x is not None and np.array(x).shape[-1] ==30, p_uimap(process_scan, train_paths))))\n",
        "test_img = np.array(list(filter(lambda x: x is not None and np.array(x).shape[-1] ==30, p_uimap(process_scan, test_paths))))\n",
        "#train_img = np.concatenate(train_img, axis = 2).T\n",
        "#test_img = np.concatenate(test_img,axis = 2).T\n",
        "np.save(base/'30-xtrain.npy', train_img)\n",
        "np.save(base/'30-xtest.npy', test_img)"
      ]
    },
    {
      "cell_type": "code",
      "execution_count": null,
      "metadata": {
        "id": "eUlt26y5F03W"
      },
      "outputs": [],
      "source": [
        "ytest = np.load(DATA_DIR/'mri'/'subjects_ytest.npy')\n",
        "ytrain = np.load(DATA_DIR/'mri'/'subjects_ytrain.npy')"
      ]
    },
    {
      "cell_type": "code",
      "execution_count": null,
      "metadata": {
        "colab": {
          "base_uri": "https://localhost:8080/"
        },
        "id": "czlss9ObGXGk",
        "outputId": "fc2db89f-d7b5-4c2e-fa5b-400de7cc1577"
      },
      "outputs": [
        {
          "data": {
            "text/plain": [
              "(60,)"
            ]
          },
          "execution_count": 23,
          "metadata": {},
          "output_type": "execute_result"
        }
      ],
      "source": [
        "ytest.shape"
      ]
    },
    {
      "cell_type": "code",
      "execution_count": null,
      "metadata": {
        "id": "qDtH5uWLJy80"
      },
      "outputs": [],
      "source": [
        "y_train = np.concatenate(list(map(lambda x: [x]*50, ytrain)))\n",
        "y_test = np.concatenate(list(map(lambda x: [x]*50, ytest)))\n",
        "np.save(DATA_DIR/'folds/validation/ytrain.npy', y_train)\n",
        "np.save(DATA_DIR/'folds/validation/ytest.npy', y_test)"
      ]
    },
    {
      "cell_type": "markdown",
      "metadata": {
        "id": "9uaadTaYNLIG"
      },
      "source": [
        "We can then apply a repeated stratified 10-fold cross validation on the previously created train set by saving each fold to a file. Each fold will then be used as validation set in future steps."
      ]
    },
    {
      "cell_type": "code",
      "execution_count": null,
      "metadata": {
        "id": "xJOSq_bXGVQ0"
      },
      "outputs": [],
      "source": [
        "# 10 Fold on subjects\n",
        "from sklearn.model_selection import RepeatedStratifiedKFold\n",
        "\n",
        "subjects_xtrain = np.load(DATA_DIR/'mri'/'subjects_xtrain.npy', allow_pickle=True)\n",
        "subjects_ytrain = np.load(DATA_DIR/'mri'/'subjects_ytrain.npy', allow_pickle=True)\n",
        "base = DATA_DIR /'subjects'\n",
        "kFold = RepeatedStratifiedKFold(n_splits=10, n_repeats=10, random_state = RANDOM_SEED)\n",
        "traintest = kFold.split(subjects_xtrain,subjects_ytrain)\n",
        "\n",
        "for k, (train, test) in enumerate(traintest):\n",
        "    print('k =',k+1)\n",
        "    fold_dir = base / f'fold-{k + 1}'\n",
        "    fold_dir.mkdir(parents=True, exist_ok=True)\n",
        "\n",
        "    np.save(fold_dir / 'xtrain.npy', subjects_xtrain[train])\n",
        "    np.save(fold_dir / 'ytrain.npy', subjects_ytrain[train])\n",
        "    np.save(fold_dir / 'xtest.npy', subjects_xtrain[test])\n",
        "    np.save(fold_dir / 'ytest.npy', subjects_ytrain[test])"
      ]
    },
    {
      "cell_type": "code",
      "execution_count": null,
      "metadata": {
        "id": "ESFeC0lBLKXR"
      },
      "outputs": [],
      "source": [
        "mri = dict((map(lambda s: (re.sub(r'^.*/sub-(.*?)_ses-(d\\d+?)_.*?\\.nii(?:\\.gz)?',r'\\1_MR_\\2',s),s), mri)))"
      ]
    },
    {
      "cell_type": "code",
      "execution_count": null,
      "metadata": {
        "id": "l1bnj-0D-zkH"
      },
      "outputs": [],
      "source": [
        "base = DATA_DIR/'subjects'\n",
        "for i in range(1,101):\n",
        "  print(i)\n",
        "  folder = base/f'fold-{i}'\n",
        "  # Load arrays of folder's names\n",
        "  #x_train = np.load(folder/'xtrain.npy', allow_pickle=True)\n",
        "  y_train = np.load(folder/'ytrain.npy', allow_pickle=True)\n",
        "  #x_test = np.load(folder/'xtest.npy', allow_pickle=True)\n",
        "  y_test = np.load(folder/'ytest.npy', allow_pickle=True)\n",
        "  # Map folder name to image path\n",
        "  #train_paths = list(map(lambda x: mri[x] , x_train))\n",
        "  #test_paths = list(map(lambda x: mri[x] , x_test))\n",
        "  #load images from train/test split\n",
        "  #train_img = np.array(list(filter(lambda x: x is not None and np.array(x).shape[-1] ==30, p_uimap(process_scan, train_paths))))\n",
        "  #test_img = np.array(list(filter(lambda x: x is not None and np.array(x).shape[-1] ==30, p_uimap(process_scan, test_paths))))\n",
        "  # generate reshaped images and save them\n",
        "  folds = DATA_DIR/f'folds/fold-{i}'\n",
        "  #xtrain = np.concatenate(train_img, axis = 2).T\n",
        "  #xtest = np.concatenate(test_img, axis = 2).T\n",
        "  ytrain = np.concatenate(list(map(lambda x: [x]*30, y_train)))\n",
        "  ytest = np.concatenate(list(map(lambda x: [x]*30, y_test)))\n",
        "  #np.save(folds/'xtrain.npy', xtrain)\n",
        "  #np.save(folds/'xtest.npy', xtest)\n",
        "  np.save(folds/'ytrain.npy', ytrain)\n",
        "  np.save(folds/'ytest.npy', ytest)\n"
      ]
    },
    {
      "cell_type": "code",
      "execution_count": null,
      "metadata": {
        "colab": {
          "base_uri": "https://localhost:8080/"
        },
        "id": "SUoucvlCv3Oi",
        "outputId": "e5c9e587-622e-4ee4-d537-e95e6c9448a1"
      },
      "outputs": [
        {
          "name": "stdout",
          "output_type": "stream",
          "text": [
            "(11800, 128, 128)\n",
            "(11800,)\n",
            "(3000, 128, 128)\n",
            "(3000,)\n"
          ]
        }
      ],
      "source": [
        "xtrain = train_img\n",
        "xtest = test_img\n",
        "ytrain = y_train\n",
        "ytest = y_test\n",
        "print(xtrain.shape)\n",
        "print(ytrain.shape)\n",
        "print(xtest.shape)\n",
        "print(ytest.shape)"
      ]
    },
    {
      "cell_type": "code",
      "execution_count": null,
      "metadata": {
        "id": "3ZUg0sFT2xiq"
      },
      "outputs": [],
      "source": [
        "y_test = np.load(DATA_DIR/'mri'/'50-ytest.npy')\n",
        "y_train = np.load(DATA_DIR/'mri'/'50-ytrain.npy')\n",
        "x_test = np.load(DATA_DIR/'mri'/'20-xtest.npy')\n",
        "x_train = np.load(DATA_DIR/'mri'/'20-xtrain.npy')"
      ]
    },
    {
      "cell_type": "code",
      "execution_count": null,
      "metadata": {
        "colab": {
          "base_uri": "https://localhost:8080/"
        },
        "id": "u2VIqcvi3tCg",
        "outputId": "94080320-4533-415e-bdff-5e4af2a73b39"
      },
      "outputs": [
        {
          "name": "stdout",
          "output_type": "stream",
          "text": [
            "(60,) (236,) (236, 128, 128, 20) (60, 128, 128, 20)\n"
          ]
        }
      ],
      "source": [
        "print(y_test.shape,y_train.shape,x_train.shape,x_test.shape)"
      ]
    },
    {
      "cell_type": "code",
      "execution_count": null,
      "metadata": {
        "colab": {
          "base_uri": "https://localhost:8080/"
        },
        "id": "ASY43CmnGJKX",
        "outputId": "5316b2df-b565-4716-92c5-b58bdc3a005c"
      },
      "outputs": [
        {
          "name": "stdout",
          "output_type": "stream",
          "text": [
            "k = 1\n",
            "k = 2\n",
            "k = 3\n",
            "k = 4\n",
            "k = 5\n",
            "k = 6\n",
            "k = 7\n",
            "k = 8\n",
            "k = 9\n",
            "k = 10\n"
          ]
        }
      ],
      "source": [
        "from sklearn.model_selection import StratifiedKFold\n",
        "\n",
        "base = DATA_DIR / 'mri/3d-folds/20'\n",
        "kFold = StratifiedKFold(n_splits=10, random_state=RANDOM_SEED, shuffle=True)\n",
        "traintest = kFold.split(x_train,y_train)\n",
        "\n",
        "for k, (train, test) in enumerate(traintest):\n",
        "    print('k =',k+1)\n",
        "    fold_dir = base / f'fold-{k + 1}'\n",
        "    fold_dir.mkdir(parents=True, exist_ok=True)\n",
        "\n",
        "    np.save(fold_dir / 'xtrain.npy', x_train[train])\n",
        "    np.save(fold_dir / 'ytrain.npy', y_train[train])\n",
        "    np.save(fold_dir / 'xtest.npy', x_train[test])\n",
        "    np.save(fold_dir / 'ytest.npy', y_train[test])"
      ]
    }
  ],
  "metadata": {
    "authors": [
      {
        "name": "Andrea Esposito"
      },
      {
        "name": "Graziano Montanaro"
      }
    ],
    "colab": {
      "provenance": []
    },
    "kernelspec": {
      "display_name": "Python 3.8.13 64-bit ('3.8.13')",
      "language": "python",
      "name": "python3"
    },
    "language_info": {
      "codemirror_mode": {
        "name": "ipython",
        "version": 3
      },
      "file_extension": ".py",
      "mimetype": "text/x-python",
      "name": "python",
      "nbconvert_exporter": "python",
      "pygments_lexer": "ipython3",
      "version": "3.8.13"
    },
    "subtitle": "Creating the Dataset",
    "title": "Automatic Alzheimer's Disease Diagnosis Using PET Scans: Comparing Different Approaches",
    "vscode": {
      "interpreter": {
        "hash": "3887179d1f0edaa4c3908e162702e14157482c79e68dac9273173c2d91df411a"
      }
    },
    "widgets": {
      "application/vnd.jupyter.widget-state+json": {
        "0bbde9abc5bd4180b9d3af77084df07a": {
          "model_module": "@jupyter-widgets/base",
          "model_module_version": "1.2.0",
          "model_name": "LayoutModel",
          "state": {
            "_model_module": "@jupyter-widgets/base",
            "_model_module_version": "1.2.0",
            "_model_name": "LayoutModel",
            "_view_count": null,
            "_view_module": "@jupyter-widgets/base",
            "_view_module_version": "1.2.0",
            "_view_name": "LayoutView",
            "align_content": null,
            "align_items": null,
            "align_self": null,
            "border": null,
            "bottom": null,
            "display": null,
            "flex": null,
            "flex_flow": null,
            "grid_area": null,
            "grid_auto_columns": null,
            "grid_auto_flow": null,
            "grid_auto_rows": null,
            "grid_column": null,
            "grid_gap": null,
            "grid_row": null,
            "grid_template_areas": null,
            "grid_template_columns": null,
            "grid_template_rows": null,
            "height": null,
            "justify_content": null,
            "justify_items": null,
            "left": null,
            "margin": null,
            "max_height": null,
            "max_width": null,
            "min_height": null,
            "min_width": null,
            "object_fit": null,
            "object_position": null,
            "order": null,
            "overflow": null,
            "overflow_x": null,
            "overflow_y": null,
            "padding": null,
            "right": null,
            "top": null,
            "visibility": null,
            "width": null
          }
        },
        "0eea3c6c54904d9494b5415e5ea05d79": {
          "model_module": "@jupyter-widgets/controls",
          "model_module_version": "1.5.0",
          "model_name": "HTMLModel",
          "state": {
            "_dom_classes": [],
            "_model_module": "@jupyter-widgets/controls",
            "_model_module_version": "1.5.0",
            "_model_name": "HTMLModel",
            "_view_count": null,
            "_view_module": "@jupyter-widgets/controls",
            "_view_module_version": "1.5.0",
            "_view_name": "HTMLView",
            "description": "",
            "description_tooltip": null,
            "layout": "IPY_MODEL_8420d902ee814b3fb1d92ee456328e7c",
            "placeholder": "​",
            "style": "IPY_MODEL_af79a8db290b4890822b5add8f1dd943",
            "value": "100%"
          }
        },
        "1896ab78d96144dd8a770aaef74bc1c2": {
          "model_module": "@jupyter-widgets/controls",
          "model_module_version": "1.5.0",
          "model_name": "HTMLModel",
          "state": {
            "_dom_classes": [],
            "_model_module": "@jupyter-widgets/controls",
            "_model_module_version": "1.5.0",
            "_model_name": "HTMLModel",
            "_view_count": null,
            "_view_module": "@jupyter-widgets/controls",
            "_view_module_version": "1.5.0",
            "_view_name": "HTMLView",
            "description": "",
            "description_tooltip": null,
            "layout": "IPY_MODEL_2ed01ab9ca274811803d7551d01a41e5",
            "placeholder": "​",
            "style": "IPY_MODEL_a5fe6a4dc9c447b1bc36fc7014018a5f",
            "value": "100%"
          }
        },
        "2acab8e12e954af9973f78f7f8e74ac9": {
          "model_module": "@jupyter-widgets/controls",
          "model_module_version": "1.5.0",
          "model_name": "FloatProgressModel",
          "state": {
            "_dom_classes": [],
            "_model_module": "@jupyter-widgets/controls",
            "_model_module_version": "1.5.0",
            "_model_name": "FloatProgressModel",
            "_view_count": null,
            "_view_module": "@jupyter-widgets/controls",
            "_view_module_version": "1.5.0",
            "_view_name": "ProgressView",
            "bar_style": "success",
            "description": "",
            "description_tooltip": null,
            "layout": "IPY_MODEL_b097bfda7dcc4799a31d669242f5ad2a",
            "max": 205,
            "min": 0,
            "orientation": "horizontal",
            "style": "IPY_MODEL_5cb9b1a7a1ac45e2991fadc627785b42",
            "value": 205
          }
        },
        "2b28d1d250ca4454828f1dcc1437c94d": {
          "model_module": "@jupyter-widgets/base",
          "model_module_version": "1.2.0",
          "model_name": "LayoutModel",
          "state": {
            "_model_module": "@jupyter-widgets/base",
            "_model_module_version": "1.2.0",
            "_model_name": "LayoutModel",
            "_view_count": null,
            "_view_module": "@jupyter-widgets/base",
            "_view_module_version": "1.2.0",
            "_view_name": "LayoutView",
            "align_content": null,
            "align_items": null,
            "align_self": null,
            "border": null,
            "bottom": null,
            "display": null,
            "flex": null,
            "flex_flow": null,
            "grid_area": null,
            "grid_auto_columns": null,
            "grid_auto_flow": null,
            "grid_auto_rows": null,
            "grid_column": null,
            "grid_gap": null,
            "grid_row": null,
            "grid_template_areas": null,
            "grid_template_columns": null,
            "grid_template_rows": null,
            "height": null,
            "justify_content": null,
            "justify_items": null,
            "left": null,
            "margin": null,
            "max_height": null,
            "max_width": null,
            "min_height": null,
            "min_width": null,
            "object_fit": null,
            "object_position": null,
            "order": null,
            "overflow": null,
            "overflow_x": null,
            "overflow_y": null,
            "padding": null,
            "right": null,
            "top": null,
            "visibility": null,
            "width": null
          }
        },
        "2ed01ab9ca274811803d7551d01a41e5": {
          "model_module": "@jupyter-widgets/base",
          "model_module_version": "1.2.0",
          "model_name": "LayoutModel",
          "state": {
            "_model_module": "@jupyter-widgets/base",
            "_model_module_version": "1.2.0",
            "_model_name": "LayoutModel",
            "_view_count": null,
            "_view_module": "@jupyter-widgets/base",
            "_view_module_version": "1.2.0",
            "_view_name": "LayoutView",
            "align_content": null,
            "align_items": null,
            "align_self": null,
            "border": null,
            "bottom": null,
            "display": null,
            "flex": null,
            "flex_flow": null,
            "grid_area": null,
            "grid_auto_columns": null,
            "grid_auto_flow": null,
            "grid_auto_rows": null,
            "grid_column": null,
            "grid_gap": null,
            "grid_row": null,
            "grid_template_areas": null,
            "grid_template_columns": null,
            "grid_template_rows": null,
            "height": null,
            "justify_content": null,
            "justify_items": null,
            "left": null,
            "margin": null,
            "max_height": null,
            "max_width": null,
            "min_height": null,
            "min_width": null,
            "object_fit": null,
            "object_position": null,
            "order": null,
            "overflow": null,
            "overflow_x": null,
            "overflow_y": null,
            "padding": null,
            "right": null,
            "top": null,
            "visibility": null,
            "width": null
          }
        },
        "35251cf6788e4d4fb4c7f0703f9e3988": {
          "model_module": "@jupyter-widgets/controls",
          "model_module_version": "1.5.0",
          "model_name": "DescriptionStyleModel",
          "state": {
            "_model_module": "@jupyter-widgets/controls",
            "_model_module_version": "1.5.0",
            "_model_name": "DescriptionStyleModel",
            "_view_count": null,
            "_view_module": "@jupyter-widgets/base",
            "_view_module_version": "1.2.0",
            "_view_name": "StyleView",
            "description_width": ""
          }
        },
        "3f66014e407a41a487f689582e04c56e": {
          "model_module": "@jupyter-widgets/controls",
          "model_module_version": "1.5.0",
          "model_name": "HBoxModel",
          "state": {
            "_dom_classes": [],
            "_model_module": "@jupyter-widgets/controls",
            "_model_module_version": "1.5.0",
            "_model_name": "HBoxModel",
            "_view_count": null,
            "_view_module": "@jupyter-widgets/controls",
            "_view_module_version": "1.5.0",
            "_view_name": "HBoxView",
            "box_style": "",
            "children": [
              "IPY_MODEL_4ed81178724d434d85c1b7094dd287c6",
              "IPY_MODEL_be53e1b2479d4dbe9e17242ffea87d2a",
              "IPY_MODEL_f0805383cc544f62ac075554f0f0c1a5"
            ],
            "layout": "IPY_MODEL_947f34129da6426c817c4ae992ad1602"
          }
        },
        "4909d41e569d4135a9b7ee3295cc0e07": {
          "model_module": "@jupyter-widgets/base",
          "model_module_version": "1.2.0",
          "model_name": "LayoutModel",
          "state": {
            "_model_module": "@jupyter-widgets/base",
            "_model_module_version": "1.2.0",
            "_model_name": "LayoutModel",
            "_view_count": null,
            "_view_module": "@jupyter-widgets/base",
            "_view_module_version": "1.2.0",
            "_view_name": "LayoutView",
            "align_content": null,
            "align_items": null,
            "align_self": null,
            "border": null,
            "bottom": null,
            "display": null,
            "flex": null,
            "flex_flow": null,
            "grid_area": null,
            "grid_auto_columns": null,
            "grid_auto_flow": null,
            "grid_auto_rows": null,
            "grid_column": null,
            "grid_gap": null,
            "grid_row": null,
            "grid_template_areas": null,
            "grid_template_columns": null,
            "grid_template_rows": null,
            "height": null,
            "justify_content": null,
            "justify_items": null,
            "left": null,
            "margin": null,
            "max_height": null,
            "max_width": null,
            "min_height": null,
            "min_width": null,
            "object_fit": null,
            "object_position": null,
            "order": null,
            "overflow": null,
            "overflow_x": null,
            "overflow_y": null,
            "padding": null,
            "right": null,
            "top": null,
            "visibility": null,
            "width": null
          }
        },
        "4bd3a9b18b564feeaecfe6b37866e7c8": {
          "model_module": "@jupyter-widgets/base",
          "model_module_version": "1.2.0",
          "model_name": "LayoutModel",
          "state": {
            "_model_module": "@jupyter-widgets/base",
            "_model_module_version": "1.2.0",
            "_model_name": "LayoutModel",
            "_view_count": null,
            "_view_module": "@jupyter-widgets/base",
            "_view_module_version": "1.2.0",
            "_view_name": "LayoutView",
            "align_content": null,
            "align_items": null,
            "align_self": null,
            "border": null,
            "bottom": null,
            "display": null,
            "flex": null,
            "flex_flow": null,
            "grid_area": null,
            "grid_auto_columns": null,
            "grid_auto_flow": null,
            "grid_auto_rows": null,
            "grid_column": null,
            "grid_gap": null,
            "grid_row": null,
            "grid_template_areas": null,
            "grid_template_columns": null,
            "grid_template_rows": null,
            "height": null,
            "justify_content": null,
            "justify_items": null,
            "left": null,
            "margin": null,
            "max_height": null,
            "max_width": null,
            "min_height": null,
            "min_width": null,
            "object_fit": null,
            "object_position": null,
            "order": null,
            "overflow": null,
            "overflow_x": null,
            "overflow_y": null,
            "padding": null,
            "right": null,
            "top": null,
            "visibility": null,
            "width": null
          }
        },
        "4ed81178724d434d85c1b7094dd287c6": {
          "model_module": "@jupyter-widgets/controls",
          "model_module_version": "1.5.0",
          "model_name": "HTMLModel",
          "state": {
            "_dom_classes": [],
            "_model_module": "@jupyter-widgets/controls",
            "_model_module_version": "1.5.0",
            "_model_name": "HTMLModel",
            "_view_count": null,
            "_view_module": "@jupyter-widgets/controls",
            "_view_module_version": "1.5.0",
            "_view_name": "HTMLView",
            "description": "",
            "description_tooltip": null,
            "layout": "IPY_MODEL_e36120bb0036466c9ed8e3f377517d5e",
            "placeholder": "​",
            "style": "IPY_MODEL_dd2dcbe1bbe741aa894004a54a708a40",
            "value": "100%"
          }
        },
        "50624d9ac7874d78a7650520934922bf": {
          "model_module": "@jupyter-widgets/controls",
          "model_module_version": "1.5.0",
          "model_name": "DescriptionStyleModel",
          "state": {
            "_model_module": "@jupyter-widgets/controls",
            "_model_module_version": "1.5.0",
            "_model_name": "DescriptionStyleModel",
            "_view_count": null,
            "_view_module": "@jupyter-widgets/base",
            "_view_module_version": "1.2.0",
            "_view_name": "StyleView",
            "description_width": ""
          }
        },
        "5c087c5aad704e168d71c61631cc3149": {
          "model_module": "@jupyter-widgets/base",
          "model_module_version": "1.2.0",
          "model_name": "LayoutModel",
          "state": {
            "_model_module": "@jupyter-widgets/base",
            "_model_module_version": "1.2.0",
            "_model_name": "LayoutModel",
            "_view_count": null,
            "_view_module": "@jupyter-widgets/base",
            "_view_module_version": "1.2.0",
            "_view_name": "LayoutView",
            "align_content": null,
            "align_items": null,
            "align_self": null,
            "border": null,
            "bottom": null,
            "display": null,
            "flex": null,
            "flex_flow": null,
            "grid_area": null,
            "grid_auto_columns": null,
            "grid_auto_flow": null,
            "grid_auto_rows": null,
            "grid_column": null,
            "grid_gap": null,
            "grid_row": null,
            "grid_template_areas": null,
            "grid_template_columns": null,
            "grid_template_rows": null,
            "height": null,
            "justify_content": null,
            "justify_items": null,
            "left": null,
            "margin": null,
            "max_height": null,
            "max_width": null,
            "min_height": null,
            "min_width": null,
            "object_fit": null,
            "object_position": null,
            "order": null,
            "overflow": null,
            "overflow_x": null,
            "overflow_y": null,
            "padding": null,
            "right": null,
            "top": null,
            "visibility": null,
            "width": null
          }
        },
        "5cb9b1a7a1ac45e2991fadc627785b42": {
          "model_module": "@jupyter-widgets/controls",
          "model_module_version": "1.5.0",
          "model_name": "ProgressStyleModel",
          "state": {
            "_model_module": "@jupyter-widgets/controls",
            "_model_module_version": "1.5.0",
            "_model_name": "ProgressStyleModel",
            "_view_count": null,
            "_view_module": "@jupyter-widgets/base",
            "_view_module_version": "1.2.0",
            "_view_name": "StyleView",
            "bar_color": null,
            "description_width": ""
          }
        },
        "5d2016645a8d4f7d86a3741ec64764ea": {
          "model_module": "@jupyter-widgets/base",
          "model_module_version": "1.2.0",
          "model_name": "LayoutModel",
          "state": {
            "_model_module": "@jupyter-widgets/base",
            "_model_module_version": "1.2.0",
            "_model_name": "LayoutModel",
            "_view_count": null,
            "_view_module": "@jupyter-widgets/base",
            "_view_module_version": "1.2.0",
            "_view_name": "LayoutView",
            "align_content": null,
            "align_items": null,
            "align_self": null,
            "border": null,
            "bottom": null,
            "display": null,
            "flex": null,
            "flex_flow": null,
            "grid_area": null,
            "grid_auto_columns": null,
            "grid_auto_flow": null,
            "grid_auto_rows": null,
            "grid_column": null,
            "grid_gap": null,
            "grid_row": null,
            "grid_template_areas": null,
            "grid_template_columns": null,
            "grid_template_rows": null,
            "height": null,
            "justify_content": null,
            "justify_items": null,
            "left": null,
            "margin": null,
            "max_height": null,
            "max_width": null,
            "min_height": null,
            "min_width": null,
            "object_fit": null,
            "object_position": null,
            "order": null,
            "overflow": null,
            "overflow_x": null,
            "overflow_y": null,
            "padding": null,
            "right": null,
            "top": null,
            "visibility": null,
            "width": null
          }
        },
        "5db1744dd444446db947b001615050e0": {
          "model_module": "@jupyter-widgets/controls",
          "model_module_version": "1.5.0",
          "model_name": "DescriptionStyleModel",
          "state": {
            "_model_module": "@jupyter-widgets/controls",
            "_model_module_version": "1.5.0",
            "_model_name": "DescriptionStyleModel",
            "_view_count": null,
            "_view_module": "@jupyter-widgets/base",
            "_view_module_version": "1.2.0",
            "_view_name": "StyleView",
            "description_width": ""
          }
        },
        "607df3be9acf4cc7a47d45a1f7614b7d": {
          "model_module": "@jupyter-widgets/controls",
          "model_module_version": "1.5.0",
          "model_name": "ProgressStyleModel",
          "state": {
            "_model_module": "@jupyter-widgets/controls",
            "_model_module_version": "1.5.0",
            "_model_name": "ProgressStyleModel",
            "_view_count": null,
            "_view_module": "@jupyter-widgets/base",
            "_view_module_version": "1.2.0",
            "_view_name": "StyleView",
            "bar_color": null,
            "description_width": ""
          }
        },
        "6b0f8149a954454394fdd8d186aeea72": {
          "model_module": "@jupyter-widgets/controls",
          "model_module_version": "1.5.0",
          "model_name": "HBoxModel",
          "state": {
            "_dom_classes": [],
            "_model_module": "@jupyter-widgets/controls",
            "_model_module_version": "1.5.0",
            "_model_name": "HBoxModel",
            "_view_count": null,
            "_view_module": "@jupyter-widgets/controls",
            "_view_module_version": "1.5.0",
            "_view_name": "HBoxView",
            "box_style": "",
            "children": [
              "IPY_MODEL_7419177e6fa54d1d9d42c50bc4869141",
              "IPY_MODEL_2acab8e12e954af9973f78f7f8e74ac9",
              "IPY_MODEL_89feff38c0f249d9be4f2923416effad"
            ],
            "layout": "IPY_MODEL_0bbde9abc5bd4180b9d3af77084df07a"
          }
        },
        "7419177e6fa54d1d9d42c50bc4869141": {
          "model_module": "@jupyter-widgets/controls",
          "model_module_version": "1.5.0",
          "model_name": "HTMLModel",
          "state": {
            "_dom_classes": [],
            "_model_module": "@jupyter-widgets/controls",
            "_model_module_version": "1.5.0",
            "_model_name": "HTMLModel",
            "_view_count": null,
            "_view_module": "@jupyter-widgets/controls",
            "_view_module_version": "1.5.0",
            "_view_name": "HTMLView",
            "description": "",
            "description_tooltip": null,
            "layout": "IPY_MODEL_dc063062cec141c4b8b4ca66a5d2a604",
            "placeholder": "​",
            "style": "IPY_MODEL_e7041f0f66ef451bab04164ee73b011c",
            "value": "100%"
          }
        },
        "7acf87a23e874530abafffcd121b08f1": {
          "model_module": "@jupyter-widgets/controls",
          "model_module_version": "1.5.0",
          "model_name": "ProgressStyleModel",
          "state": {
            "_model_module": "@jupyter-widgets/controls",
            "_model_module_version": "1.5.0",
            "_model_name": "ProgressStyleModel",
            "_view_count": null,
            "_view_module": "@jupyter-widgets/base",
            "_view_module_version": "1.2.0",
            "_view_name": "StyleView",
            "bar_color": null,
            "description_width": ""
          }
        },
        "818eb5607e9b4e82a9832968f6d875cb": {
          "model_module": "@jupyter-widgets/controls",
          "model_module_version": "1.5.0",
          "model_name": "DescriptionStyleModel",
          "state": {
            "_model_module": "@jupyter-widgets/controls",
            "_model_module_version": "1.5.0",
            "_model_name": "DescriptionStyleModel",
            "_view_count": null,
            "_view_module": "@jupyter-widgets/base",
            "_view_module_version": "1.2.0",
            "_view_name": "StyleView",
            "description_width": ""
          }
        },
        "8420d902ee814b3fb1d92ee456328e7c": {
          "model_module": "@jupyter-widgets/base",
          "model_module_version": "1.2.0",
          "model_name": "LayoutModel",
          "state": {
            "_model_module": "@jupyter-widgets/base",
            "_model_module_version": "1.2.0",
            "_model_name": "LayoutModel",
            "_view_count": null,
            "_view_module": "@jupyter-widgets/base",
            "_view_module_version": "1.2.0",
            "_view_name": "LayoutView",
            "align_content": null,
            "align_items": null,
            "align_self": null,
            "border": null,
            "bottom": null,
            "display": null,
            "flex": null,
            "flex_flow": null,
            "grid_area": null,
            "grid_auto_columns": null,
            "grid_auto_flow": null,
            "grid_auto_rows": null,
            "grid_column": null,
            "grid_gap": null,
            "grid_row": null,
            "grid_template_areas": null,
            "grid_template_columns": null,
            "grid_template_rows": null,
            "height": null,
            "justify_content": null,
            "justify_items": null,
            "left": null,
            "margin": null,
            "max_height": null,
            "max_width": null,
            "min_height": null,
            "min_width": null,
            "object_fit": null,
            "object_position": null,
            "order": null,
            "overflow": null,
            "overflow_x": null,
            "overflow_y": null,
            "padding": null,
            "right": null,
            "top": null,
            "visibility": null,
            "width": null
          }
        },
        "89feff38c0f249d9be4f2923416effad": {
          "model_module": "@jupyter-widgets/controls",
          "model_module_version": "1.5.0",
          "model_name": "HTMLModel",
          "state": {
            "_dom_classes": [],
            "_model_module": "@jupyter-widgets/controls",
            "_model_module_version": "1.5.0",
            "_model_name": "HTMLModel",
            "_view_count": null,
            "_view_module": "@jupyter-widgets/controls",
            "_view_module_version": "1.5.0",
            "_view_name": "HTMLView",
            "description": "",
            "description_tooltip": null,
            "layout": "IPY_MODEL_4909d41e569d4135a9b7ee3295cc0e07",
            "placeholder": "​",
            "style": "IPY_MODEL_50624d9ac7874d78a7650520934922bf",
            "value": " 205/205 [02:33&lt;00:00,  1.57it/s]"
          }
        },
        "947f34129da6426c817c4ae992ad1602": {
          "model_module": "@jupyter-widgets/base",
          "model_module_version": "1.2.0",
          "model_name": "LayoutModel",
          "state": {
            "_model_module": "@jupyter-widgets/base",
            "_model_module_version": "1.2.0",
            "_model_name": "LayoutModel",
            "_view_count": null,
            "_view_module": "@jupyter-widgets/base",
            "_view_module_version": "1.2.0",
            "_view_name": "LayoutView",
            "align_content": null,
            "align_items": null,
            "align_self": null,
            "border": null,
            "bottom": null,
            "display": null,
            "flex": null,
            "flex_flow": null,
            "grid_area": null,
            "grid_auto_columns": null,
            "grid_auto_flow": null,
            "grid_auto_rows": null,
            "grid_column": null,
            "grid_gap": null,
            "grid_row": null,
            "grid_template_areas": null,
            "grid_template_columns": null,
            "grid_template_rows": null,
            "height": null,
            "justify_content": null,
            "justify_items": null,
            "left": null,
            "margin": null,
            "max_height": null,
            "max_width": null,
            "min_height": null,
            "min_width": null,
            "object_fit": null,
            "object_position": null,
            "order": null,
            "overflow": null,
            "overflow_x": null,
            "overflow_y": null,
            "padding": null,
            "right": null,
            "top": null,
            "visibility": null,
            "width": null
          }
        },
        "9842ee9085464e1cb06fc5935af81267": {
          "model_module": "@jupyter-widgets/base",
          "model_module_version": "1.2.0",
          "model_name": "LayoutModel",
          "state": {
            "_model_module": "@jupyter-widgets/base",
            "_model_module_version": "1.2.0",
            "_model_name": "LayoutModel",
            "_view_count": null,
            "_view_module": "@jupyter-widgets/base",
            "_view_module_version": "1.2.0",
            "_view_name": "LayoutView",
            "align_content": null,
            "align_items": null,
            "align_self": null,
            "border": null,
            "bottom": null,
            "display": null,
            "flex": null,
            "flex_flow": null,
            "grid_area": null,
            "grid_auto_columns": null,
            "grid_auto_flow": null,
            "grid_auto_rows": null,
            "grid_column": null,
            "grid_gap": null,
            "grid_row": null,
            "grid_template_areas": null,
            "grid_template_columns": null,
            "grid_template_rows": null,
            "height": null,
            "justify_content": null,
            "justify_items": null,
            "left": null,
            "margin": null,
            "max_height": null,
            "max_width": null,
            "min_height": null,
            "min_width": null,
            "object_fit": null,
            "object_position": null,
            "order": null,
            "overflow": null,
            "overflow_x": null,
            "overflow_y": null,
            "padding": null,
            "right": null,
            "top": null,
            "visibility": null,
            "width": null
          }
        },
        "a1a73f221fa840ad84aec7dc7d6f7913": {
          "model_module": "@jupyter-widgets/controls",
          "model_module_version": "1.5.0",
          "model_name": "ProgressStyleModel",
          "state": {
            "_model_module": "@jupyter-widgets/controls",
            "_model_module_version": "1.5.0",
            "_model_name": "ProgressStyleModel",
            "_view_count": null,
            "_view_module": "@jupyter-widgets/base",
            "_view_module_version": "1.2.0",
            "_view_name": "StyleView",
            "bar_color": null,
            "description_width": ""
          }
        },
        "a5fe6a4dc9c447b1bc36fc7014018a5f": {
          "model_module": "@jupyter-widgets/controls",
          "model_module_version": "1.5.0",
          "model_name": "DescriptionStyleModel",
          "state": {
            "_model_module": "@jupyter-widgets/controls",
            "_model_module_version": "1.5.0",
            "_model_name": "DescriptionStyleModel",
            "_view_count": null,
            "_view_module": "@jupyter-widgets/base",
            "_view_module_version": "1.2.0",
            "_view_name": "StyleView",
            "description_width": ""
          }
        },
        "ade2f8acf65247b0a96f2c8249a772f6": {
          "model_module": "@jupyter-widgets/controls",
          "model_module_version": "1.5.0",
          "model_name": "FloatProgressModel",
          "state": {
            "_dom_classes": [],
            "_model_module": "@jupyter-widgets/controls",
            "_model_module_version": "1.5.0",
            "_model_name": "FloatProgressModel",
            "_view_count": null,
            "_view_module": "@jupyter-widgets/controls",
            "_view_module_version": "1.5.0",
            "_view_name": "ProgressView",
            "bar_style": "success",
            "description": "",
            "description_tooltip": null,
            "layout": "IPY_MODEL_fda1381d676243c6b06d9f4da180d8af",
            "max": 60,
            "min": 0,
            "orientation": "horizontal",
            "style": "IPY_MODEL_607df3be9acf4cc7a47d45a1f7614b7d",
            "value": 60
          }
        },
        "af79a8db290b4890822b5add8f1dd943": {
          "model_module": "@jupyter-widgets/controls",
          "model_module_version": "1.5.0",
          "model_name": "DescriptionStyleModel",
          "state": {
            "_model_module": "@jupyter-widgets/controls",
            "_model_module_version": "1.5.0",
            "_model_name": "DescriptionStyleModel",
            "_view_count": null,
            "_view_module": "@jupyter-widgets/base",
            "_view_module_version": "1.2.0",
            "_view_name": "StyleView",
            "description_width": ""
          }
        },
        "b097bfda7dcc4799a31d669242f5ad2a": {
          "model_module": "@jupyter-widgets/base",
          "model_module_version": "1.2.0",
          "model_name": "LayoutModel",
          "state": {
            "_model_module": "@jupyter-widgets/base",
            "_model_module_version": "1.2.0",
            "_model_name": "LayoutModel",
            "_view_count": null,
            "_view_module": "@jupyter-widgets/base",
            "_view_module_version": "1.2.0",
            "_view_name": "LayoutView",
            "align_content": null,
            "align_items": null,
            "align_self": null,
            "border": null,
            "bottom": null,
            "display": null,
            "flex": null,
            "flex_flow": null,
            "grid_area": null,
            "grid_auto_columns": null,
            "grid_auto_flow": null,
            "grid_auto_rows": null,
            "grid_column": null,
            "grid_gap": null,
            "grid_row": null,
            "grid_template_areas": null,
            "grid_template_columns": null,
            "grid_template_rows": null,
            "height": null,
            "justify_content": null,
            "justify_items": null,
            "left": null,
            "margin": null,
            "max_height": null,
            "max_width": null,
            "min_height": null,
            "min_width": null,
            "object_fit": null,
            "object_position": null,
            "order": null,
            "overflow": null,
            "overflow_x": null,
            "overflow_y": null,
            "padding": null,
            "right": null,
            "top": null,
            "visibility": null,
            "width": null
          }
        },
        "b0a96062c3914ff2bed6575395b7d435": {
          "model_module": "@jupyter-widgets/controls",
          "model_module_version": "1.5.0",
          "model_name": "HBoxModel",
          "state": {
            "_dom_classes": [],
            "_model_module": "@jupyter-widgets/controls",
            "_model_module_version": "1.5.0",
            "_model_name": "HBoxModel",
            "_view_count": null,
            "_view_module": "@jupyter-widgets/controls",
            "_view_module_version": "1.5.0",
            "_view_name": "HBoxView",
            "box_style": "",
            "children": [
              "IPY_MODEL_1896ab78d96144dd8a770aaef74bc1c2",
              "IPY_MODEL_cb778c1e494f4326a0ab90febf249609",
              "IPY_MODEL_f004a44a35ef439f9818d3b5575310e9"
            ],
            "layout": "IPY_MODEL_9842ee9085464e1cb06fc5935af81267"
          }
        },
        "bb5474425dce466fafcd1e4001200955": {
          "model_module": "@jupyter-widgets/controls",
          "model_module_version": "1.5.0",
          "model_name": "HTMLModel",
          "state": {
            "_dom_classes": [],
            "_model_module": "@jupyter-widgets/controls",
            "_model_module_version": "1.5.0",
            "_model_name": "HTMLModel",
            "_view_count": null,
            "_view_module": "@jupyter-widgets/controls",
            "_view_module_version": "1.5.0",
            "_view_name": "HTMLView",
            "description": "",
            "description_tooltip": null,
            "layout": "IPY_MODEL_2b28d1d250ca4454828f1dcc1437c94d",
            "placeholder": "​",
            "style": "IPY_MODEL_818eb5607e9b4e82a9832968f6d875cb",
            "value": " 60/60 [00:20&lt;00:00,  3.16it/s]"
          }
        },
        "be53e1b2479d4dbe9e17242ffea87d2a": {
          "model_module": "@jupyter-widgets/controls",
          "model_module_version": "1.5.0",
          "model_name": "FloatProgressModel",
          "state": {
            "_dom_classes": [],
            "_model_module": "@jupyter-widgets/controls",
            "_model_module_version": "1.5.0",
            "_model_name": "FloatProgressModel",
            "_view_count": null,
            "_view_module": "@jupyter-widgets/controls",
            "_view_module_version": "1.5.0",
            "_view_name": "ProgressView",
            "bar_style": "success",
            "description": "",
            "description_tooltip": null,
            "layout": "IPY_MODEL_e522cdbf82cc4d54b3aad6e7f3ddc65c",
            "max": 236,
            "min": 0,
            "orientation": "horizontal",
            "style": "IPY_MODEL_a1a73f221fa840ad84aec7dc7d6f7913",
            "value": 236
          }
        },
        "cb778c1e494f4326a0ab90febf249609": {
          "model_module": "@jupyter-widgets/controls",
          "model_module_version": "1.5.0",
          "model_name": "FloatProgressModel",
          "state": {
            "_dom_classes": [],
            "_model_module": "@jupyter-widgets/controls",
            "_model_module_version": "1.5.0",
            "_model_name": "FloatProgressModel",
            "_view_count": null,
            "_view_module": "@jupyter-widgets/controls",
            "_view_module_version": "1.5.0",
            "_view_name": "ProgressView",
            "bar_style": "success",
            "description": "",
            "description_tooltip": null,
            "layout": "IPY_MODEL_4bd3a9b18b564feeaecfe6b37866e7c8",
            "max": 205,
            "min": 0,
            "orientation": "horizontal",
            "style": "IPY_MODEL_7acf87a23e874530abafffcd121b08f1",
            "value": 205
          }
        },
        "dc063062cec141c4b8b4ca66a5d2a604": {
          "model_module": "@jupyter-widgets/base",
          "model_module_version": "1.2.0",
          "model_name": "LayoutModel",
          "state": {
            "_model_module": "@jupyter-widgets/base",
            "_model_module_version": "1.2.0",
            "_model_name": "LayoutModel",
            "_view_count": null,
            "_view_module": "@jupyter-widgets/base",
            "_view_module_version": "1.2.0",
            "_view_name": "LayoutView",
            "align_content": null,
            "align_items": null,
            "align_self": null,
            "border": null,
            "bottom": null,
            "display": null,
            "flex": null,
            "flex_flow": null,
            "grid_area": null,
            "grid_auto_columns": null,
            "grid_auto_flow": null,
            "grid_auto_rows": null,
            "grid_column": null,
            "grid_gap": null,
            "grid_row": null,
            "grid_template_areas": null,
            "grid_template_columns": null,
            "grid_template_rows": null,
            "height": null,
            "justify_content": null,
            "justify_items": null,
            "left": null,
            "margin": null,
            "max_height": null,
            "max_width": null,
            "min_height": null,
            "min_width": null,
            "object_fit": null,
            "object_position": null,
            "order": null,
            "overflow": null,
            "overflow_x": null,
            "overflow_y": null,
            "padding": null,
            "right": null,
            "top": null,
            "visibility": null,
            "width": null
          }
        },
        "dd2dcbe1bbe741aa894004a54a708a40": {
          "model_module": "@jupyter-widgets/controls",
          "model_module_version": "1.5.0",
          "model_name": "DescriptionStyleModel",
          "state": {
            "_model_module": "@jupyter-widgets/controls",
            "_model_module_version": "1.5.0",
            "_model_name": "DescriptionStyleModel",
            "_view_count": null,
            "_view_module": "@jupyter-widgets/base",
            "_view_module_version": "1.2.0",
            "_view_name": "StyleView",
            "description_width": ""
          }
        },
        "e36120bb0036466c9ed8e3f377517d5e": {
          "model_module": "@jupyter-widgets/base",
          "model_module_version": "1.2.0",
          "model_name": "LayoutModel",
          "state": {
            "_model_module": "@jupyter-widgets/base",
            "_model_module_version": "1.2.0",
            "_model_name": "LayoutModel",
            "_view_count": null,
            "_view_module": "@jupyter-widgets/base",
            "_view_module_version": "1.2.0",
            "_view_name": "LayoutView",
            "align_content": null,
            "align_items": null,
            "align_self": null,
            "border": null,
            "bottom": null,
            "display": null,
            "flex": null,
            "flex_flow": null,
            "grid_area": null,
            "grid_auto_columns": null,
            "grid_auto_flow": null,
            "grid_auto_rows": null,
            "grid_column": null,
            "grid_gap": null,
            "grid_row": null,
            "grid_template_areas": null,
            "grid_template_columns": null,
            "grid_template_rows": null,
            "height": null,
            "justify_content": null,
            "justify_items": null,
            "left": null,
            "margin": null,
            "max_height": null,
            "max_width": null,
            "min_height": null,
            "min_width": null,
            "object_fit": null,
            "object_position": null,
            "order": null,
            "overflow": null,
            "overflow_x": null,
            "overflow_y": null,
            "padding": null,
            "right": null,
            "top": null,
            "visibility": null,
            "width": null
          }
        },
        "e522cdbf82cc4d54b3aad6e7f3ddc65c": {
          "model_module": "@jupyter-widgets/base",
          "model_module_version": "1.2.0",
          "model_name": "LayoutModel",
          "state": {
            "_model_module": "@jupyter-widgets/base",
            "_model_module_version": "1.2.0",
            "_model_name": "LayoutModel",
            "_view_count": null,
            "_view_module": "@jupyter-widgets/base",
            "_view_module_version": "1.2.0",
            "_view_name": "LayoutView",
            "align_content": null,
            "align_items": null,
            "align_self": null,
            "border": null,
            "bottom": null,
            "display": null,
            "flex": null,
            "flex_flow": null,
            "grid_area": null,
            "grid_auto_columns": null,
            "grid_auto_flow": null,
            "grid_auto_rows": null,
            "grid_column": null,
            "grid_gap": null,
            "grid_row": null,
            "grid_template_areas": null,
            "grid_template_columns": null,
            "grid_template_rows": null,
            "height": null,
            "justify_content": null,
            "justify_items": null,
            "left": null,
            "margin": null,
            "max_height": null,
            "max_width": null,
            "min_height": null,
            "min_width": null,
            "object_fit": null,
            "object_position": null,
            "order": null,
            "overflow": null,
            "overflow_x": null,
            "overflow_y": null,
            "padding": null,
            "right": null,
            "top": null,
            "visibility": null,
            "width": null
          }
        },
        "e7041f0f66ef451bab04164ee73b011c": {
          "model_module": "@jupyter-widgets/controls",
          "model_module_version": "1.5.0",
          "model_name": "DescriptionStyleModel",
          "state": {
            "_model_module": "@jupyter-widgets/controls",
            "_model_module_version": "1.5.0",
            "_model_name": "DescriptionStyleModel",
            "_view_count": null,
            "_view_module": "@jupyter-widgets/base",
            "_view_module_version": "1.2.0",
            "_view_name": "StyleView",
            "description_width": ""
          }
        },
        "f004a44a35ef439f9818d3b5575310e9": {
          "model_module": "@jupyter-widgets/controls",
          "model_module_version": "1.5.0",
          "model_name": "HTMLModel",
          "state": {
            "_dom_classes": [],
            "_model_module": "@jupyter-widgets/controls",
            "_model_module_version": "1.5.0",
            "_model_name": "HTMLModel",
            "_view_count": null,
            "_view_module": "@jupyter-widgets/controls",
            "_view_module_version": "1.5.0",
            "_view_name": "HTMLView",
            "description": "",
            "description_tooltip": null,
            "layout": "IPY_MODEL_5c087c5aad704e168d71c61631cc3149",
            "placeholder": "​",
            "style": "IPY_MODEL_35251cf6788e4d4fb4c7f0703f9e3988",
            "value": " 205/205 [02:06&lt;00:00,  1.33it/s]"
          }
        },
        "f015971ec3e247be928ee498f696862e": {
          "model_module": "@jupyter-widgets/base",
          "model_module_version": "1.2.0",
          "model_name": "LayoutModel",
          "state": {
            "_model_module": "@jupyter-widgets/base",
            "_model_module_version": "1.2.0",
            "_model_name": "LayoutModel",
            "_view_count": null,
            "_view_module": "@jupyter-widgets/base",
            "_view_module_version": "1.2.0",
            "_view_name": "LayoutView",
            "align_content": null,
            "align_items": null,
            "align_self": null,
            "border": null,
            "bottom": null,
            "display": null,
            "flex": null,
            "flex_flow": null,
            "grid_area": null,
            "grid_auto_columns": null,
            "grid_auto_flow": null,
            "grid_auto_rows": null,
            "grid_column": null,
            "grid_gap": null,
            "grid_row": null,
            "grid_template_areas": null,
            "grid_template_columns": null,
            "grid_template_rows": null,
            "height": null,
            "justify_content": null,
            "justify_items": null,
            "left": null,
            "margin": null,
            "max_height": null,
            "max_width": null,
            "min_height": null,
            "min_width": null,
            "object_fit": null,
            "object_position": null,
            "order": null,
            "overflow": null,
            "overflow_x": null,
            "overflow_y": null,
            "padding": null,
            "right": null,
            "top": null,
            "visibility": null,
            "width": null
          }
        },
        "f0805383cc544f62ac075554f0f0c1a5": {
          "model_module": "@jupyter-widgets/controls",
          "model_module_version": "1.5.0",
          "model_name": "HTMLModel",
          "state": {
            "_dom_classes": [],
            "_model_module": "@jupyter-widgets/controls",
            "_model_module_version": "1.5.0",
            "_model_name": "HTMLModel",
            "_view_count": null,
            "_view_module": "@jupyter-widgets/controls",
            "_view_module_version": "1.5.0",
            "_view_name": "HTMLView",
            "description": "",
            "description_tooltip": null,
            "layout": "IPY_MODEL_5d2016645a8d4f7d86a3741ec64764ea",
            "placeholder": "​",
            "style": "IPY_MODEL_5db1744dd444446db947b001615050e0",
            "value": " 236/236 [01:17&lt;00:00,  3.10it/s]"
          }
        },
        "f1415b32dae44023a6bc79699ed6f271": {
          "model_module": "@jupyter-widgets/controls",
          "model_module_version": "1.5.0",
          "model_name": "HBoxModel",
          "state": {
            "_dom_classes": [],
            "_model_module": "@jupyter-widgets/controls",
            "_model_module_version": "1.5.0",
            "_model_name": "HBoxModel",
            "_view_count": null,
            "_view_module": "@jupyter-widgets/controls",
            "_view_module_version": "1.5.0",
            "_view_name": "HBoxView",
            "box_style": "",
            "children": [
              "IPY_MODEL_0eea3c6c54904d9494b5415e5ea05d79",
              "IPY_MODEL_ade2f8acf65247b0a96f2c8249a772f6",
              "IPY_MODEL_bb5474425dce466fafcd1e4001200955"
            ],
            "layout": "IPY_MODEL_f015971ec3e247be928ee498f696862e"
          }
        },
        "fda1381d676243c6b06d9f4da180d8af": {
          "model_module": "@jupyter-widgets/base",
          "model_module_version": "1.2.0",
          "model_name": "LayoutModel",
          "state": {
            "_model_module": "@jupyter-widgets/base",
            "_model_module_version": "1.2.0",
            "_model_name": "LayoutModel",
            "_view_count": null,
            "_view_module": "@jupyter-widgets/base",
            "_view_module_version": "1.2.0",
            "_view_name": "LayoutView",
            "align_content": null,
            "align_items": null,
            "align_self": null,
            "border": null,
            "bottom": null,
            "display": null,
            "flex": null,
            "flex_flow": null,
            "grid_area": null,
            "grid_auto_columns": null,
            "grid_auto_flow": null,
            "grid_auto_rows": null,
            "grid_column": null,
            "grid_gap": null,
            "grid_row": null,
            "grid_template_areas": null,
            "grid_template_columns": null,
            "grid_template_rows": null,
            "height": null,
            "justify_content": null,
            "justify_items": null,
            "left": null,
            "margin": null,
            "max_height": null,
            "max_width": null,
            "min_height": null,
            "min_width": null,
            "object_fit": null,
            "object_position": null,
            "order": null,
            "overflow": null,
            "overflow_x": null,
            "overflow_y": null,
            "padding": null,
            "right": null,
            "top": null,
            "visibility": null,
            "width": null
          }
        }
      }
    }
  },
  "nbformat": 4,
  "nbformat_minor": 0
}
